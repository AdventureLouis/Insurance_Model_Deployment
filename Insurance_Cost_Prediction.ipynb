{
 "cells": [
  {
   "cell_type": "code",
   "execution_count": 2,
   "id": "d54ce281",
   "metadata": {},
   "outputs": [],
   "source": [
    "import pandas as pd\n",
    "from numpy import math\n",
    "import numpy as np\n",
    "from sklearn.model_selection import train_test_split\n",
    "from sklearn.metrics import r2_score\n",
    "from sklearn.metrics import mean_squared_error\n",
    "from sklearn.preprocessing import StandardScaler\n",
    "from sklearn.linear_model import LinearRegression\n",
    "import pickle"
   ]
  },
  {
   "cell_type": "code",
   "execution_count": 144,
   "id": "cd4fa75f",
   "metadata": {},
   "outputs": [],
   "source": [
    "df=pd.read_csv('insurance.csv')"
   ]
  },
  {
   "cell_type": "code",
   "execution_count": 145,
   "id": "8a96979c",
   "metadata": {},
   "outputs": [
    {
     "data": {
      "text/html": [
       "<div>\n",
       "<style scoped>\n",
       "    .dataframe tbody tr th:only-of-type {\n",
       "        vertical-align: middle;\n",
       "    }\n",
       "\n",
       "    .dataframe tbody tr th {\n",
       "        vertical-align: top;\n",
       "    }\n",
       "\n",
       "    .dataframe thead th {\n",
       "        text-align: right;\n",
       "    }\n",
       "</style>\n",
       "<table border=\"1\" class=\"dataframe\">\n",
       "  <thead>\n",
       "    <tr style=\"text-align: right;\">\n",
       "      <th></th>\n",
       "      <th>age</th>\n",
       "      <th>sex</th>\n",
       "      <th>New_Sex</th>\n",
       "      <th>bmi</th>\n",
       "      <th>children</th>\n",
       "      <th>smoker</th>\n",
       "      <th>New_Smoker</th>\n",
       "      <th>region</th>\n",
       "      <th>New_Region</th>\n",
       "      <th>charges</th>\n",
       "    </tr>\n",
       "  </thead>\n",
       "  <tbody>\n",
       "    <tr>\n",
       "      <th>0</th>\n",
       "      <td>19</td>\n",
       "      <td>female</td>\n",
       "      <td>0</td>\n",
       "      <td>27.900</td>\n",
       "      <td>0</td>\n",
       "      <td>yes</td>\n",
       "      <td>1</td>\n",
       "      <td>southwest</td>\n",
       "      <td>3</td>\n",
       "      <td>16884.92400</td>\n",
       "    </tr>\n",
       "    <tr>\n",
       "      <th>1</th>\n",
       "      <td>18</td>\n",
       "      <td>male</td>\n",
       "      <td>1</td>\n",
       "      <td>33.770</td>\n",
       "      <td>1</td>\n",
       "      <td>no</td>\n",
       "      <td>0</td>\n",
       "      <td>southeast</td>\n",
       "      <td>2</td>\n",
       "      <td>1725.55230</td>\n",
       "    </tr>\n",
       "    <tr>\n",
       "      <th>2</th>\n",
       "      <td>28</td>\n",
       "      <td>male</td>\n",
       "      <td>1</td>\n",
       "      <td>33.000</td>\n",
       "      <td>3</td>\n",
       "      <td>no</td>\n",
       "      <td>0</td>\n",
       "      <td>southeast</td>\n",
       "      <td>2</td>\n",
       "      <td>4449.46200</td>\n",
       "    </tr>\n",
       "    <tr>\n",
       "      <th>3</th>\n",
       "      <td>33</td>\n",
       "      <td>male</td>\n",
       "      <td>1</td>\n",
       "      <td>22.705</td>\n",
       "      <td>0</td>\n",
       "      <td>no</td>\n",
       "      <td>0</td>\n",
       "      <td>northwest</td>\n",
       "      <td>1</td>\n",
       "      <td>21984.47061</td>\n",
       "    </tr>\n",
       "    <tr>\n",
       "      <th>4</th>\n",
       "      <td>32</td>\n",
       "      <td>male</td>\n",
       "      <td>1</td>\n",
       "      <td>28.880</td>\n",
       "      <td>0</td>\n",
       "      <td>no</td>\n",
       "      <td>0</td>\n",
       "      <td>northwest</td>\n",
       "      <td>1</td>\n",
       "      <td>3866.85520</td>\n",
       "    </tr>\n",
       "  </tbody>\n",
       "</table>\n",
       "</div>"
      ],
      "text/plain": [
       "   age     sex  New_Sex     bmi  children smoker  New_Smoker     region  \\\n",
       "0   19  female        0  27.900         0    yes           1  southwest   \n",
       "1   18    male        1  33.770         1     no           0  southeast   \n",
       "2   28    male        1  33.000         3     no           0  southeast   \n",
       "3   33    male        1  22.705         0     no           0  northwest   \n",
       "4   32    male        1  28.880         0     no           0  northwest   \n",
       "\n",
       "   New_Region      charges  \n",
       "0           3  16884.92400  \n",
       "1           2   1725.55230  \n",
       "2           2   4449.46200  \n",
       "3           1  21984.47061  \n",
       "4           1   3866.85520  "
      ]
     },
     "execution_count": 145,
     "metadata": {},
     "output_type": "execute_result"
    }
   ],
   "source": [
    "df.head(5)"
   ]
  },
  {
   "cell_type": "code",
   "execution_count": 146,
   "id": "b2567f9c",
   "metadata": {},
   "outputs": [],
   "source": [
    "# While in excel,I already encoded sex,smoker and region to New_sex,New_smoker and New_Region respectively \n",
    "# so that computer  can understand for machine learning task in regression"
   ]
  },
  {
   "cell_type": "code",
   "execution_count": 147,
   "id": "103b5fd6",
   "metadata": {},
   "outputs": [],
   "source": [
    "# So drop uneccessary columns\n",
    "df=df.drop(['sex','smoker','region'],axis=1)"
   ]
  },
  {
   "cell_type": "code",
   "execution_count": 148,
   "id": "73aaa22e",
   "metadata": {},
   "outputs": [
    {
     "data": {
      "text/plain": [
       "(1338, 7)"
      ]
     },
     "execution_count": 148,
     "metadata": {},
     "output_type": "execute_result"
    }
   ],
   "source": [
    "df.shape"
   ]
  },
  {
   "cell_type": "code",
   "execution_count": 149,
   "id": "e42ab58a",
   "metadata": {},
   "outputs": [
    {
     "data": {
      "text/html": [
       "<div>\n",
       "<style scoped>\n",
       "    .dataframe tbody tr th:only-of-type {\n",
       "        vertical-align: middle;\n",
       "    }\n",
       "\n",
       "    .dataframe tbody tr th {\n",
       "        vertical-align: top;\n",
       "    }\n",
       "\n",
       "    .dataframe thead th {\n",
       "        text-align: right;\n",
       "    }\n",
       "</style>\n",
       "<table border=\"1\" class=\"dataframe\">\n",
       "  <thead>\n",
       "    <tr style=\"text-align: right;\">\n",
       "      <th></th>\n",
       "      <th>age</th>\n",
       "      <th>New_Sex</th>\n",
       "      <th>bmi</th>\n",
       "      <th>children</th>\n",
       "      <th>New_Smoker</th>\n",
       "      <th>New_Region</th>\n",
       "      <th>charges</th>\n",
       "    </tr>\n",
       "  </thead>\n",
       "  <tbody>\n",
       "    <tr>\n",
       "      <th>0</th>\n",
       "      <td>19</td>\n",
       "      <td>0</td>\n",
       "      <td>27.900</td>\n",
       "      <td>0</td>\n",
       "      <td>1</td>\n",
       "      <td>3</td>\n",
       "      <td>16884.92400</td>\n",
       "    </tr>\n",
       "    <tr>\n",
       "      <th>1</th>\n",
       "      <td>18</td>\n",
       "      <td>1</td>\n",
       "      <td>33.770</td>\n",
       "      <td>1</td>\n",
       "      <td>0</td>\n",
       "      <td>2</td>\n",
       "      <td>1725.55230</td>\n",
       "    </tr>\n",
       "    <tr>\n",
       "      <th>2</th>\n",
       "      <td>28</td>\n",
       "      <td>1</td>\n",
       "      <td>33.000</td>\n",
       "      <td>3</td>\n",
       "      <td>0</td>\n",
       "      <td>2</td>\n",
       "      <td>4449.46200</td>\n",
       "    </tr>\n",
       "    <tr>\n",
       "      <th>3</th>\n",
       "      <td>33</td>\n",
       "      <td>1</td>\n",
       "      <td>22.705</td>\n",
       "      <td>0</td>\n",
       "      <td>0</td>\n",
       "      <td>1</td>\n",
       "      <td>21984.47061</td>\n",
       "    </tr>\n",
       "    <tr>\n",
       "      <th>4</th>\n",
       "      <td>32</td>\n",
       "      <td>1</td>\n",
       "      <td>28.880</td>\n",
       "      <td>0</td>\n",
       "      <td>0</td>\n",
       "      <td>1</td>\n",
       "      <td>3866.85520</td>\n",
       "    </tr>\n",
       "    <tr>\n",
       "      <th>...</th>\n",
       "      <td>...</td>\n",
       "      <td>...</td>\n",
       "      <td>...</td>\n",
       "      <td>...</td>\n",
       "      <td>...</td>\n",
       "      <td>...</td>\n",
       "      <td>...</td>\n",
       "    </tr>\n",
       "    <tr>\n",
       "      <th>1333</th>\n",
       "      <td>50</td>\n",
       "      <td>1</td>\n",
       "      <td>30.970</td>\n",
       "      <td>3</td>\n",
       "      <td>0</td>\n",
       "      <td>1</td>\n",
       "      <td>10600.54830</td>\n",
       "    </tr>\n",
       "    <tr>\n",
       "      <th>1334</th>\n",
       "      <td>18</td>\n",
       "      <td>0</td>\n",
       "      <td>31.920</td>\n",
       "      <td>0</td>\n",
       "      <td>0</td>\n",
       "      <td>0</td>\n",
       "      <td>2205.98080</td>\n",
       "    </tr>\n",
       "    <tr>\n",
       "      <th>1335</th>\n",
       "      <td>18</td>\n",
       "      <td>0</td>\n",
       "      <td>36.850</td>\n",
       "      <td>0</td>\n",
       "      <td>0</td>\n",
       "      <td>2</td>\n",
       "      <td>1629.83350</td>\n",
       "    </tr>\n",
       "    <tr>\n",
       "      <th>1336</th>\n",
       "      <td>21</td>\n",
       "      <td>0</td>\n",
       "      <td>25.800</td>\n",
       "      <td>0</td>\n",
       "      <td>0</td>\n",
       "      <td>3</td>\n",
       "      <td>2007.94500</td>\n",
       "    </tr>\n",
       "    <tr>\n",
       "      <th>1337</th>\n",
       "      <td>61</td>\n",
       "      <td>0</td>\n",
       "      <td>29.070</td>\n",
       "      <td>0</td>\n",
       "      <td>1</td>\n",
       "      <td>1</td>\n",
       "      <td>29141.36030</td>\n",
       "    </tr>\n",
       "  </tbody>\n",
       "</table>\n",
       "<p>1338 rows × 7 columns</p>\n",
       "</div>"
      ],
      "text/plain": [
       "      age  New_Sex     bmi  children  New_Smoker  New_Region      charges\n",
       "0      19        0  27.900         0           1           3  16884.92400\n",
       "1      18        1  33.770         1           0           2   1725.55230\n",
       "2      28        1  33.000         3           0           2   4449.46200\n",
       "3      33        1  22.705         0           0           1  21984.47061\n",
       "4      32        1  28.880         0           0           1   3866.85520\n",
       "...   ...      ...     ...       ...         ...         ...          ...\n",
       "1333   50        1  30.970         3           0           1  10600.54830\n",
       "1334   18        0  31.920         0           0           0   2205.98080\n",
       "1335   18        0  36.850         0           0           2   1629.83350\n",
       "1336   21        0  25.800         0           0           3   2007.94500\n",
       "1337   61        0  29.070         0           1           1  29141.36030\n",
       "\n",
       "[1338 rows x 7 columns]"
      ]
     },
     "execution_count": 149,
     "metadata": {},
     "output_type": "execute_result"
    }
   ],
   "source": [
    "df"
   ]
  },
  {
   "cell_type": "markdown",
   "id": "75c75626",
   "metadata": {},
   "source": [
    "### Data Exploration"
   ]
  },
  {
   "cell_type": "markdown",
   "id": "c0f98c0c",
   "metadata": {},
   "source": [
    "### Find correlation between variables\n"
   ]
  },
  {
   "cell_type": "code",
   "execution_count": 115,
   "id": "15b74e23",
   "metadata": {},
   "outputs": [
    {
     "data": {
      "text/html": [
       "<div>\n",
       "<style scoped>\n",
       "    .dataframe tbody tr th:only-of-type {\n",
       "        vertical-align: middle;\n",
       "    }\n",
       "\n",
       "    .dataframe tbody tr th {\n",
       "        vertical-align: top;\n",
       "    }\n",
       "\n",
       "    .dataframe thead th {\n",
       "        text-align: right;\n",
       "    }\n",
       "</style>\n",
       "<table border=\"1\" class=\"dataframe\">\n",
       "  <thead>\n",
       "    <tr style=\"text-align: right;\">\n",
       "      <th></th>\n",
       "      <th>age</th>\n",
       "      <th>New_Sex</th>\n",
       "      <th>bmi</th>\n",
       "      <th>children</th>\n",
       "      <th>New_Smoker</th>\n",
       "      <th>New_Region</th>\n",
       "      <th>charges</th>\n",
       "    </tr>\n",
       "  </thead>\n",
       "  <tbody>\n",
       "    <tr>\n",
       "      <th>age</th>\n",
       "      <td>1.000000</td>\n",
       "      <td>-0.020856</td>\n",
       "      <td>0.109272</td>\n",
       "      <td>0.042469</td>\n",
       "      <td>-0.025019</td>\n",
       "      <td>0.002127</td>\n",
       "      <td>0.299008</td>\n",
       "    </tr>\n",
       "    <tr>\n",
       "      <th>New_Sex</th>\n",
       "      <td>-0.020856</td>\n",
       "      <td>1.000000</td>\n",
       "      <td>0.046371</td>\n",
       "      <td>0.017163</td>\n",
       "      <td>0.076185</td>\n",
       "      <td>0.004588</td>\n",
       "      <td>0.057292</td>\n",
       "    </tr>\n",
       "    <tr>\n",
       "      <th>bmi</th>\n",
       "      <td>0.109272</td>\n",
       "      <td>0.046371</td>\n",
       "      <td>1.000000</td>\n",
       "      <td>0.012759</td>\n",
       "      <td>0.003750</td>\n",
       "      <td>0.157566</td>\n",
       "      <td>0.198341</td>\n",
       "    </tr>\n",
       "    <tr>\n",
       "      <th>children</th>\n",
       "      <td>0.042469</td>\n",
       "      <td>0.017163</td>\n",
       "      <td>0.012759</td>\n",
       "      <td>1.000000</td>\n",
       "      <td>0.007673</td>\n",
       "      <td>0.016569</td>\n",
       "      <td>0.067998</td>\n",
       "    </tr>\n",
       "    <tr>\n",
       "      <th>New_Smoker</th>\n",
       "      <td>-0.025019</td>\n",
       "      <td>0.076185</td>\n",
       "      <td>0.003750</td>\n",
       "      <td>0.007673</td>\n",
       "      <td>1.000000</td>\n",
       "      <td>-0.002181</td>\n",
       "      <td>0.787251</td>\n",
       "    </tr>\n",
       "    <tr>\n",
       "      <th>New_Region</th>\n",
       "      <td>0.002127</td>\n",
       "      <td>0.004588</td>\n",
       "      <td>0.157566</td>\n",
       "      <td>0.016569</td>\n",
       "      <td>-0.002181</td>\n",
       "      <td>1.000000</td>\n",
       "      <td>-0.006208</td>\n",
       "    </tr>\n",
       "    <tr>\n",
       "      <th>charges</th>\n",
       "      <td>0.299008</td>\n",
       "      <td>0.057292</td>\n",
       "      <td>0.198341</td>\n",
       "      <td>0.067998</td>\n",
       "      <td>0.787251</td>\n",
       "      <td>-0.006208</td>\n",
       "      <td>1.000000</td>\n",
       "    </tr>\n",
       "  </tbody>\n",
       "</table>\n",
       "</div>"
      ],
      "text/plain": [
       "                 age   New_Sex       bmi  children  New_Smoker  New_Region  \\\n",
       "age         1.000000 -0.020856  0.109272  0.042469   -0.025019    0.002127   \n",
       "New_Sex    -0.020856  1.000000  0.046371  0.017163    0.076185    0.004588   \n",
       "bmi         0.109272  0.046371  1.000000  0.012759    0.003750    0.157566   \n",
       "children    0.042469  0.017163  0.012759  1.000000    0.007673    0.016569   \n",
       "New_Smoker -0.025019  0.076185  0.003750  0.007673    1.000000   -0.002181   \n",
       "New_Region  0.002127  0.004588  0.157566  0.016569   -0.002181    1.000000   \n",
       "charges     0.299008  0.057292  0.198341  0.067998    0.787251   -0.006208   \n",
       "\n",
       "             charges  \n",
       "age         0.299008  \n",
       "New_Sex     0.057292  \n",
       "bmi         0.198341  \n",
       "children    0.067998  \n",
       "New_Smoker  0.787251  \n",
       "New_Region -0.006208  \n",
       "charges     1.000000  "
      ]
     },
     "execution_count": 115,
     "metadata": {},
     "output_type": "execute_result"
    }
   ],
   "source": [
    "df.corr()"
   ]
  },
  {
   "cell_type": "code",
   "execution_count": null,
   "id": "ab60938e",
   "metadata": {},
   "outputs": [],
   "source": []
  },
  {
   "cell_type": "code",
   "execution_count": 104,
   "id": "1125dc30",
   "metadata": {},
   "outputs": [
    {
     "data": {
      "text/plain": [
       "0       16884.92400\n",
       "1        1725.55230\n",
       "2        4449.46200\n",
       "3       21984.47061\n",
       "4        3866.85520\n",
       "           ...     \n",
       "1333    10600.54830\n",
       "1334     2205.98080\n",
       "1335     1629.83350\n",
       "1336     2007.94500\n",
       "1337    29141.36030\n",
       "Name: charges, Length: 1338, dtype: float64"
      ]
     },
     "execution_count": 104,
     "metadata": {},
     "output_type": "execute_result"
    }
   ],
   "source": [
    "y=df.iloc[:,6]\n",
    "y"
   ]
  },
  {
   "cell_type": "code",
   "execution_count": 105,
   "id": "9ec576cd",
   "metadata": {},
   "outputs": [
    {
     "data": {
      "text/html": [
       "<div>\n",
       "<style scoped>\n",
       "    .dataframe tbody tr th:only-of-type {\n",
       "        vertical-align: middle;\n",
       "    }\n",
       "\n",
       "    .dataframe tbody tr th {\n",
       "        vertical-align: top;\n",
       "    }\n",
       "\n",
       "    .dataframe thead th {\n",
       "        text-align: right;\n",
       "    }\n",
       "</style>\n",
       "<table border=\"1\" class=\"dataframe\">\n",
       "  <thead>\n",
       "    <tr style=\"text-align: right;\">\n",
       "      <th></th>\n",
       "      <th>age</th>\n",
       "      <th>New_Sex</th>\n",
       "      <th>bmi</th>\n",
       "      <th>children</th>\n",
       "      <th>New_Smoker</th>\n",
       "      <th>New_Region</th>\n",
       "    </tr>\n",
       "  </thead>\n",
       "  <tbody>\n",
       "    <tr>\n",
       "      <th>0</th>\n",
       "      <td>19</td>\n",
       "      <td>0</td>\n",
       "      <td>27.900</td>\n",
       "      <td>0</td>\n",
       "      <td>1</td>\n",
       "      <td>3</td>\n",
       "    </tr>\n",
       "    <tr>\n",
       "      <th>1</th>\n",
       "      <td>18</td>\n",
       "      <td>1</td>\n",
       "      <td>33.770</td>\n",
       "      <td>1</td>\n",
       "      <td>0</td>\n",
       "      <td>2</td>\n",
       "    </tr>\n",
       "    <tr>\n",
       "      <th>2</th>\n",
       "      <td>28</td>\n",
       "      <td>1</td>\n",
       "      <td>33.000</td>\n",
       "      <td>3</td>\n",
       "      <td>0</td>\n",
       "      <td>2</td>\n",
       "    </tr>\n",
       "    <tr>\n",
       "      <th>3</th>\n",
       "      <td>33</td>\n",
       "      <td>1</td>\n",
       "      <td>22.705</td>\n",
       "      <td>0</td>\n",
       "      <td>0</td>\n",
       "      <td>1</td>\n",
       "    </tr>\n",
       "    <tr>\n",
       "      <th>4</th>\n",
       "      <td>32</td>\n",
       "      <td>1</td>\n",
       "      <td>28.880</td>\n",
       "      <td>0</td>\n",
       "      <td>0</td>\n",
       "      <td>1</td>\n",
       "    </tr>\n",
       "    <tr>\n",
       "      <th>...</th>\n",
       "      <td>...</td>\n",
       "      <td>...</td>\n",
       "      <td>...</td>\n",
       "      <td>...</td>\n",
       "      <td>...</td>\n",
       "      <td>...</td>\n",
       "    </tr>\n",
       "    <tr>\n",
       "      <th>1333</th>\n",
       "      <td>50</td>\n",
       "      <td>1</td>\n",
       "      <td>30.970</td>\n",
       "      <td>3</td>\n",
       "      <td>0</td>\n",
       "      <td>1</td>\n",
       "    </tr>\n",
       "    <tr>\n",
       "      <th>1334</th>\n",
       "      <td>18</td>\n",
       "      <td>0</td>\n",
       "      <td>31.920</td>\n",
       "      <td>0</td>\n",
       "      <td>0</td>\n",
       "      <td>0</td>\n",
       "    </tr>\n",
       "    <tr>\n",
       "      <th>1335</th>\n",
       "      <td>18</td>\n",
       "      <td>0</td>\n",
       "      <td>36.850</td>\n",
       "      <td>0</td>\n",
       "      <td>0</td>\n",
       "      <td>2</td>\n",
       "    </tr>\n",
       "    <tr>\n",
       "      <th>1336</th>\n",
       "      <td>21</td>\n",
       "      <td>0</td>\n",
       "      <td>25.800</td>\n",
       "      <td>0</td>\n",
       "      <td>0</td>\n",
       "      <td>3</td>\n",
       "    </tr>\n",
       "    <tr>\n",
       "      <th>1337</th>\n",
       "      <td>61</td>\n",
       "      <td>0</td>\n",
       "      <td>29.070</td>\n",
       "      <td>0</td>\n",
       "      <td>1</td>\n",
       "      <td>1</td>\n",
       "    </tr>\n",
       "  </tbody>\n",
       "</table>\n",
       "<p>1338 rows × 6 columns</p>\n",
       "</div>"
      ],
      "text/plain": [
       "      age  New_Sex     bmi  children  New_Smoker  New_Region\n",
       "0      19        0  27.900         0           1           3\n",
       "1      18        1  33.770         1           0           2\n",
       "2      28        1  33.000         3           0           2\n",
       "3      33        1  22.705         0           0           1\n",
       "4      32        1  28.880         0           0           1\n",
       "...   ...      ...     ...       ...         ...         ...\n",
       "1333   50        1  30.970         3           0           1\n",
       "1334   18        0  31.920         0           0           0\n",
       "1335   18        0  36.850         0           0           2\n",
       "1336   21        0  25.800         0           0           3\n",
       "1337   61        0  29.070         0           1           1\n",
       "\n",
       "[1338 rows x 6 columns]"
      ]
     },
     "execution_count": 105,
     "metadata": {},
     "output_type": "execute_result"
    }
   ],
   "source": [
    "X=df.iloc[:,0:6]\n",
    "X"
   ]
  },
  {
   "cell_type": "code",
   "execution_count": 106,
   "id": "1f8a77a6",
   "metadata": {},
   "outputs": [],
   "source": [
    "X_train, X_test, y_train, y_test = train_test_split(X, y, test_size=0.3, random_state=42)"
   ]
  },
  {
   "cell_type": "code",
   "execution_count": 70,
   "id": "538e844f",
   "metadata": {},
   "outputs": [],
   "source": [
    "# Now lets normalize the datasets so as to enable all features have equal chance of contribution\n",
    "# So scale X_train and X_test\n",
    "scaling=StandardScaler()\n",
    "X_train=scaling.fit_transform(X_train)\n",
    "X_test=scaling.fit_transform(X_test)"
   ]
  },
  {
   "cell_type": "code",
   "execution_count": 71,
   "id": "45f09755",
   "metadata": {},
   "outputs": [
    {
     "data": {
      "text/plain": [
       "array([[ 1.54446486, -1.02597835,  0.10318223, -0.91501097, -0.51298918,\n",
       "        -0.42907066],\n",
       "       [ 0.48187425,  0.97467943, -0.4908445 , -0.91501097, -0.51298918,\n",
       "         1.36784271],\n",
       "       [ 1.04858924, -1.02597835,  0.2266597 ,  1.56027883, -0.51298918,\n",
       "         0.46938603],\n",
       "       ...,\n",
       "       [ 1.33194673,  0.97467943, -0.8954835 , -0.91501097, -0.51298918,\n",
       "        -1.32752735],\n",
       "       [-0.15568012, -1.02597835,  2.84638435,  0.73518223,  1.94935887,\n",
       "         1.36784271],\n",
       "       [ 1.11942861,  0.97467943, -0.10706319, -0.91501097, -0.51298918,\n",
       "         1.36784271]])"
      ]
     },
     "execution_count": 71,
     "metadata": {},
     "output_type": "execute_result"
    }
   ],
   "source": [
    "X_train"
   ]
  },
  {
   "cell_type": "code",
   "execution_count": 34,
   "id": "cc97d726",
   "metadata": {},
   "outputs": [],
   "source": [
    "# # After scaling transform back to a dataframe so that the indexes and features names can be retained\n",
    "# scaled_features_df = pd.DataFrame(scaled_features, index=X.index, columns=X.columns)"
   ]
  },
  {
   "cell_type": "code",
   "execution_count": 72,
   "id": "40793472",
   "metadata": {},
   "outputs": [],
   "source": [
    "# X=scaled_features_df\n",
    "# X"
   ]
  },
  {
   "cell_type": "code",
   "execution_count": 73,
   "id": "578ad03a",
   "metadata": {},
   "outputs": [
    {
     "name": "stdout",
     "output_type": "stream",
     "text": [
      "(936, 6) (936,)\n",
      "(402, 6) (402,)\n"
     ]
    }
   ],
   "source": [
    "print(X_train.shape, y_train.shape)\n",
    "print(X_test.shape, y_test.shape)"
   ]
  },
  {
   "cell_type": "code",
   "execution_count": 75,
   "id": "92a781d2",
   "metadata": {},
   "outputs": [
    {
     "data": {
      "text/plain": [
       "LinearRegression()"
      ]
     },
     "execution_count": 75,
     "metadata": {},
     "output_type": "execute_result"
    }
   ],
   "source": [
    "model = LinearRegression()  # define the linear regression model\n",
    "model.fit(X_train, y_train)  # fit the data"
   ]
  },
  {
   "cell_type": "code",
   "execution_count": 76,
   "id": "3a79cd22",
   "metadata": {},
   "outputs": [
    {
     "name": "stdout",
     "output_type": "stream",
     "text": [
      "The weight vector is: [3693.22419232   54.80557279 2064.85587799  514.32785602 9592.79601818\n",
      " -363.35933577]\n",
      "\n",
      "The bias is: 13379.157306773504\n"
     ]
    }
   ],
   "source": [
    "print('The weight vector is:', model.coef_)\n",
    "print()\n",
    "print('The bias is:', model.intercept_)"
   ]
  },
  {
   "cell_type": "code",
   "execution_count": 77,
   "id": "e95c13ca",
   "metadata": {},
   "outputs": [
    {
     "name": "stdout",
     "output_type": "stream",
     "text": [
      "[ 9.17802505e+03  7.16305826e+03  3.77321932e+04  9.83623445e+03\n",
      "  2.75099058e+04  1.07080009e+04  1.86393349e+02  1.73012249e+04\n",
      "  1.21139960e+03  1.15968890e+04  2.86059370e+04  9.65551478e+03\n",
      "  5.25566409e+03  3.90657608e+04  4.10260085e+04  3.77848973e+04\n",
      "  1.52884276e+04  3.64876258e+04  9.27714747e+03  3.21429418e+04\n",
      "  3.83654322e+03  1.01710828e+04  2.19877622e+03  6.97056930e+03\n",
      "  1.15671685e+04  1.31596444e+04  1.45370625e+04  6.19052885e+03\n",
      "  1.01759106e+04  2.18439855e+03  9.05060452e+03  1.33420390e+04\n",
      "  4.41860310e+03  3.57477033e+03  4.36407552e+03  1.32017754e+04\n",
      "  1.74746466e+03  8.74639049e+03  3.40711254e+04  3.32023583e+04\n",
      "  3.66555274e+03  4.41397674e+03  1.41340507e+04  1.19044216e+04\n",
      "  8.87542656e+03  1.23303850e+04  5.21600171e+03  2.99177914e+03\n",
      "  3.61828234e+04  9.20565746e+03  1.60643152e+04  2.36572770e+03\n",
      "  1.23851880e+04  1.54606678e+03  1.36999103e+04  1.28842468e+04\n",
      "  4.52265595e+03  3.28094723e+04  1.33513131e+04  1.30797199e+04\n",
      "  1.42573513e+04  1.03752427e+04  1.65382928e+04  7.98075947e+03\n",
      "  1.20376053e+04  4.13207234e+03  2.70681830e+04  1.13104406e+04\n",
      "  2.21622579e+03  5.97039183e+03  1.08714817e+04  1.17720592e+04\n",
      "  1.11016347e+04  9.35824064e+03  1.21249491e+04  6.79366195e+03\n",
      "  7.35078124e+03  1.10583888e+04  6.53652762e+03  8.77228351e+03\n",
      "  3.75894469e+03  3.75841761e+04  6.21891890e+03  3.12193309e+04\n",
      "  3.51545827e+04  3.60663913e+04  7.14417637e+03  1.32297584e+04\n",
      "  1.01092177e+04  1.45724141e+04  1.79238782e+04  3.61228948e+04\n",
      "  3.37288818e+04  6.36850073e+03  3.25835898e+04  9.50808518e+03\n",
      "  3.00892052e+04  3.54148205e+03  2.89263343e+04  5.95778576e+03\n",
      "  5.47138015e+03  1.59905129e+03  1.16123650e+04  1.52075187e+04\n",
      "  1.21837261e+04  4.27050475e+03  1.01499269e+04  3.26219922e+04\n",
      "  2.51856221e+01  3.35921560e+04  3.08091997e+03  1.01014799e+04\n",
      "  1.45640520e+04  3.21622109e+04  1.16410059e+04  3.74730628e+03\n",
      "  1.35315676e+04  3.22748570e+04  8.21313726e+03  3.37651915e+03\n",
      "  8.45568171e+03  1.08349736e+04  1.53554452e+04  5.65016535e+03\n",
      "  3.88213122e+03  1.03528679e+04  1.09584871e+04  1.14402671e+04\n",
      "  1.46403040e+04  7.36066595e+03  5.40558994e+03  9.37343023e+03\n",
      "  9.33403033e+03  1.25955160e+04  8.19635543e+03  1.54668961e+04\n",
      "  8.51807469e+03  3.23307159e+04  3.63509723e+04  3.21553112e+04\n",
      "  6.13879136e+03  1.27646790e+04  6.03871825e+03  1.47393753e+04\n",
      "  2.60991474e+03  3.36220391e+04  6.50200928e+03  4.85825318e+03\n",
      "  1.45336633e+04  6.92282890e+03  3.93622316e+04  3.08227772e+03\n",
      "  5.77831750e+03  3.22982374e+04  1.15735328e+04  8.59799917e+03\n",
      "  1.52122977e+04  9.97457257e+03  2.74523331e+04  3.41481305e+04\n",
      "  1.48107251e+04  1.67460212e+03  1.34732948e+04  2.34918826e+03\n",
      "  5.31356176e+03  1.17380295e+04  4.03260655e+04  3.72658370e+04\n",
      "  3.47471739e+04  3.65338811e+03  7.53352826e+03  8.53124294e+03\n",
      "  1.25359981e+04  5.04018189e+03  1.80941994e+03  3.29314735e+04\n",
      "  2.54576992e+04  1.78058043e+04  2.71013602e+04  1.05175454e+04\n",
      "  3.80821082e+04 -3.73972648e+02  7.21908690e+03  7.59253270e+03\n",
      "  4.59302145e+03  5.05554404e+03  6.05509381e+03  4.13469048e+03\n",
      "  1.51857550e+04  1.15536852e+04  6.75112934e+03  2.42965021e+03\n",
      "  1.53885089e+03  3.23271552e+04  1.67344068e+04  1.21516735e+04\n",
      "  1.27110304e+03  1.27839157e+04  1.49849849e+03  8.77167519e+03\n",
      "  1.95636195e+03  3.48031723e+04  1.08442797e+04  2.71376494e+03\n",
      "  2.61028576e+04  2.68501933e+04  9.81941204e+03  1.88006920e+03\n",
      "  1.34395096e+04  9.82452500e+02  1.07029546e+04  1.08751005e+04\n",
      "  1.69244321e+04  2.74484065e+04  7.21646977e+03  5.22000904e+03\n",
      "  5.88901311e+03  1.35310888e+04  1.14203575e+04  8.36203900e+03\n",
      "  5.03303934e+03  1.25057810e+04  1.38949899e+04  3.64327645e+04\n",
      "  4.22938038e+03  2.94901622e+04 -1.11272392e+03  2.93430165e+03\n",
      "  1.13644721e+04  1.57589035e+04  5.17515358e+03  7.24454339e+03\n",
      "  3.72151092e+03  3.18780870e+04  7.60381338e+03  1.26274887e+04\n",
      "  5.75630757e+03  9.52920085e+03  3.68116876e+04  4.43501110e+03\n",
      "  1.00697763e+04  3.15334697e+04  5.69415956e+03  4.56501718e+03\n",
      "  1.16511337e+03  4.95257739e+03  4.40284382e+03  6.45108433e+03\n",
      "  1.87153526e+04 -1.34899630e+03  2.09391005e+03  1.06876655e+04\n",
      "  2.98161302e+03  1.05438859e+04  3.66105914e+03  5.05358533e+03\n",
      "  1.26210442e+04  6.31663260e+03  8.61740751e+03  7.62291087e+03\n",
      "  9.09185055e+03  1.08993202e+04  2.83974060e+04  3.99196959e+04\n",
      "  1.20873127e+04  7.92283459e+03  4.14398466e+04  1.22805247e+04\n",
      "  7.40034405e+03  8.56518221e+03  9.39893644e+03  1.11942114e+04\n",
      "  1.04591004e+04  1.78631022e+04  8.94604206e+02  2.41972907e+04\n",
      "  1.27694806e+04  3.38152419e+04  5.45985371e+03  1.33984254e+04\n",
      "  1.05920326e+04  1.79938800e+04  1.00465624e+04  1.17127539e+04\n",
      "  3.27104416e+04  3.44018895e+03  1.37705703e+04  4.00500904e+04\n",
      "  5.66944242e+03  6.17626533e+03  3.32976355e+03  1.15612038e+04\n",
      "  2.61693872e+04  1.43661646e+04  9.63031921e+03  1.04447959e+04\n",
      "  1.37089308e+04  9.21887421e+02  2.45652817e+03  3.11928604e+04\n",
      "  3.04628533e+04  1.36350042e+04  3.69046355e+03  2.60184291e+04\n",
      "  1.38187966e+04  3.12803434e+04  3.42753573e+03  3.97905197e+04\n",
      "  1.12260544e+04  4.73425350e+03  6.76417506e+03  2.58136284e+03\n",
      "  2.65616867e+04  1.44486044e+04  5.17558131e+02  1.28339485e+04\n",
      "  1.29665460e+04  1.51290750e+04  3.56427114e+04  1.45934974e+04\n",
      "  3.24412722e+04  9.96203155e+03  1.82794661e+04  5.88610269e+03\n",
      "  9.16932990e+03  9.42918481e+03  1.56319698e+04  9.30544627e+03\n",
      "  8.26564803e+03  1.50523279e+04  1.30805002e+04  1.50477918e+04\n",
      "  7.40812986e+03  2.66275593e+04  9.42007440e+03  1.99927324e+03\n",
      "  4.41611544e+03  1.41871292e+04  3.64175749e+04  9.65103854e+03\n",
      "  1.31077029e+04  5.60782977e+03  5.12203287e+03  3.91822397e+03\n",
      "  2.74003412e+03  9.21539540e+03  7.32943232e+03  2.47008456e+03\n",
      "  1.31497204e+04  9.07968514e+03  5.94605790e+03  6.67898784e+02\n",
      "  9.53607748e+03  4.92955406e+03  3.36713314e+04  2.89490261e+04\n",
      "  3.75865511e+04  5.46468429e+03  8.91958308e+03  8.48382797e+03\n",
      "  3.30277370e+03  3.23849170e+04  7.38664825e+03  2.92354911e+04\n",
      "  3.67855810e+04  7.22656543e+03  1.30341510e+04  9.88651168e+03\n",
      "  8.63497999e+03  1.29119460e+04  3.10060371e+04  1.70909378e+04\n",
      "  1.18845254e+04  4.18429763e+03 -1.19301448e+03  1.24193800e+04\n",
      "  3.14097311e+04  1.32916319e+04  1.13494450e+04  7.82261784e+03\n",
      "  3.74893887e+03  7.17681754e+03  7.32454981e+03  1.07047098e+04\n",
      "  3.45647879e+04  3.97509161e+04  1.20117615e+04  8.51633709e+03\n",
      "  1.66579524e+04  1.57510602e+04  9.52642046e+03  9.04504686e+03\n",
      "  9.05615515e+03  2.73864361e+03  1.01507490e+04  4.11341233e+03\n",
      "  1.07702258e+04  1.60369007e+04  6.83142865e+03  2.11926630e+03\n",
      "  1.47713078e+04  1.53387334e+02]\n",
      "(402,)\n"
     ]
    }
   ],
   "source": [
    "y_pred = model.predict(X_test) # make predictions for the test data\n",
    "print(y_pred)  # it returns us a `np.ndarray` object\n",
    "print(y_pred.shape)"
   ]
  },
  {
   "cell_type": "code",
   "execution_count": 84,
   "id": "5c4c7ace",
   "metadata": {},
   "outputs": [
    {
     "data": {
      "text/plain": [
       "5815.818415654073"
      ]
     },
     "execution_count": 84,
     "metadata": {},
     "output_type": "execute_result"
    }
   ],
   "source": [
    "# Compute mse\n",
    "math.sqrt(mean_squared_error(y_test,y_pred))"
   ]
  },
  {
   "cell_type": "code",
   "execution_count": 85,
   "id": "a49548da",
   "metadata": {},
   "outputs": [
    {
     "data": {
      "text/plain": [
       "0.7693169411699159"
      ]
     },
     "execution_count": 85,
     "metadata": {},
     "output_type": "execute_result"
    }
   ],
   "source": [
    "r2_score(y_test,y_pred)"
   ]
  },
  {
   "cell_type": "markdown",
   "id": "14a1114d",
   "metadata": {},
   "source": [
    "### below try to predict the price by specifying 6 features of the independent variables"
   ]
  },
  {
   "cell_type": "code",
   "execution_count": 95,
   "id": "09a55f25",
   "metadata": {},
   "outputs": [
    {
     "name": "stdout",
     "output_type": "stream",
     "text": [
      "[212896.05527491]\n"
     ]
    }
   ],
   "source": [
    "print(model.predict([[5,6,27,60,10,5]]))"
   ]
  },
  {
   "cell_type": "markdown",
   "id": "2ccebbb6",
   "metadata": {},
   "source": [
    "### Second model"
   ]
  },
  {
   "cell_type": "code",
   "execution_count": null,
   "id": "c26a4395",
   "metadata": {},
   "outputs": [],
   "source": [
    "df=pd.read_csv('insurance.csv')"
   ]
  },
  {
   "cell_type": "code",
   "execution_count": 150,
   "id": "54e24e22",
   "metadata": {},
   "outputs": [
    {
     "data": {
      "text/html": [
       "<div>\n",
       "<style scoped>\n",
       "    .dataframe tbody tr th:only-of-type {\n",
       "        vertical-align: middle;\n",
       "    }\n",
       "\n",
       "    .dataframe tbody tr th {\n",
       "        vertical-align: top;\n",
       "    }\n",
       "\n",
       "    .dataframe thead th {\n",
       "        text-align: right;\n",
       "    }\n",
       "</style>\n",
       "<table border=\"1\" class=\"dataframe\">\n",
       "  <thead>\n",
       "    <tr style=\"text-align: right;\">\n",
       "      <th></th>\n",
       "      <th>age</th>\n",
       "      <th>New_Sex</th>\n",
       "      <th>bmi</th>\n",
       "      <th>children</th>\n",
       "      <th>New_Smoker</th>\n",
       "      <th>New_Region</th>\n",
       "      <th>charges</th>\n",
       "    </tr>\n",
       "  </thead>\n",
       "  <tbody>\n",
       "    <tr>\n",
       "      <th>age</th>\n",
       "      <td>1.000000</td>\n",
       "      <td>-0.020856</td>\n",
       "      <td>0.109272</td>\n",
       "      <td>0.042469</td>\n",
       "      <td>-0.025019</td>\n",
       "      <td>0.002127</td>\n",
       "      <td>0.299008</td>\n",
       "    </tr>\n",
       "    <tr>\n",
       "      <th>New_Sex</th>\n",
       "      <td>-0.020856</td>\n",
       "      <td>1.000000</td>\n",
       "      <td>0.046371</td>\n",
       "      <td>0.017163</td>\n",
       "      <td>0.076185</td>\n",
       "      <td>0.004588</td>\n",
       "      <td>0.057292</td>\n",
       "    </tr>\n",
       "    <tr>\n",
       "      <th>bmi</th>\n",
       "      <td>0.109272</td>\n",
       "      <td>0.046371</td>\n",
       "      <td>1.000000</td>\n",
       "      <td>0.012759</td>\n",
       "      <td>0.003750</td>\n",
       "      <td>0.157566</td>\n",
       "      <td>0.198341</td>\n",
       "    </tr>\n",
       "    <tr>\n",
       "      <th>children</th>\n",
       "      <td>0.042469</td>\n",
       "      <td>0.017163</td>\n",
       "      <td>0.012759</td>\n",
       "      <td>1.000000</td>\n",
       "      <td>0.007673</td>\n",
       "      <td>0.016569</td>\n",
       "      <td>0.067998</td>\n",
       "    </tr>\n",
       "    <tr>\n",
       "      <th>New_Smoker</th>\n",
       "      <td>-0.025019</td>\n",
       "      <td>0.076185</td>\n",
       "      <td>0.003750</td>\n",
       "      <td>0.007673</td>\n",
       "      <td>1.000000</td>\n",
       "      <td>-0.002181</td>\n",
       "      <td>0.787251</td>\n",
       "    </tr>\n",
       "    <tr>\n",
       "      <th>New_Region</th>\n",
       "      <td>0.002127</td>\n",
       "      <td>0.004588</td>\n",
       "      <td>0.157566</td>\n",
       "      <td>0.016569</td>\n",
       "      <td>-0.002181</td>\n",
       "      <td>1.000000</td>\n",
       "      <td>-0.006208</td>\n",
       "    </tr>\n",
       "    <tr>\n",
       "      <th>charges</th>\n",
       "      <td>0.299008</td>\n",
       "      <td>0.057292</td>\n",
       "      <td>0.198341</td>\n",
       "      <td>0.067998</td>\n",
       "      <td>0.787251</td>\n",
       "      <td>-0.006208</td>\n",
       "      <td>1.000000</td>\n",
       "    </tr>\n",
       "  </tbody>\n",
       "</table>\n",
       "</div>"
      ],
      "text/plain": [
       "                 age   New_Sex       bmi  children  New_Smoker  New_Region  \\\n",
       "age         1.000000 -0.020856  0.109272  0.042469   -0.025019    0.002127   \n",
       "New_Sex    -0.020856  1.000000  0.046371  0.017163    0.076185    0.004588   \n",
       "bmi         0.109272  0.046371  1.000000  0.012759    0.003750    0.157566   \n",
       "children    0.042469  0.017163  0.012759  1.000000    0.007673    0.016569   \n",
       "New_Smoker -0.025019  0.076185  0.003750  0.007673    1.000000   -0.002181   \n",
       "New_Region  0.002127  0.004588  0.157566  0.016569   -0.002181    1.000000   \n",
       "charges     0.299008  0.057292  0.198341  0.067998    0.787251   -0.006208   \n",
       "\n",
       "             charges  \n",
       "age         0.299008  \n",
       "New_Sex     0.057292  \n",
       "bmi         0.198341  \n",
       "children    0.067998  \n",
       "New_Smoker  0.787251  \n",
       "New_Region -0.006208  \n",
       "charges     1.000000  "
      ]
     },
     "execution_count": 150,
     "metadata": {},
     "output_type": "execute_result"
    }
   ],
   "source": [
    "df.corr()"
   ]
  },
  {
   "cell_type": "markdown",
   "id": "0d5f9396",
   "metadata": {},
   "source": [
    "So from above we can observe that there is a strong linear correlation between the charges(target) and New_smoker"
   ]
  },
  {
   "cell_type": "code",
   "execution_count": 151,
   "id": "9dfad76d",
   "metadata": {},
   "outputs": [
    {
     "data": {
      "text/plain": [
       "0       16884.92400\n",
       "1        1725.55230\n",
       "2        4449.46200\n",
       "3       21984.47061\n",
       "4        3866.85520\n",
       "           ...     \n",
       "1333    10600.54830\n",
       "1334     2205.98080\n",
       "1335     1629.83350\n",
       "1336     2007.94500\n",
       "1337    29141.36030\n",
       "Name: charges, Length: 1338, dtype: float64"
      ]
     },
     "execution_count": 151,
     "metadata": {},
     "output_type": "execute_result"
    }
   ],
   "source": [
    "y=df.iloc[:,6]\n",
    "y"
   ]
  },
  {
   "cell_type": "code",
   "execution_count": 152,
   "id": "6a327d4f",
   "metadata": {},
   "outputs": [
    {
     "data": {
      "text/plain": [
       "0       1\n",
       "1       0\n",
       "2       0\n",
       "3       0\n",
       "4       0\n",
       "       ..\n",
       "1333    0\n",
       "1334    0\n",
       "1335    0\n",
       "1336    0\n",
       "1337    1\n",
       "Name: New_Smoker, Length: 1338, dtype: int64"
      ]
     },
     "execution_count": 152,
     "metadata": {},
     "output_type": "execute_result"
    }
   ],
   "source": [
    "X=df.iloc[:,4]\n",
    "X"
   ]
  },
  {
   "cell_type": "markdown",
   "id": "4c12ae09",
   "metadata": {},
   "source": [
    "### Lets reshape X and y \n"
   ]
  },
  {
   "cell_type": "markdown",
   "id": "b593a1c1",
   "metadata": {},
   "source": [
    "We have to reshape X and y because they are both single arrays"
   ]
  },
  {
   "cell_type": "code",
   "execution_count": 153,
   "id": "5231c9b4",
   "metadata": {},
   "outputs": [],
   "source": [
    "X=X.values.reshape(-1,1)\n",
    "y=y.values.reshape(-1,1)"
   ]
  },
  {
   "cell_type": "code",
   "execution_count": null,
   "id": "cc86fe33",
   "metadata": {},
   "outputs": [],
   "source": []
  },
  {
   "cell_type": "code",
   "execution_count": 154,
   "id": "695d2b8b",
   "metadata": {},
   "outputs": [],
   "source": [
    "X_train, X_test, y_train, y_test = train_test_split(X, y, test_size=0.3, random_state=42)"
   ]
  },
  {
   "cell_type": "code",
   "execution_count": 155,
   "id": "73451fa6",
   "metadata": {},
   "outputs": [],
   "source": [
    "# Now lets normalize the datasets so as to enable all features have equal chance of contribution\n",
    "# So scale X_train and X_test\n",
    "scaling=StandardScaler()\n",
    "X_train=scaling.fit_transform(X_train)\n",
    "X_test=scaling.fit_transform(X_test)"
   ]
  },
  {
   "cell_type": "code",
   "execution_count": 156,
   "id": "fa8c7c91",
   "metadata": {},
   "outputs": [
    {
     "name": "stdout",
     "output_type": "stream",
     "text": [
      "(936, 1) (936, 1)\n",
      "(402, 1) (402, 1)\n"
     ]
    }
   ],
   "source": [
    "print(X_train.shape, y_train.shape)\n",
    "print(X_test.shape, y_test.shape)"
   ]
  },
  {
   "cell_type": "code",
   "execution_count": 157,
   "id": "3b35aeaf",
   "metadata": {},
   "outputs": [
    {
     "data": {
      "text/plain": [
       "LinearRegression()"
      ]
     },
     "execution_count": 157,
     "metadata": {},
     "output_type": "execute_result"
    }
   ],
   "source": [
    "model = LinearRegression()  # define the linear regression model\n",
    "model.fit(X_train, y_train)  # fit the data"
   ]
  },
  {
   "cell_type": "code",
   "execution_count": 158,
   "id": "1d139119",
   "metadata": {},
   "outputs": [
    {
     "name": "stdout",
     "output_type": "stream",
     "text": [
      "The weight vector is: [[9427.649439]]\n",
      "\n",
      "The bias is: [13379.15730677]\n"
     ]
    }
   ],
   "source": [
    "print('The weight vector is:', model.coef_)\n",
    "print()\n",
    "print('The bias is:', model.intercept_)"
   ]
  },
  {
   "cell_type": "code",
   "execution_count": 159,
   "id": "bbb25064",
   "metadata": {},
   "outputs": [
    {
     "name": "stdout",
     "output_type": "stream",
     "text": [
      "[[ 8716.69096492]\n",
      " [ 8716.69096492]\n",
      " [32442.15260323]\n",
      " [ 8716.69096492]\n",
      " [32442.15260323]\n",
      " [ 8716.69096492]\n",
      " [ 8716.69096492]\n",
      " [ 8716.69096492]\n",
      " [ 8716.69096492]\n",
      " [ 8716.69096492]\n",
      " [32442.15260323]\n",
      " [ 8716.69096492]\n",
      " [ 8716.69096492]\n",
      " [32442.15260323]\n",
      " [32442.15260323]\n",
      " [32442.15260323]\n",
      " [ 8716.69096492]\n",
      " [32442.15260323]\n",
      " [ 8716.69096492]\n",
      " [32442.15260323]\n",
      " [ 8716.69096492]\n",
      " [ 8716.69096492]\n",
      " [ 8716.69096492]\n",
      " [ 8716.69096492]\n",
      " [ 8716.69096492]\n",
      " [ 8716.69096492]\n",
      " [ 8716.69096492]\n",
      " [ 8716.69096492]\n",
      " [ 8716.69096492]\n",
      " [ 8716.69096492]\n",
      " [ 8716.69096492]\n",
      " [ 8716.69096492]\n",
      " [ 8716.69096492]\n",
      " [ 8716.69096492]\n",
      " [ 8716.69096492]\n",
      " [ 8716.69096492]\n",
      " [ 8716.69096492]\n",
      " [ 8716.69096492]\n",
      " [32442.15260323]\n",
      " [32442.15260323]\n",
      " [ 8716.69096492]\n",
      " [ 8716.69096492]\n",
      " [ 8716.69096492]\n",
      " [ 8716.69096492]\n",
      " [ 8716.69096492]\n",
      " [ 8716.69096492]\n",
      " [ 8716.69096492]\n",
      " [ 8716.69096492]\n",
      " [32442.15260323]\n",
      " [ 8716.69096492]\n",
      " [ 8716.69096492]\n",
      " [ 8716.69096492]\n",
      " [ 8716.69096492]\n",
      " [ 8716.69096492]\n",
      " [ 8716.69096492]\n",
      " [ 8716.69096492]\n",
      " [ 8716.69096492]\n",
      " [32442.15260323]\n",
      " [ 8716.69096492]\n",
      " [ 8716.69096492]\n",
      " [ 8716.69096492]\n",
      " [ 8716.69096492]\n",
      " [ 8716.69096492]\n",
      " [ 8716.69096492]\n",
      " [ 8716.69096492]\n",
      " [ 8716.69096492]\n",
      " [32442.15260323]\n",
      " [ 8716.69096492]\n",
      " [ 8716.69096492]\n",
      " [ 8716.69096492]\n",
      " [ 8716.69096492]\n",
      " [ 8716.69096492]\n",
      " [ 8716.69096492]\n",
      " [ 8716.69096492]\n",
      " [ 8716.69096492]\n",
      " [ 8716.69096492]\n",
      " [ 8716.69096492]\n",
      " [ 8716.69096492]\n",
      " [ 8716.69096492]\n",
      " [ 8716.69096492]\n",
      " [ 8716.69096492]\n",
      " [32442.15260323]\n",
      " [ 8716.69096492]\n",
      " [32442.15260323]\n",
      " [32442.15260323]\n",
      " [32442.15260323]\n",
      " [ 8716.69096492]\n",
      " [ 8716.69096492]\n",
      " [ 8716.69096492]\n",
      " [ 8716.69096492]\n",
      " [ 8716.69096492]\n",
      " [32442.15260323]\n",
      " [32442.15260323]\n",
      " [ 8716.69096492]\n",
      " [32442.15260323]\n",
      " [ 8716.69096492]\n",
      " [32442.15260323]\n",
      " [ 8716.69096492]\n",
      " [32442.15260323]\n",
      " [ 8716.69096492]\n",
      " [ 8716.69096492]\n",
      " [ 8716.69096492]\n",
      " [ 8716.69096492]\n",
      " [ 8716.69096492]\n",
      " [ 8716.69096492]\n",
      " [ 8716.69096492]\n",
      " [ 8716.69096492]\n",
      " [32442.15260323]\n",
      " [ 8716.69096492]\n",
      " [32442.15260323]\n",
      " [ 8716.69096492]\n",
      " [ 8716.69096492]\n",
      " [ 8716.69096492]\n",
      " [32442.15260323]\n",
      " [ 8716.69096492]\n",
      " [ 8716.69096492]\n",
      " [ 8716.69096492]\n",
      " [32442.15260323]\n",
      " [ 8716.69096492]\n",
      " [ 8716.69096492]\n",
      " [ 8716.69096492]\n",
      " [ 8716.69096492]\n",
      " [ 8716.69096492]\n",
      " [ 8716.69096492]\n",
      " [ 8716.69096492]\n",
      " [ 8716.69096492]\n",
      " [ 8716.69096492]\n",
      " [ 8716.69096492]\n",
      " [ 8716.69096492]\n",
      " [ 8716.69096492]\n",
      " [ 8716.69096492]\n",
      " [ 8716.69096492]\n",
      " [ 8716.69096492]\n",
      " [ 8716.69096492]\n",
      " [ 8716.69096492]\n",
      " [ 8716.69096492]\n",
      " [ 8716.69096492]\n",
      " [32442.15260323]\n",
      " [32442.15260323]\n",
      " [32442.15260323]\n",
      " [ 8716.69096492]\n",
      " [ 8716.69096492]\n",
      " [ 8716.69096492]\n",
      " [ 8716.69096492]\n",
      " [ 8716.69096492]\n",
      " [32442.15260323]\n",
      " [ 8716.69096492]\n",
      " [ 8716.69096492]\n",
      " [ 8716.69096492]\n",
      " [ 8716.69096492]\n",
      " [32442.15260323]\n",
      " [ 8716.69096492]\n",
      " [ 8716.69096492]\n",
      " [32442.15260323]\n",
      " [ 8716.69096492]\n",
      " [ 8716.69096492]\n",
      " [ 8716.69096492]\n",
      " [ 8716.69096492]\n",
      " [32442.15260323]\n",
      " [32442.15260323]\n",
      " [ 8716.69096492]\n",
      " [ 8716.69096492]\n",
      " [ 8716.69096492]\n",
      " [ 8716.69096492]\n",
      " [ 8716.69096492]\n",
      " [ 8716.69096492]\n",
      " [32442.15260323]\n",
      " [32442.15260323]\n",
      " [32442.15260323]\n",
      " [ 8716.69096492]\n",
      " [ 8716.69096492]\n",
      " [ 8716.69096492]\n",
      " [ 8716.69096492]\n",
      " [ 8716.69096492]\n",
      " [ 8716.69096492]\n",
      " [32442.15260323]\n",
      " [32442.15260323]\n",
      " [ 8716.69096492]\n",
      " [32442.15260323]\n",
      " [ 8716.69096492]\n",
      " [32442.15260323]\n",
      " [ 8716.69096492]\n",
      " [ 8716.69096492]\n",
      " [ 8716.69096492]\n",
      " [ 8716.69096492]\n",
      " [ 8716.69096492]\n",
      " [ 8716.69096492]\n",
      " [ 8716.69096492]\n",
      " [ 8716.69096492]\n",
      " [ 8716.69096492]\n",
      " [ 8716.69096492]\n",
      " [ 8716.69096492]\n",
      " [ 8716.69096492]\n",
      " [32442.15260323]\n",
      " [ 8716.69096492]\n",
      " [ 8716.69096492]\n",
      " [ 8716.69096492]\n",
      " [ 8716.69096492]\n",
      " [ 8716.69096492]\n",
      " [ 8716.69096492]\n",
      " [ 8716.69096492]\n",
      " [32442.15260323]\n",
      " [ 8716.69096492]\n",
      " [ 8716.69096492]\n",
      " [32442.15260323]\n",
      " [32442.15260323]\n",
      " [ 8716.69096492]\n",
      " [ 8716.69096492]\n",
      " [ 8716.69096492]\n",
      " [ 8716.69096492]\n",
      " [ 8716.69096492]\n",
      " [ 8716.69096492]\n",
      " [ 8716.69096492]\n",
      " [32442.15260323]\n",
      " [ 8716.69096492]\n",
      " [ 8716.69096492]\n",
      " [ 8716.69096492]\n",
      " [ 8716.69096492]\n",
      " [ 8716.69096492]\n",
      " [ 8716.69096492]\n",
      " [ 8716.69096492]\n",
      " [ 8716.69096492]\n",
      " [ 8716.69096492]\n",
      " [32442.15260323]\n",
      " [ 8716.69096492]\n",
      " [32442.15260323]\n",
      " [ 8716.69096492]\n",
      " [ 8716.69096492]\n",
      " [ 8716.69096492]\n",
      " [ 8716.69096492]\n",
      " [ 8716.69096492]\n",
      " [ 8716.69096492]\n",
      " [ 8716.69096492]\n",
      " [32442.15260323]\n",
      " [ 8716.69096492]\n",
      " [ 8716.69096492]\n",
      " [ 8716.69096492]\n",
      " [ 8716.69096492]\n",
      " [32442.15260323]\n",
      " [ 8716.69096492]\n",
      " [ 8716.69096492]\n",
      " [32442.15260323]\n",
      " [ 8716.69096492]\n",
      " [ 8716.69096492]\n",
      " [ 8716.69096492]\n",
      " [ 8716.69096492]\n",
      " [ 8716.69096492]\n",
      " [ 8716.69096492]\n",
      " [ 8716.69096492]\n",
      " [ 8716.69096492]\n",
      " [ 8716.69096492]\n",
      " [ 8716.69096492]\n",
      " [ 8716.69096492]\n",
      " [ 8716.69096492]\n",
      " [ 8716.69096492]\n",
      " [ 8716.69096492]\n",
      " [ 8716.69096492]\n",
      " [ 8716.69096492]\n",
      " [ 8716.69096492]\n",
      " [ 8716.69096492]\n",
      " [ 8716.69096492]\n",
      " [ 8716.69096492]\n",
      " [32442.15260323]\n",
      " [32442.15260323]\n",
      " [ 8716.69096492]\n",
      " [ 8716.69096492]\n",
      " [32442.15260323]\n",
      " [ 8716.69096492]\n",
      " [ 8716.69096492]\n",
      " [ 8716.69096492]\n",
      " [ 8716.69096492]\n",
      " [ 8716.69096492]\n",
      " [ 8716.69096492]\n",
      " [ 8716.69096492]\n",
      " [ 8716.69096492]\n",
      " [32442.15260323]\n",
      " [ 8716.69096492]\n",
      " [32442.15260323]\n",
      " [ 8716.69096492]\n",
      " [ 8716.69096492]\n",
      " [ 8716.69096492]\n",
      " [ 8716.69096492]\n",
      " [ 8716.69096492]\n",
      " [ 8716.69096492]\n",
      " [32442.15260323]\n",
      " [ 8716.69096492]\n",
      " [ 8716.69096492]\n",
      " [32442.15260323]\n",
      " [ 8716.69096492]\n",
      " [ 8716.69096492]\n",
      " [ 8716.69096492]\n",
      " [ 8716.69096492]\n",
      " [32442.15260323]\n",
      " [ 8716.69096492]\n",
      " [ 8716.69096492]\n",
      " [ 8716.69096492]\n",
      " [ 8716.69096492]\n",
      " [ 8716.69096492]\n",
      " [ 8716.69096492]\n",
      " [32442.15260323]\n",
      " [32442.15260323]\n",
      " [ 8716.69096492]\n",
      " [ 8716.69096492]\n",
      " [32442.15260323]\n",
      " [ 8716.69096492]\n",
      " [32442.15260323]\n",
      " [ 8716.69096492]\n",
      " [32442.15260323]\n",
      " [ 8716.69096492]\n",
      " [ 8716.69096492]\n",
      " [ 8716.69096492]\n",
      " [ 8716.69096492]\n",
      " [32442.15260323]\n",
      " [ 8716.69096492]\n",
      " [ 8716.69096492]\n",
      " [ 8716.69096492]\n",
      " [ 8716.69096492]\n",
      " [ 8716.69096492]\n",
      " [32442.15260323]\n",
      " [ 8716.69096492]\n",
      " [32442.15260323]\n",
      " [ 8716.69096492]\n",
      " [ 8716.69096492]\n",
      " [ 8716.69096492]\n",
      " [ 8716.69096492]\n",
      " [ 8716.69096492]\n",
      " [ 8716.69096492]\n",
      " [ 8716.69096492]\n",
      " [ 8716.69096492]\n",
      " [ 8716.69096492]\n",
      " [ 8716.69096492]\n",
      " [ 8716.69096492]\n",
      " [ 8716.69096492]\n",
      " [32442.15260323]\n",
      " [ 8716.69096492]\n",
      " [ 8716.69096492]\n",
      " [ 8716.69096492]\n",
      " [ 8716.69096492]\n",
      " [32442.15260323]\n",
      " [ 8716.69096492]\n",
      " [ 8716.69096492]\n",
      " [ 8716.69096492]\n",
      " [ 8716.69096492]\n",
      " [ 8716.69096492]\n",
      " [ 8716.69096492]\n",
      " [ 8716.69096492]\n",
      " [ 8716.69096492]\n",
      " [ 8716.69096492]\n",
      " [ 8716.69096492]\n",
      " [ 8716.69096492]\n",
      " [ 8716.69096492]\n",
      " [ 8716.69096492]\n",
      " [ 8716.69096492]\n",
      " [ 8716.69096492]\n",
      " [32442.15260323]\n",
      " [32442.15260323]\n",
      " [32442.15260323]\n",
      " [ 8716.69096492]\n",
      " [ 8716.69096492]\n",
      " [ 8716.69096492]\n",
      " [ 8716.69096492]\n",
      " [32442.15260323]\n",
      " [ 8716.69096492]\n",
      " [32442.15260323]\n",
      " [32442.15260323]\n",
      " [ 8716.69096492]\n",
      " [ 8716.69096492]\n",
      " [ 8716.69096492]\n",
      " [ 8716.69096492]\n",
      " [ 8716.69096492]\n",
      " [32442.15260323]\n",
      " [ 8716.69096492]\n",
      " [ 8716.69096492]\n",
      " [ 8716.69096492]\n",
      " [ 8716.69096492]\n",
      " [ 8716.69096492]\n",
      " [32442.15260323]\n",
      " [ 8716.69096492]\n",
      " [ 8716.69096492]\n",
      " [ 8716.69096492]\n",
      " [ 8716.69096492]\n",
      " [ 8716.69096492]\n",
      " [ 8716.69096492]\n",
      " [ 8716.69096492]\n",
      " [32442.15260323]\n",
      " [32442.15260323]\n",
      " [ 8716.69096492]\n",
      " [ 8716.69096492]\n",
      " [ 8716.69096492]\n",
      " [ 8716.69096492]\n",
      " [ 8716.69096492]\n",
      " [ 8716.69096492]\n",
      " [ 8716.69096492]\n",
      " [ 8716.69096492]\n",
      " [ 8716.69096492]\n",
      " [ 8716.69096492]\n",
      " [ 8716.69096492]\n",
      " [ 8716.69096492]\n",
      " [ 8716.69096492]\n",
      " [ 8716.69096492]\n",
      " [ 8716.69096492]\n",
      " [ 8716.69096492]]\n",
      "(402, 1)\n"
     ]
    }
   ],
   "source": [
    "y_pred = model.predict(X_test) # make predictions for the test data\n",
    "print(y_pred)  # it returns us a `np.ndarray` object\n",
    "print(y_pred.shape)"
   ]
  },
  {
   "cell_type": "code",
   "execution_count": 160,
   "id": "af38755f",
   "metadata": {},
   "outputs": [
    {
     "data": {
      "text/plain": [
       "7169.787786759297"
      ]
     },
     "execution_count": 160,
     "metadata": {},
     "output_type": "execute_result"
    }
   ],
   "source": [
    "# Compute mse\n",
    "math.sqrt(mean_squared_error(y_test,y_pred))"
   ]
  },
  {
   "cell_type": "code",
   "execution_count": 161,
   "id": "ce23e87c",
   "metadata": {},
   "outputs": [
    {
     "data": {
      "text/plain": [
       "0.6494042655991139"
      ]
     },
     "execution_count": 161,
     "metadata": {},
     "output_type": "execute_result"
    }
   ],
   "source": [
    "r2_score(y_test,y_pred)"
   ]
  },
  {
   "cell_type": "markdown",
   "id": "cde9808d",
   "metadata": {},
   "source": [
    "---"
   ]
  },
  {
   "cell_type": "markdown",
   "id": "000ce944",
   "metadata": {},
   "source": [
    "### Third model"
   ]
  },
  {
   "cell_type": "code",
   "execution_count": 29,
   "id": "0c58e99d",
   "metadata": {},
   "outputs": [],
   "source": [
    "df=pd.read_csv('insurance.csv')"
   ]
  },
  {
   "cell_type": "code",
   "execution_count": 30,
   "id": "f9c60a47",
   "metadata": {},
   "outputs": [
    {
     "data": {
      "text/html": [
       "<div>\n",
       "<style scoped>\n",
       "    .dataframe tbody tr th:only-of-type {\n",
       "        vertical-align: middle;\n",
       "    }\n",
       "\n",
       "    .dataframe tbody tr th {\n",
       "        vertical-align: top;\n",
       "    }\n",
       "\n",
       "    .dataframe thead th {\n",
       "        text-align: right;\n",
       "    }\n",
       "</style>\n",
       "<table border=\"1\" class=\"dataframe\">\n",
       "  <thead>\n",
       "    <tr style=\"text-align: right;\">\n",
       "      <th></th>\n",
       "      <th>age</th>\n",
       "      <th>New_Sex</th>\n",
       "      <th>bmi</th>\n",
       "      <th>children</th>\n",
       "      <th>New_Smoker</th>\n",
       "      <th>New_Region</th>\n",
       "      <th>charges</th>\n",
       "    </tr>\n",
       "  </thead>\n",
       "  <tbody>\n",
       "    <tr>\n",
       "      <th>age</th>\n",
       "      <td>1.000000</td>\n",
       "      <td>-0.020856</td>\n",
       "      <td>0.109272</td>\n",
       "      <td>0.042469</td>\n",
       "      <td>-0.025019</td>\n",
       "      <td>0.002127</td>\n",
       "      <td>0.299008</td>\n",
       "    </tr>\n",
       "    <tr>\n",
       "      <th>New_Sex</th>\n",
       "      <td>-0.020856</td>\n",
       "      <td>1.000000</td>\n",
       "      <td>0.046371</td>\n",
       "      <td>0.017163</td>\n",
       "      <td>0.076185</td>\n",
       "      <td>0.004588</td>\n",
       "      <td>0.057292</td>\n",
       "    </tr>\n",
       "    <tr>\n",
       "      <th>bmi</th>\n",
       "      <td>0.109272</td>\n",
       "      <td>0.046371</td>\n",
       "      <td>1.000000</td>\n",
       "      <td>0.012759</td>\n",
       "      <td>0.003750</td>\n",
       "      <td>0.157566</td>\n",
       "      <td>0.198341</td>\n",
       "    </tr>\n",
       "    <tr>\n",
       "      <th>children</th>\n",
       "      <td>0.042469</td>\n",
       "      <td>0.017163</td>\n",
       "      <td>0.012759</td>\n",
       "      <td>1.000000</td>\n",
       "      <td>0.007673</td>\n",
       "      <td>0.016569</td>\n",
       "      <td>0.067998</td>\n",
       "    </tr>\n",
       "    <tr>\n",
       "      <th>New_Smoker</th>\n",
       "      <td>-0.025019</td>\n",
       "      <td>0.076185</td>\n",
       "      <td>0.003750</td>\n",
       "      <td>0.007673</td>\n",
       "      <td>1.000000</td>\n",
       "      <td>-0.002181</td>\n",
       "      <td>0.787251</td>\n",
       "    </tr>\n",
       "    <tr>\n",
       "      <th>New_Region</th>\n",
       "      <td>0.002127</td>\n",
       "      <td>0.004588</td>\n",
       "      <td>0.157566</td>\n",
       "      <td>0.016569</td>\n",
       "      <td>-0.002181</td>\n",
       "      <td>1.000000</td>\n",
       "      <td>-0.006208</td>\n",
       "    </tr>\n",
       "    <tr>\n",
       "      <th>charges</th>\n",
       "      <td>0.299008</td>\n",
       "      <td>0.057292</td>\n",
       "      <td>0.198341</td>\n",
       "      <td>0.067998</td>\n",
       "      <td>0.787251</td>\n",
       "      <td>-0.006208</td>\n",
       "      <td>1.000000</td>\n",
       "    </tr>\n",
       "  </tbody>\n",
       "</table>\n",
       "</div>"
      ],
      "text/plain": [
       "                 age   New_Sex       bmi  children  New_Smoker  New_Region  \\\n",
       "age         1.000000 -0.020856  0.109272  0.042469   -0.025019    0.002127   \n",
       "New_Sex    -0.020856  1.000000  0.046371  0.017163    0.076185    0.004588   \n",
       "bmi         0.109272  0.046371  1.000000  0.012759    0.003750    0.157566   \n",
       "children    0.042469  0.017163  0.012759  1.000000    0.007673    0.016569   \n",
       "New_Smoker -0.025019  0.076185  0.003750  0.007673    1.000000   -0.002181   \n",
       "New_Region  0.002127  0.004588  0.157566  0.016569   -0.002181    1.000000   \n",
       "charges     0.299008  0.057292  0.198341  0.067998    0.787251   -0.006208   \n",
       "\n",
       "             charges  \n",
       "age         0.299008  \n",
       "New_Sex     0.057292  \n",
       "bmi         0.198341  \n",
       "children    0.067998  \n",
       "New_Smoker  0.787251  \n",
       "New_Region -0.006208  \n",
       "charges     1.000000  "
      ]
     },
     "execution_count": 30,
     "metadata": {},
     "output_type": "execute_result"
    }
   ],
   "source": [
    "df.corr()"
   ]
  },
  {
   "cell_type": "code",
   "execution_count": 31,
   "id": "03c630ac",
   "metadata": {},
   "outputs": [
    {
     "data": {
      "text/plain": [
       "0       16884.92400\n",
       "1        1725.55230\n",
       "2        4449.46200\n",
       "3       21984.47061\n",
       "4        3866.85520\n",
       "           ...     \n",
       "1333    10600.54830\n",
       "1334     2205.98080\n",
       "1335     1629.83350\n",
       "1336     2007.94500\n",
       "1337    29141.36030\n",
       "Name: charges, Length: 1338, dtype: float64"
      ]
     },
     "execution_count": 31,
     "metadata": {},
     "output_type": "execute_result"
    }
   ],
   "source": [
    "#y=df.iloc[:,6]\n",
    "y=df.loc[:,'charges']\n",
    "y\n"
   ]
  },
  {
   "cell_type": "code",
   "execution_count": 32,
   "id": "094074fc",
   "metadata": {},
   "outputs": [
    {
     "data": {
      "text/html": [
       "<div>\n",
       "<style scoped>\n",
       "    .dataframe tbody tr th:only-of-type {\n",
       "        vertical-align: middle;\n",
       "    }\n",
       "\n",
       "    .dataframe tbody tr th {\n",
       "        vertical-align: top;\n",
       "    }\n",
       "\n",
       "    .dataframe thead th {\n",
       "        text-align: right;\n",
       "    }\n",
       "</style>\n",
       "<table border=\"1\" class=\"dataframe\">\n",
       "  <thead>\n",
       "    <tr style=\"text-align: right;\">\n",
       "      <th></th>\n",
       "      <th>bmi</th>\n",
       "      <th>New_Smoker</th>\n",
       "    </tr>\n",
       "  </thead>\n",
       "  <tbody>\n",
       "    <tr>\n",
       "      <th>0</th>\n",
       "      <td>27.900</td>\n",
       "      <td>1</td>\n",
       "    </tr>\n",
       "    <tr>\n",
       "      <th>1</th>\n",
       "      <td>33.770</td>\n",
       "      <td>0</td>\n",
       "    </tr>\n",
       "    <tr>\n",
       "      <th>2</th>\n",
       "      <td>33.000</td>\n",
       "      <td>0</td>\n",
       "    </tr>\n",
       "    <tr>\n",
       "      <th>3</th>\n",
       "      <td>22.705</td>\n",
       "      <td>0</td>\n",
       "    </tr>\n",
       "    <tr>\n",
       "      <th>4</th>\n",
       "      <td>28.880</td>\n",
       "      <td>0</td>\n",
       "    </tr>\n",
       "    <tr>\n",
       "      <th>...</th>\n",
       "      <td>...</td>\n",
       "      <td>...</td>\n",
       "    </tr>\n",
       "    <tr>\n",
       "      <th>1333</th>\n",
       "      <td>30.970</td>\n",
       "      <td>0</td>\n",
       "    </tr>\n",
       "    <tr>\n",
       "      <th>1334</th>\n",
       "      <td>31.920</td>\n",
       "      <td>0</td>\n",
       "    </tr>\n",
       "    <tr>\n",
       "      <th>1335</th>\n",
       "      <td>36.850</td>\n",
       "      <td>0</td>\n",
       "    </tr>\n",
       "    <tr>\n",
       "      <th>1336</th>\n",
       "      <td>25.800</td>\n",
       "      <td>0</td>\n",
       "    </tr>\n",
       "    <tr>\n",
       "      <th>1337</th>\n",
       "      <td>29.070</td>\n",
       "      <td>1</td>\n",
       "    </tr>\n",
       "  </tbody>\n",
       "</table>\n",
       "<p>1338 rows × 2 columns</p>\n",
       "</div>"
      ],
      "text/plain": [
       "         bmi  New_Smoker\n",
       "0     27.900           1\n",
       "1     33.770           0\n",
       "2     33.000           0\n",
       "3     22.705           0\n",
       "4     28.880           0\n",
       "...      ...         ...\n",
       "1333  30.970           0\n",
       "1334  31.920           0\n",
       "1335  36.850           0\n",
       "1336  25.800           0\n",
       "1337  29.070           1\n",
       "\n",
       "[1338 rows x 2 columns]"
      ]
     },
     "execution_count": 32,
     "metadata": {},
     "output_type": "execute_result"
    }
   ],
   "source": [
    "X=df.loc[:,['bmi','New_Smoker']]\n",
    "X"
   ]
  },
  {
   "cell_type": "code",
   "execution_count": 39,
   "id": "99b71d89",
   "metadata": {},
   "outputs": [],
   "source": [
    "#Merge and X and y\n",
    "df = pd.concat([X, y], axis=1)\n",
    "# Next save as a csv\n",
    "df.to_csv('insurance_1.csv')"
   ]
  },
  {
   "cell_type": "code",
   "execution_count": 38,
   "id": "6d315b2e",
   "metadata": {},
   "outputs": [
    {
     "data": {
      "text/html": [
       "<div>\n",
       "<style scoped>\n",
       "    .dataframe tbody tr th:only-of-type {\n",
       "        vertical-align: middle;\n",
       "    }\n",
       "\n",
       "    .dataframe tbody tr th {\n",
       "        vertical-align: top;\n",
       "    }\n",
       "\n",
       "    .dataframe thead th {\n",
       "        text-align: right;\n",
       "    }\n",
       "</style>\n",
       "<table border=\"1\" class=\"dataframe\">\n",
       "  <thead>\n",
       "    <tr style=\"text-align: right;\">\n",
       "      <th></th>\n",
       "      <th>bmi</th>\n",
       "      <th>New_Smoker</th>\n",
       "      <th>charges</th>\n",
       "    </tr>\n",
       "  </thead>\n",
       "  <tbody>\n",
       "    <tr>\n",
       "      <th>0</th>\n",
       "      <td>27.90</td>\n",
       "      <td>1</td>\n",
       "      <td>16884.9240</td>\n",
       "    </tr>\n",
       "    <tr>\n",
       "      <th>1</th>\n",
       "      <td>33.77</td>\n",
       "      <td>0</td>\n",
       "      <td>1725.5523</td>\n",
       "    </tr>\n",
       "  </tbody>\n",
       "</table>\n",
       "</div>"
      ],
      "text/plain": [
       "     bmi  New_Smoker     charges\n",
       "0  27.90           1  16884.9240\n",
       "1  33.77           0   1725.5523"
      ]
     },
     "execution_count": 38,
     "metadata": {},
     "output_type": "execute_result"
    }
   ],
   "source": [
    "df.head(2)"
   ]
  },
  {
   "cell_type": "code",
   "execution_count": 34,
   "id": "42338259",
   "metadata": {},
   "outputs": [],
   "source": [
    "X_train, X_test, y_train, y_test = train_test_split(X, y, test_size=0.3, random_state=42)"
   ]
  },
  {
   "cell_type": "code",
   "execution_count": 19,
   "id": "9aac52c0",
   "metadata": {},
   "outputs": [],
   "source": [
    "# Now lets normalize the datasets so as to enable all features have equal chance of contribution\n",
    "# So scale X_train and X_test\n",
    "scaling=StandardScaler()\n",
    "X_train=scaling.fit_transform(X_train)\n",
    "X_test=scaling.fit_transform(X_test)"
   ]
  },
  {
   "cell_type": "code",
   "execution_count": null,
   "id": "89f9dc7b",
   "metadata": {},
   "outputs": [],
   "source": []
  },
  {
   "cell_type": "code",
   "execution_count": null,
   "id": "de4786f0",
   "metadata": {},
   "outputs": [],
   "source": []
  },
  {
   "cell_type": "code",
   "execution_count": null,
   "id": "78d5bfde",
   "metadata": {},
   "outputs": [],
   "source": []
  },
  {
   "cell_type": "code",
   "execution_count": 9,
   "id": "eb0a6f8c",
   "metadata": {},
   "outputs": [
    {
     "name": "stdout",
     "output_type": "stream",
     "text": [
      "(936, 2) (936,)\n",
      "(402, 2) (402,)\n"
     ]
    }
   ],
   "source": [
    "print(X_train.shape, y_train.shape)\n",
    "print(X_test.shape, y_test.shape)"
   ]
  },
  {
   "cell_type": "code",
   "execution_count": 10,
   "id": "9ff73c8a",
   "metadata": {},
   "outputs": [
    {
     "data": {
      "text/plain": [
       "LinearRegression()"
      ]
     },
     "execution_count": 10,
     "metadata": {},
     "output_type": "execute_result"
    }
   ],
   "source": [
    "regressor = LinearRegression()  # define the linear regression model\n",
    "regressor.fit(X_train, y_train)  # fit the data"
   ]
  },
  {
   "cell_type": "code",
   "execution_count": 11,
   "id": "6f062188",
   "metadata": {},
   "outputs": [
    {
     "name": "stdout",
     "output_type": "stream",
     "text": [
      "The weight vector is: [5.80620397e-17 4.06116431e-01]\n",
      "\n",
      "The bias is: 0.20833333333333334\n"
     ]
    }
   ],
   "source": [
    "print('The weight vector is:', regressor.coef_)\n",
    "print()\n",
    "print('The bias is:', regressor.intercept_)"
   ]
  },
  {
   "cell_type": "code",
   "execution_count": 12,
   "id": "d7b61a50",
   "metadata": {},
   "outputs": [
    {
     "name": "stdout",
     "output_type": "stream",
     "text": [
      "[0.00748749 0.00748749 1.02951317 0.00748749 1.02951317 0.00748749\n",
      " 0.00748749 0.00748749 0.00748749 0.00748749 1.02951317 0.00748749\n",
      " 0.00748749 1.02951317 1.02951317 1.02951317 0.00748749 1.02951317\n",
      " 0.00748749 1.02951317 0.00748749 0.00748749 0.00748749 0.00748749\n",
      " 0.00748749 0.00748749 0.00748749 0.00748749 0.00748749 0.00748749\n",
      " 0.00748749 0.00748749 0.00748749 0.00748749 0.00748749 0.00748749\n",
      " 0.00748749 0.00748749 1.02951317 1.02951317 0.00748749 0.00748749\n",
      " 0.00748749 0.00748749 0.00748749 0.00748749 0.00748749 0.00748749\n",
      " 1.02951317 0.00748749 0.00748749 0.00748749 0.00748749 0.00748749\n",
      " 0.00748749 0.00748749 0.00748749 1.02951317 0.00748749 0.00748749\n",
      " 0.00748749 0.00748749 0.00748749 0.00748749 0.00748749 0.00748749\n",
      " 1.02951317 0.00748749 0.00748749 0.00748749 0.00748749 0.00748749\n",
      " 0.00748749 0.00748749 0.00748749 0.00748749 0.00748749 0.00748749\n",
      " 0.00748749 0.00748749 0.00748749 1.02951317 0.00748749 1.02951317\n",
      " 1.02951317 1.02951317 0.00748749 0.00748749 0.00748749 0.00748749\n",
      " 0.00748749 1.02951317 1.02951317 0.00748749 1.02951317 0.00748749\n",
      " 1.02951317 0.00748749 1.02951317 0.00748749 0.00748749 0.00748749\n",
      " 0.00748749 0.00748749 0.00748749 0.00748749 0.00748749 1.02951317\n",
      " 0.00748749 1.02951317 0.00748749 0.00748749 0.00748749 1.02951317\n",
      " 0.00748749 0.00748749 0.00748749 1.02951317 0.00748749 0.00748749\n",
      " 0.00748749 0.00748749 0.00748749 0.00748749 0.00748749 0.00748749\n",
      " 0.00748749 0.00748749 0.00748749 0.00748749 0.00748749 0.00748749\n",
      " 0.00748749 0.00748749 0.00748749 0.00748749 0.00748749 1.02951317\n",
      " 1.02951317 1.02951317 0.00748749 0.00748749 0.00748749 0.00748749\n",
      " 0.00748749 1.02951317 0.00748749 0.00748749 0.00748749 0.00748749\n",
      " 1.02951317 0.00748749 0.00748749 1.02951317 0.00748749 0.00748749\n",
      " 0.00748749 0.00748749 1.02951317 1.02951317 0.00748749 0.00748749\n",
      " 0.00748749 0.00748749 0.00748749 0.00748749 1.02951317 1.02951317\n",
      " 1.02951317 0.00748749 0.00748749 0.00748749 0.00748749 0.00748749\n",
      " 0.00748749 1.02951317 1.02951317 0.00748749 1.02951317 0.00748749\n",
      " 1.02951317 0.00748749 0.00748749 0.00748749 0.00748749 0.00748749\n",
      " 0.00748749 0.00748749 0.00748749 0.00748749 0.00748749 0.00748749\n",
      " 0.00748749 1.02951317 0.00748749 0.00748749 0.00748749 0.00748749\n",
      " 0.00748749 0.00748749 0.00748749 1.02951317 0.00748749 0.00748749\n",
      " 1.02951317 1.02951317 0.00748749 0.00748749 0.00748749 0.00748749\n",
      " 0.00748749 0.00748749 0.00748749 1.02951317 0.00748749 0.00748749\n",
      " 0.00748749 0.00748749 0.00748749 0.00748749 0.00748749 0.00748749\n",
      " 0.00748749 1.02951317 0.00748749 1.02951317 0.00748749 0.00748749\n",
      " 0.00748749 0.00748749 0.00748749 0.00748749 0.00748749 1.02951317\n",
      " 0.00748749 0.00748749 0.00748749 0.00748749 1.02951317 0.00748749\n",
      " 0.00748749 1.02951317 0.00748749 0.00748749 0.00748749 0.00748749\n",
      " 0.00748749 0.00748749 0.00748749 0.00748749 0.00748749 0.00748749\n",
      " 0.00748749 0.00748749 0.00748749 0.00748749 0.00748749 0.00748749\n",
      " 0.00748749 0.00748749 0.00748749 0.00748749 1.02951317 1.02951317\n",
      " 0.00748749 0.00748749 1.02951317 0.00748749 0.00748749 0.00748749\n",
      " 0.00748749 0.00748749 0.00748749 0.00748749 0.00748749 1.02951317\n",
      " 0.00748749 1.02951317 0.00748749 0.00748749 0.00748749 0.00748749\n",
      " 0.00748749 0.00748749 1.02951317 0.00748749 0.00748749 1.02951317\n",
      " 0.00748749 0.00748749 0.00748749 0.00748749 1.02951317 0.00748749\n",
      " 0.00748749 0.00748749 0.00748749 0.00748749 0.00748749 1.02951317\n",
      " 1.02951317 0.00748749 0.00748749 1.02951317 0.00748749 1.02951317\n",
      " 0.00748749 1.02951317 0.00748749 0.00748749 0.00748749 0.00748749\n",
      " 1.02951317 0.00748749 0.00748749 0.00748749 0.00748749 0.00748749\n",
      " 1.02951317 0.00748749 1.02951317 0.00748749 0.00748749 0.00748749\n",
      " 0.00748749 0.00748749 0.00748749 0.00748749 0.00748749 0.00748749\n",
      " 0.00748749 0.00748749 0.00748749 1.02951317 0.00748749 0.00748749\n",
      " 0.00748749 0.00748749 1.02951317 0.00748749 0.00748749 0.00748749\n",
      " 0.00748749 0.00748749 0.00748749 0.00748749 0.00748749 0.00748749\n",
      " 0.00748749 0.00748749 0.00748749 0.00748749 0.00748749 0.00748749\n",
      " 1.02951317 1.02951317 1.02951317 0.00748749 0.00748749 0.00748749\n",
      " 0.00748749 1.02951317 0.00748749 1.02951317 1.02951317 0.00748749\n",
      " 0.00748749 0.00748749 0.00748749 0.00748749 1.02951317 0.00748749\n",
      " 0.00748749 0.00748749 0.00748749 0.00748749 1.02951317 0.00748749\n",
      " 0.00748749 0.00748749 0.00748749 0.00748749 0.00748749 0.00748749\n",
      " 1.02951317 1.02951317 0.00748749 0.00748749 0.00748749 0.00748749\n",
      " 0.00748749 0.00748749 0.00748749 0.00748749 0.00748749 0.00748749\n",
      " 0.00748749 0.00748749 0.00748749 0.00748749 0.00748749 0.00748749]\n",
      "(402,)\n"
     ]
    }
   ],
   "source": [
    "y_pred = regressor.predict(X_test) # make predictions for the test data\n",
    "print(y_pred)  # it returns us a `np.ndarray` object\n",
    "print(y_pred.shape)"
   ]
  },
  {
   "cell_type": "code",
   "execution_count": 13,
   "id": "60682986",
   "metadata": {},
   "outputs": [
    {
     "data": {
      "text/plain": [
       "0.014704327956826755"
      ]
     },
     "execution_count": 13,
     "metadata": {},
     "output_type": "execute_result"
    }
   ],
   "source": [
    "# Compute mse\n",
    "math.sqrt(mean_squared_error(y_test,y_pred))"
   ]
  },
  {
   "cell_type": "code",
   "execution_count": 14,
   "id": "fe9c4622",
   "metadata": {},
   "outputs": [
    {
     "data": {
      "text/plain": [
       "0.9986306550851586"
      ]
     },
     "execution_count": 14,
     "metadata": {},
     "output_type": "execute_result"
    }
   ],
   "source": [
    "r2_score(y_test,y_pred)"
   ]
  },
  {
   "cell_type": "markdown",
   "id": "dd7dbf5e",
   "metadata": {},
   "source": [
    "---"
   ]
  },
  {
   "cell_type": "markdown",
   "id": "61f79c45",
   "metadata": {},
   "source": [
    "### Define the pickle"
   ]
  },
  {
   "cell_type": "code",
   "execution_count": 88,
   "id": "a8cb5295",
   "metadata": {},
   "outputs": [],
   "source": [
    "pickle.dump(regressor,open('model.pkl','wb'))"
   ]
  },
  {
   "cell_type": "code",
   "execution_count": 90,
   "id": "7ca26e95",
   "metadata": {},
   "outputs": [],
   "source": [
    "model=pickle.load(open('model.pkl','rb'))"
   ]
  }
 ],
 "metadata": {
  "kernelspec": {
   "display_name": "Python 3 (ipykernel)",
   "language": "python",
   "name": "python3"
  },
  "language_info": {
   "codemirror_mode": {
    "name": "ipython",
    "version": 3
   },
   "file_extension": ".py",
   "mimetype": "text/x-python",
   "name": "python",
   "nbconvert_exporter": "python",
   "pygments_lexer": "ipython3",
   "version": "3.9.13"
  }
 },
 "nbformat": 4,
 "nbformat_minor": 5
}
