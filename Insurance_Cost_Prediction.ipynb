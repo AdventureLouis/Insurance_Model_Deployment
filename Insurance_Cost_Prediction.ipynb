{
 "cells": [
  {
   "cell_type": "code",
   "execution_count": 11,
   "id": "d54ce281",
   "metadata": {},
   "outputs": [],
   "source": [
    "import pandas as pd\n",
    "from numpy import math\n",
    "import numpy as np\n",
    "from sklearn.model_selection import train_test_split\n",
    "from sklearn.metrics import r2_score\n",
    "from sklearn.metrics import mean_squared_error\n",
    "from sklearn.preprocessing import StandardScaler\n",
    "from sklearn.linear_model import LinearRegression\n",
    "import pickle"
   ]
  },
  {
   "cell_type": "code",
   "execution_count": 12,
   "id": "cd4fa75f",
   "metadata": {},
   "outputs": [
    {
     "ename": "FileNotFoundError",
     "evalue": "[Errno 2] No such file or directory: 'insurance.csv'",
     "output_type": "error",
     "traceback": [
      "\u001b[0;31m---------------------------------------------------------------------------\u001b[0m",
      "\u001b[0;31mFileNotFoundError\u001b[0m                         Traceback (most recent call last)",
      "Cell \u001b[0;32mIn[12], line 1\u001b[0m\n\u001b[0;32m----> 1\u001b[0m df\u001b[38;5;241m=\u001b[39m\u001b[43mpd\u001b[49m\u001b[38;5;241;43m.\u001b[39;49m\u001b[43mread_csv\u001b[49m\u001b[43m(\u001b[49m\u001b[38;5;124;43m'\u001b[39;49m\u001b[38;5;124;43minsurance.csv\u001b[39;49m\u001b[38;5;124;43m'\u001b[39;49m\u001b[43m)\u001b[49m\n",
      "File \u001b[0;32m~/opt/anaconda3/lib/python3.9/site-packages/pandas/util/_decorators.py:311\u001b[0m, in \u001b[0;36mdeprecate_nonkeyword_arguments.<locals>.decorate.<locals>.wrapper\u001b[0;34m(*args, **kwargs)\u001b[0m\n\u001b[1;32m    305\u001b[0m \u001b[38;5;28;01mif\u001b[39;00m \u001b[38;5;28mlen\u001b[39m(args) \u001b[38;5;241m>\u001b[39m num_allow_args:\n\u001b[1;32m    306\u001b[0m     warnings\u001b[38;5;241m.\u001b[39mwarn(\n\u001b[1;32m    307\u001b[0m         msg\u001b[38;5;241m.\u001b[39mformat(arguments\u001b[38;5;241m=\u001b[39marguments),\n\u001b[1;32m    308\u001b[0m         \u001b[38;5;167;01mFutureWarning\u001b[39;00m,\n\u001b[1;32m    309\u001b[0m         stacklevel\u001b[38;5;241m=\u001b[39mstacklevel,\n\u001b[1;32m    310\u001b[0m     )\n\u001b[0;32m--> 311\u001b[0m \u001b[38;5;28;01mreturn\u001b[39;00m \u001b[43mfunc\u001b[49m\u001b[43m(\u001b[49m\u001b[38;5;241;43m*\u001b[39;49m\u001b[43margs\u001b[49m\u001b[43m,\u001b[49m\u001b[43m \u001b[49m\u001b[38;5;241;43m*\u001b[39;49m\u001b[38;5;241;43m*\u001b[39;49m\u001b[43mkwargs\u001b[49m\u001b[43m)\u001b[49m\n",
      "File \u001b[0;32m~/opt/anaconda3/lib/python3.9/site-packages/pandas/io/parsers/readers.py:678\u001b[0m, in \u001b[0;36mread_csv\u001b[0;34m(filepath_or_buffer, sep, delimiter, header, names, index_col, usecols, squeeze, prefix, mangle_dupe_cols, dtype, engine, converters, true_values, false_values, skipinitialspace, skiprows, skipfooter, nrows, na_values, keep_default_na, na_filter, verbose, skip_blank_lines, parse_dates, infer_datetime_format, keep_date_col, date_parser, dayfirst, cache_dates, iterator, chunksize, compression, thousands, decimal, lineterminator, quotechar, quoting, doublequote, escapechar, comment, encoding, encoding_errors, dialect, error_bad_lines, warn_bad_lines, on_bad_lines, delim_whitespace, low_memory, memory_map, float_precision, storage_options)\u001b[0m\n\u001b[1;32m    663\u001b[0m kwds_defaults \u001b[38;5;241m=\u001b[39m _refine_defaults_read(\n\u001b[1;32m    664\u001b[0m     dialect,\n\u001b[1;32m    665\u001b[0m     delimiter,\n\u001b[0;32m   (...)\u001b[0m\n\u001b[1;32m    674\u001b[0m     defaults\u001b[38;5;241m=\u001b[39m{\u001b[38;5;124m\"\u001b[39m\u001b[38;5;124mdelimiter\u001b[39m\u001b[38;5;124m\"\u001b[39m: \u001b[38;5;124m\"\u001b[39m\u001b[38;5;124m,\u001b[39m\u001b[38;5;124m\"\u001b[39m},\n\u001b[1;32m    675\u001b[0m )\n\u001b[1;32m    676\u001b[0m kwds\u001b[38;5;241m.\u001b[39mupdate(kwds_defaults)\n\u001b[0;32m--> 678\u001b[0m \u001b[38;5;28;01mreturn\u001b[39;00m \u001b[43m_read\u001b[49m\u001b[43m(\u001b[49m\u001b[43mfilepath_or_buffer\u001b[49m\u001b[43m,\u001b[49m\u001b[43m \u001b[49m\u001b[43mkwds\u001b[49m\u001b[43m)\u001b[49m\n",
      "File \u001b[0;32m~/opt/anaconda3/lib/python3.9/site-packages/pandas/io/parsers/readers.py:575\u001b[0m, in \u001b[0;36m_read\u001b[0;34m(filepath_or_buffer, kwds)\u001b[0m\n\u001b[1;32m    572\u001b[0m _validate_names(kwds\u001b[38;5;241m.\u001b[39mget(\u001b[38;5;124m\"\u001b[39m\u001b[38;5;124mnames\u001b[39m\u001b[38;5;124m\"\u001b[39m, \u001b[38;5;28;01mNone\u001b[39;00m))\n\u001b[1;32m    574\u001b[0m \u001b[38;5;66;03m# Create the parser.\u001b[39;00m\n\u001b[0;32m--> 575\u001b[0m parser \u001b[38;5;241m=\u001b[39m \u001b[43mTextFileReader\u001b[49m\u001b[43m(\u001b[49m\u001b[43mfilepath_or_buffer\u001b[49m\u001b[43m,\u001b[49m\u001b[43m \u001b[49m\u001b[38;5;241;43m*\u001b[39;49m\u001b[38;5;241;43m*\u001b[39;49m\u001b[43mkwds\u001b[49m\u001b[43m)\u001b[49m\n\u001b[1;32m    577\u001b[0m \u001b[38;5;28;01mif\u001b[39;00m chunksize \u001b[38;5;129;01mor\u001b[39;00m iterator:\n\u001b[1;32m    578\u001b[0m     \u001b[38;5;28;01mreturn\u001b[39;00m parser\n",
      "File \u001b[0;32m~/opt/anaconda3/lib/python3.9/site-packages/pandas/io/parsers/readers.py:932\u001b[0m, in \u001b[0;36mTextFileReader.__init__\u001b[0;34m(self, f, engine, **kwds)\u001b[0m\n\u001b[1;32m    929\u001b[0m     \u001b[38;5;28mself\u001b[39m\u001b[38;5;241m.\u001b[39moptions[\u001b[38;5;124m\"\u001b[39m\u001b[38;5;124mhas_index_names\u001b[39m\u001b[38;5;124m\"\u001b[39m] \u001b[38;5;241m=\u001b[39m kwds[\u001b[38;5;124m\"\u001b[39m\u001b[38;5;124mhas_index_names\u001b[39m\u001b[38;5;124m\"\u001b[39m]\n\u001b[1;32m    931\u001b[0m \u001b[38;5;28mself\u001b[39m\u001b[38;5;241m.\u001b[39mhandles: IOHandles \u001b[38;5;241m|\u001b[39m \u001b[38;5;28;01mNone\u001b[39;00m \u001b[38;5;241m=\u001b[39m \u001b[38;5;28;01mNone\u001b[39;00m\n\u001b[0;32m--> 932\u001b[0m \u001b[38;5;28mself\u001b[39m\u001b[38;5;241m.\u001b[39m_engine \u001b[38;5;241m=\u001b[39m \u001b[38;5;28;43mself\u001b[39;49m\u001b[38;5;241;43m.\u001b[39;49m\u001b[43m_make_engine\u001b[49m\u001b[43m(\u001b[49m\u001b[43mf\u001b[49m\u001b[43m,\u001b[49m\u001b[43m \u001b[49m\u001b[38;5;28;43mself\u001b[39;49m\u001b[38;5;241;43m.\u001b[39;49m\u001b[43mengine\u001b[49m\u001b[43m)\u001b[49m\n",
      "File \u001b[0;32m~/opt/anaconda3/lib/python3.9/site-packages/pandas/io/parsers/readers.py:1216\u001b[0m, in \u001b[0;36mTextFileReader._make_engine\u001b[0;34m(self, f, engine)\u001b[0m\n\u001b[1;32m   1212\u001b[0m     mode \u001b[38;5;241m=\u001b[39m \u001b[38;5;124m\"\u001b[39m\u001b[38;5;124mrb\u001b[39m\u001b[38;5;124m\"\u001b[39m\n\u001b[1;32m   1213\u001b[0m \u001b[38;5;66;03m# error: No overload variant of \"get_handle\" matches argument types\u001b[39;00m\n\u001b[1;32m   1214\u001b[0m \u001b[38;5;66;03m# \"Union[str, PathLike[str], ReadCsvBuffer[bytes], ReadCsvBuffer[str]]\"\u001b[39;00m\n\u001b[1;32m   1215\u001b[0m \u001b[38;5;66;03m# , \"str\", \"bool\", \"Any\", \"Any\", \"Any\", \"Any\", \"Any\"\u001b[39;00m\n\u001b[0;32m-> 1216\u001b[0m \u001b[38;5;28mself\u001b[39m\u001b[38;5;241m.\u001b[39mhandles \u001b[38;5;241m=\u001b[39m \u001b[43mget_handle\u001b[49m\u001b[43m(\u001b[49m\u001b[43m  \u001b[49m\u001b[38;5;66;43;03m# type: ignore[call-overload]\u001b[39;49;00m\n\u001b[1;32m   1217\u001b[0m \u001b[43m    \u001b[49m\u001b[43mf\u001b[49m\u001b[43m,\u001b[49m\n\u001b[1;32m   1218\u001b[0m \u001b[43m    \u001b[49m\u001b[43mmode\u001b[49m\u001b[43m,\u001b[49m\n\u001b[1;32m   1219\u001b[0m \u001b[43m    \u001b[49m\u001b[43mencoding\u001b[49m\u001b[38;5;241;43m=\u001b[39;49m\u001b[38;5;28;43mself\u001b[39;49m\u001b[38;5;241;43m.\u001b[39;49m\u001b[43moptions\u001b[49m\u001b[38;5;241;43m.\u001b[39;49m\u001b[43mget\u001b[49m\u001b[43m(\u001b[49m\u001b[38;5;124;43m\"\u001b[39;49m\u001b[38;5;124;43mencoding\u001b[39;49m\u001b[38;5;124;43m\"\u001b[39;49m\u001b[43m,\u001b[49m\u001b[43m \u001b[49m\u001b[38;5;28;43;01mNone\u001b[39;49;00m\u001b[43m)\u001b[49m\u001b[43m,\u001b[49m\n\u001b[1;32m   1220\u001b[0m \u001b[43m    \u001b[49m\u001b[43mcompression\u001b[49m\u001b[38;5;241;43m=\u001b[39;49m\u001b[38;5;28;43mself\u001b[39;49m\u001b[38;5;241;43m.\u001b[39;49m\u001b[43moptions\u001b[49m\u001b[38;5;241;43m.\u001b[39;49m\u001b[43mget\u001b[49m\u001b[43m(\u001b[49m\u001b[38;5;124;43m\"\u001b[39;49m\u001b[38;5;124;43mcompression\u001b[39;49m\u001b[38;5;124;43m\"\u001b[39;49m\u001b[43m,\u001b[49m\u001b[43m \u001b[49m\u001b[38;5;28;43;01mNone\u001b[39;49;00m\u001b[43m)\u001b[49m\u001b[43m,\u001b[49m\n\u001b[1;32m   1221\u001b[0m \u001b[43m    \u001b[49m\u001b[43mmemory_map\u001b[49m\u001b[38;5;241;43m=\u001b[39;49m\u001b[38;5;28;43mself\u001b[39;49m\u001b[38;5;241;43m.\u001b[39;49m\u001b[43moptions\u001b[49m\u001b[38;5;241;43m.\u001b[39;49m\u001b[43mget\u001b[49m\u001b[43m(\u001b[49m\u001b[38;5;124;43m\"\u001b[39;49m\u001b[38;5;124;43mmemory_map\u001b[39;49m\u001b[38;5;124;43m\"\u001b[39;49m\u001b[43m,\u001b[49m\u001b[43m \u001b[49m\u001b[38;5;28;43;01mFalse\u001b[39;49;00m\u001b[43m)\u001b[49m\u001b[43m,\u001b[49m\n\u001b[1;32m   1222\u001b[0m \u001b[43m    \u001b[49m\u001b[43mis_text\u001b[49m\u001b[38;5;241;43m=\u001b[39;49m\u001b[43mis_text\u001b[49m\u001b[43m,\u001b[49m\n\u001b[1;32m   1223\u001b[0m \u001b[43m    \u001b[49m\u001b[43merrors\u001b[49m\u001b[38;5;241;43m=\u001b[39;49m\u001b[38;5;28;43mself\u001b[39;49m\u001b[38;5;241;43m.\u001b[39;49m\u001b[43moptions\u001b[49m\u001b[38;5;241;43m.\u001b[39;49m\u001b[43mget\u001b[49m\u001b[43m(\u001b[49m\u001b[38;5;124;43m\"\u001b[39;49m\u001b[38;5;124;43mencoding_errors\u001b[39;49m\u001b[38;5;124;43m\"\u001b[39;49m\u001b[43m,\u001b[49m\u001b[43m \u001b[49m\u001b[38;5;124;43m\"\u001b[39;49m\u001b[38;5;124;43mstrict\u001b[39;49m\u001b[38;5;124;43m\"\u001b[39;49m\u001b[43m)\u001b[49m\u001b[43m,\u001b[49m\n\u001b[1;32m   1224\u001b[0m \u001b[43m    \u001b[49m\u001b[43mstorage_options\u001b[49m\u001b[38;5;241;43m=\u001b[39;49m\u001b[38;5;28;43mself\u001b[39;49m\u001b[38;5;241;43m.\u001b[39;49m\u001b[43moptions\u001b[49m\u001b[38;5;241;43m.\u001b[39;49m\u001b[43mget\u001b[49m\u001b[43m(\u001b[49m\u001b[38;5;124;43m\"\u001b[39;49m\u001b[38;5;124;43mstorage_options\u001b[39;49m\u001b[38;5;124;43m\"\u001b[39;49m\u001b[43m,\u001b[49m\u001b[43m \u001b[49m\u001b[38;5;28;43;01mNone\u001b[39;49;00m\u001b[43m)\u001b[49m\u001b[43m,\u001b[49m\n\u001b[1;32m   1225\u001b[0m \u001b[43m\u001b[49m\u001b[43m)\u001b[49m\n\u001b[1;32m   1226\u001b[0m \u001b[38;5;28;01massert\u001b[39;00m \u001b[38;5;28mself\u001b[39m\u001b[38;5;241m.\u001b[39mhandles \u001b[38;5;129;01mis\u001b[39;00m \u001b[38;5;129;01mnot\u001b[39;00m \u001b[38;5;28;01mNone\u001b[39;00m\n\u001b[1;32m   1227\u001b[0m f \u001b[38;5;241m=\u001b[39m \u001b[38;5;28mself\u001b[39m\u001b[38;5;241m.\u001b[39mhandles\u001b[38;5;241m.\u001b[39mhandle\n",
      "File \u001b[0;32m~/opt/anaconda3/lib/python3.9/site-packages/pandas/io/common.py:786\u001b[0m, in \u001b[0;36mget_handle\u001b[0;34m(path_or_buf, mode, encoding, compression, memory_map, is_text, errors, storage_options)\u001b[0m\n\u001b[1;32m    781\u001b[0m \u001b[38;5;28;01melif\u001b[39;00m \u001b[38;5;28misinstance\u001b[39m(handle, \u001b[38;5;28mstr\u001b[39m):\n\u001b[1;32m    782\u001b[0m     \u001b[38;5;66;03m# Check whether the filename is to be opened in binary mode.\u001b[39;00m\n\u001b[1;32m    783\u001b[0m     \u001b[38;5;66;03m# Binary mode does not support 'encoding' and 'newline'.\u001b[39;00m\n\u001b[1;32m    784\u001b[0m     \u001b[38;5;28;01mif\u001b[39;00m ioargs\u001b[38;5;241m.\u001b[39mencoding \u001b[38;5;129;01mand\u001b[39;00m \u001b[38;5;124m\"\u001b[39m\u001b[38;5;124mb\u001b[39m\u001b[38;5;124m\"\u001b[39m \u001b[38;5;129;01mnot\u001b[39;00m \u001b[38;5;129;01min\u001b[39;00m ioargs\u001b[38;5;241m.\u001b[39mmode:\n\u001b[1;32m    785\u001b[0m         \u001b[38;5;66;03m# Encoding\u001b[39;00m\n\u001b[0;32m--> 786\u001b[0m         handle \u001b[38;5;241m=\u001b[39m \u001b[38;5;28;43mopen\u001b[39;49m\u001b[43m(\u001b[49m\n\u001b[1;32m    787\u001b[0m \u001b[43m            \u001b[49m\u001b[43mhandle\u001b[49m\u001b[43m,\u001b[49m\n\u001b[1;32m    788\u001b[0m \u001b[43m            \u001b[49m\u001b[43mioargs\u001b[49m\u001b[38;5;241;43m.\u001b[39;49m\u001b[43mmode\u001b[49m\u001b[43m,\u001b[49m\n\u001b[1;32m    789\u001b[0m \u001b[43m            \u001b[49m\u001b[43mencoding\u001b[49m\u001b[38;5;241;43m=\u001b[39;49m\u001b[43mioargs\u001b[49m\u001b[38;5;241;43m.\u001b[39;49m\u001b[43mencoding\u001b[49m\u001b[43m,\u001b[49m\n\u001b[1;32m    790\u001b[0m \u001b[43m            \u001b[49m\u001b[43merrors\u001b[49m\u001b[38;5;241;43m=\u001b[39;49m\u001b[43merrors\u001b[49m\u001b[43m,\u001b[49m\n\u001b[1;32m    791\u001b[0m \u001b[43m            \u001b[49m\u001b[43mnewline\u001b[49m\u001b[38;5;241;43m=\u001b[39;49m\u001b[38;5;124;43m\"\u001b[39;49m\u001b[38;5;124;43m\"\u001b[39;49m\u001b[43m,\u001b[49m\n\u001b[1;32m    792\u001b[0m \u001b[43m        \u001b[49m\u001b[43m)\u001b[49m\n\u001b[1;32m    793\u001b[0m     \u001b[38;5;28;01melse\u001b[39;00m:\n\u001b[1;32m    794\u001b[0m         \u001b[38;5;66;03m# Binary mode\u001b[39;00m\n\u001b[1;32m    795\u001b[0m         handle \u001b[38;5;241m=\u001b[39m \u001b[38;5;28mopen\u001b[39m(handle, ioargs\u001b[38;5;241m.\u001b[39mmode)\n",
      "\u001b[0;31mFileNotFoundError\u001b[0m: [Errno 2] No such file or directory: 'insurance.csv'"
     ]
    }
   ],
   "source": [
    "df=pd.read_csv('insurance.csv')"
   ]
  },
  {
   "cell_type": "code",
   "execution_count": null,
   "id": "8a96979c",
   "metadata": {},
   "outputs": [],
   "source": [
    "df.head(5)"
   ]
  },
  {
   "cell_type": "code",
   "execution_count": 6,
   "id": "b2567f9c",
   "metadata": {},
   "outputs": [],
   "source": [
    "# While in excel,I already encoded sex,smoker and region to New_sex,New_smoker and New_Region respectively \n",
    "# so that computer  can understand for machine learning task in regression"
   ]
  },
  {
   "cell_type": "code",
   "execution_count": 7,
   "id": "103b5fd6",
   "metadata": {},
   "outputs": [],
   "source": [
    "# So drop uneccessary columns\n",
    "df=df.drop(['sex','smoker','region'],axis=1)"
   ]
  },
  {
   "cell_type": "code",
   "execution_count": 8,
   "id": "73aaa22e",
   "metadata": {},
   "outputs": [
    {
     "data": {
      "text/plain": [
       "(1338, 7)"
      ]
     },
     "execution_count": 8,
     "metadata": {},
     "output_type": "execute_result"
    }
   ],
   "source": [
    "df.shape"
   ]
  },
  {
   "cell_type": "code",
   "execution_count": 9,
   "id": "e42ab58a",
   "metadata": {},
   "outputs": [
    {
     "data": {
      "text/html": [
       "<div>\n",
       "<style scoped>\n",
       "    .dataframe tbody tr th:only-of-type {\n",
       "        vertical-align: middle;\n",
       "    }\n",
       "\n",
       "    .dataframe tbody tr th {\n",
       "        vertical-align: top;\n",
       "    }\n",
       "\n",
       "    .dataframe thead th {\n",
       "        text-align: right;\n",
       "    }\n",
       "</style>\n",
       "<table border=\"1\" class=\"dataframe\">\n",
       "  <thead>\n",
       "    <tr style=\"text-align: right;\">\n",
       "      <th></th>\n",
       "      <th>age</th>\n",
       "      <th>New_Sex</th>\n",
       "      <th>bmi</th>\n",
       "      <th>children</th>\n",
       "      <th>New_Smoker</th>\n",
       "      <th>New_Region</th>\n",
       "      <th>charges</th>\n",
       "    </tr>\n",
       "  </thead>\n",
       "  <tbody>\n",
       "    <tr>\n",
       "      <th>0</th>\n",
       "      <td>19</td>\n",
       "      <td>0</td>\n",
       "      <td>27.900</td>\n",
       "      <td>0</td>\n",
       "      <td>1</td>\n",
       "      <td>3</td>\n",
       "      <td>16884.92400</td>\n",
       "    </tr>\n",
       "    <tr>\n",
       "      <th>1</th>\n",
       "      <td>18</td>\n",
       "      <td>1</td>\n",
       "      <td>33.770</td>\n",
       "      <td>1</td>\n",
       "      <td>0</td>\n",
       "      <td>2</td>\n",
       "      <td>1725.55230</td>\n",
       "    </tr>\n",
       "    <tr>\n",
       "      <th>2</th>\n",
       "      <td>28</td>\n",
       "      <td>1</td>\n",
       "      <td>33.000</td>\n",
       "      <td>3</td>\n",
       "      <td>0</td>\n",
       "      <td>2</td>\n",
       "      <td>4449.46200</td>\n",
       "    </tr>\n",
       "    <tr>\n",
       "      <th>3</th>\n",
       "      <td>33</td>\n",
       "      <td>1</td>\n",
       "      <td>22.705</td>\n",
       "      <td>0</td>\n",
       "      <td>0</td>\n",
       "      <td>1</td>\n",
       "      <td>21984.47061</td>\n",
       "    </tr>\n",
       "    <tr>\n",
       "      <th>4</th>\n",
       "      <td>32</td>\n",
       "      <td>1</td>\n",
       "      <td>28.880</td>\n",
       "      <td>0</td>\n",
       "      <td>0</td>\n",
       "      <td>1</td>\n",
       "      <td>3866.85520</td>\n",
       "    </tr>\n",
       "    <tr>\n",
       "      <th>...</th>\n",
       "      <td>...</td>\n",
       "      <td>...</td>\n",
       "      <td>...</td>\n",
       "      <td>...</td>\n",
       "      <td>...</td>\n",
       "      <td>...</td>\n",
       "      <td>...</td>\n",
       "    </tr>\n",
       "    <tr>\n",
       "      <th>1333</th>\n",
       "      <td>50</td>\n",
       "      <td>1</td>\n",
       "      <td>30.970</td>\n",
       "      <td>3</td>\n",
       "      <td>0</td>\n",
       "      <td>1</td>\n",
       "      <td>10600.54830</td>\n",
       "    </tr>\n",
       "    <tr>\n",
       "      <th>1334</th>\n",
       "      <td>18</td>\n",
       "      <td>0</td>\n",
       "      <td>31.920</td>\n",
       "      <td>0</td>\n",
       "      <td>0</td>\n",
       "      <td>0</td>\n",
       "      <td>2205.98080</td>\n",
       "    </tr>\n",
       "    <tr>\n",
       "      <th>1335</th>\n",
       "      <td>18</td>\n",
       "      <td>0</td>\n",
       "      <td>36.850</td>\n",
       "      <td>0</td>\n",
       "      <td>0</td>\n",
       "      <td>2</td>\n",
       "      <td>1629.83350</td>\n",
       "    </tr>\n",
       "    <tr>\n",
       "      <th>1336</th>\n",
       "      <td>21</td>\n",
       "      <td>0</td>\n",
       "      <td>25.800</td>\n",
       "      <td>0</td>\n",
       "      <td>0</td>\n",
       "      <td>3</td>\n",
       "      <td>2007.94500</td>\n",
       "    </tr>\n",
       "    <tr>\n",
       "      <th>1337</th>\n",
       "      <td>61</td>\n",
       "      <td>0</td>\n",
       "      <td>29.070</td>\n",
       "      <td>0</td>\n",
       "      <td>1</td>\n",
       "      <td>1</td>\n",
       "      <td>29141.36030</td>\n",
       "    </tr>\n",
       "  </tbody>\n",
       "</table>\n",
       "<p>1338 rows × 7 columns</p>\n",
       "</div>"
      ],
      "text/plain": [
       "      age  New_Sex     bmi  children  New_Smoker  New_Region      charges\n",
       "0      19        0  27.900         0           1           3  16884.92400\n",
       "1      18        1  33.770         1           0           2   1725.55230\n",
       "2      28        1  33.000         3           0           2   4449.46200\n",
       "3      33        1  22.705         0           0           1  21984.47061\n",
       "4      32        1  28.880         0           0           1   3866.85520\n",
       "...   ...      ...     ...       ...         ...         ...          ...\n",
       "1333   50        1  30.970         3           0           1  10600.54830\n",
       "1334   18        0  31.920         0           0           0   2205.98080\n",
       "1335   18        0  36.850         0           0           2   1629.83350\n",
       "1336   21        0  25.800         0           0           3   2007.94500\n",
       "1337   61        0  29.070         0           1           1  29141.36030\n",
       "\n",
       "[1338 rows x 7 columns]"
      ]
     },
     "execution_count": 9,
     "metadata": {},
     "output_type": "execute_result"
    }
   ],
   "source": [
    "df"
   ]
  },
  {
   "cell_type": "markdown",
   "id": "75c75626",
   "metadata": {},
   "source": [
    "### Data Exploration"
   ]
  },
  {
   "cell_type": "markdown",
   "id": "c0f98c0c",
   "metadata": {},
   "source": [
    "### Find correlation between variables\n"
   ]
  },
  {
   "cell_type": "code",
   "execution_count": 10,
   "id": "15b74e23",
   "metadata": {},
   "outputs": [
    {
     "data": {
      "text/html": [
       "<div>\n",
       "<style scoped>\n",
       "    .dataframe tbody tr th:only-of-type {\n",
       "        vertical-align: middle;\n",
       "    }\n",
       "\n",
       "    .dataframe tbody tr th {\n",
       "        vertical-align: top;\n",
       "    }\n",
       "\n",
       "    .dataframe thead th {\n",
       "        text-align: right;\n",
       "    }\n",
       "</style>\n",
       "<table border=\"1\" class=\"dataframe\">\n",
       "  <thead>\n",
       "    <tr style=\"text-align: right;\">\n",
       "      <th></th>\n",
       "      <th>age</th>\n",
       "      <th>New_Sex</th>\n",
       "      <th>bmi</th>\n",
       "      <th>children</th>\n",
       "      <th>New_Smoker</th>\n",
       "      <th>New_Region</th>\n",
       "      <th>charges</th>\n",
       "    </tr>\n",
       "  </thead>\n",
       "  <tbody>\n",
       "    <tr>\n",
       "      <th>age</th>\n",
       "      <td>1.000000</td>\n",
       "      <td>-0.020856</td>\n",
       "      <td>0.109272</td>\n",
       "      <td>0.042469</td>\n",
       "      <td>-0.025019</td>\n",
       "      <td>0.002127</td>\n",
       "      <td>0.299008</td>\n",
       "    </tr>\n",
       "    <tr>\n",
       "      <th>New_Sex</th>\n",
       "      <td>-0.020856</td>\n",
       "      <td>1.000000</td>\n",
       "      <td>0.046371</td>\n",
       "      <td>0.017163</td>\n",
       "      <td>0.076185</td>\n",
       "      <td>0.004588</td>\n",
       "      <td>0.057292</td>\n",
       "    </tr>\n",
       "    <tr>\n",
       "      <th>bmi</th>\n",
       "      <td>0.109272</td>\n",
       "      <td>0.046371</td>\n",
       "      <td>1.000000</td>\n",
       "      <td>0.012759</td>\n",
       "      <td>0.003750</td>\n",
       "      <td>0.157566</td>\n",
       "      <td>0.198341</td>\n",
       "    </tr>\n",
       "    <tr>\n",
       "      <th>children</th>\n",
       "      <td>0.042469</td>\n",
       "      <td>0.017163</td>\n",
       "      <td>0.012759</td>\n",
       "      <td>1.000000</td>\n",
       "      <td>0.007673</td>\n",
       "      <td>0.016569</td>\n",
       "      <td>0.067998</td>\n",
       "    </tr>\n",
       "    <tr>\n",
       "      <th>New_Smoker</th>\n",
       "      <td>-0.025019</td>\n",
       "      <td>0.076185</td>\n",
       "      <td>0.003750</td>\n",
       "      <td>0.007673</td>\n",
       "      <td>1.000000</td>\n",
       "      <td>-0.002181</td>\n",
       "      <td>0.787251</td>\n",
       "    </tr>\n",
       "    <tr>\n",
       "      <th>New_Region</th>\n",
       "      <td>0.002127</td>\n",
       "      <td>0.004588</td>\n",
       "      <td>0.157566</td>\n",
       "      <td>0.016569</td>\n",
       "      <td>-0.002181</td>\n",
       "      <td>1.000000</td>\n",
       "      <td>-0.006208</td>\n",
       "    </tr>\n",
       "    <tr>\n",
       "      <th>charges</th>\n",
       "      <td>0.299008</td>\n",
       "      <td>0.057292</td>\n",
       "      <td>0.198341</td>\n",
       "      <td>0.067998</td>\n",
       "      <td>0.787251</td>\n",
       "      <td>-0.006208</td>\n",
       "      <td>1.000000</td>\n",
       "    </tr>\n",
       "  </tbody>\n",
       "</table>\n",
       "</div>"
      ],
      "text/plain": [
       "                 age   New_Sex       bmi  children  New_Smoker  New_Region  \\\n",
       "age         1.000000 -0.020856  0.109272  0.042469   -0.025019    0.002127   \n",
       "New_Sex    -0.020856  1.000000  0.046371  0.017163    0.076185    0.004588   \n",
       "bmi         0.109272  0.046371  1.000000  0.012759    0.003750    0.157566   \n",
       "children    0.042469  0.017163  0.012759  1.000000    0.007673    0.016569   \n",
       "New_Smoker -0.025019  0.076185  0.003750  0.007673    1.000000   -0.002181   \n",
       "New_Region  0.002127  0.004588  0.157566  0.016569   -0.002181    1.000000   \n",
       "charges     0.299008  0.057292  0.198341  0.067998    0.787251   -0.006208   \n",
       "\n",
       "             charges  \n",
       "age         0.299008  \n",
       "New_Sex     0.057292  \n",
       "bmi         0.198341  \n",
       "children    0.067998  \n",
       "New_Smoker  0.787251  \n",
       "New_Region -0.006208  \n",
       "charges     1.000000  "
      ]
     },
     "execution_count": 10,
     "metadata": {},
     "output_type": "execute_result"
    }
   ],
   "source": [
    "df.corr()"
   ]
  },
  {
   "cell_type": "code",
   "execution_count": 11,
   "id": "12602a3c",
   "metadata": {},
   "outputs": [
    {
     "data": {
      "image/png": "[encoded data removed]",
      "text/plain": [
       "<Figure size 600x600 with 2 Axes>"
      ]
     },
     "metadata": {},
     "output_type": "display_data"
    }
   ],
   "source": [
    "from matplotlib import pyplot as plt\n",
    "import seaborn as sns\n",
    "plt.figure(figsize=(6,6))\n",
    "sns.heatmap(df.corr(),annot=True,cmap='coolwarm')\n",
    "plt.show()"
   ]
  },
  {
   "cell_type": "code",
   "execution_count": 12,
   "id": "1125dc30",
   "metadata": {},
   "outputs": [
    {
     "data": {
      "text/plain": [
       "0       16884.92400\n",
       "1        1725.55230\n",
       "2        4449.46200\n",
       "3       21984.47061\n",
       "4        3866.85520\n",
       "           ...     \n",
       "1333    10600.54830\n",
       "1334     2205.98080\n",
       "1335     1629.83350\n",
       "1336     2007.94500\n",
       "1337    29141.36030\n",
       "Name: charges, Length: 1338, dtype: float64"
      ]
     },
     "execution_count": 12,
     "metadata": {},
     "output_type": "execute_result"
    }
   ],
   "source": [
    "y=df.iloc[:,6]\n",
    "y"
   ]
  },
  {
   "cell_type": "code",
   "execution_count": 13,
   "id": "9ec576cd",
   "metadata": {},
   "outputs": [
    {
     "data": {
      "text/html": [
       "<div>\n",
       "<style scoped>\n",
       "    .dataframe tbody tr th:only-of-type {\n",
       "        vertical-align: middle;\n",
       "    }\n",
       "\n",
       "    .dataframe tbody tr th {\n",
       "        vertical-align: top;\n",
       "    }\n",
       "\n",
       "    .dataframe thead th {\n",
       "        text-align: right;\n",
       "    }\n",
       "</style>\n",
       "<table border=\"1\" class=\"dataframe\">\n",
       "  <thead>\n",
       "    <tr style=\"text-align: right;\">\n",
       "      <th></th>\n",
       "      <th>age</th>\n",
       "      <th>New_Sex</th>\n",
       "      <th>bmi</th>\n",
       "      <th>children</th>\n",
       "      <th>New_Smoker</th>\n",
       "      <th>New_Region</th>\n",
       "    </tr>\n",
       "  </thead>\n",
       "  <tbody>\n",
       "    <tr>\n",
       "      <th>0</th>\n",
       "      <td>19</td>\n",
       "      <td>0</td>\n",
       "      <td>27.900</td>\n",
       "      <td>0</td>\n",
       "      <td>1</td>\n",
       "      <td>3</td>\n",
       "    </tr>\n",
       "    <tr>\n",
       "      <th>1</th>\n",
       "      <td>18</td>\n",
       "      <td>1</td>\n",
       "      <td>33.770</td>\n",
       "      <td>1</td>\n",
       "      <td>0</td>\n",
       "      <td>2</td>\n",
       "    </tr>\n",
       "    <tr>\n",
       "      <th>2</th>\n",
       "      <td>28</td>\n",
       "      <td>1</td>\n",
       "      <td>33.000</td>\n",
       "      <td>3</td>\n",
       "      <td>0</td>\n",
       "      <td>2</td>\n",
       "    </tr>\n",
       "    <tr>\n",
       "      <th>3</th>\n",
       "      <td>33</td>\n",
       "      <td>1</td>\n",
       "      <td>22.705</td>\n",
       "      <td>0</td>\n",
       "      <td>0</td>\n",
       "      <td>1</td>\n",
       "    </tr>\n",
       "    <tr>\n",
       "      <th>4</th>\n",
       "      <td>32</td>\n",
       "      <td>1</td>\n",
       "      <td>28.880</td>\n",
       "      <td>0</td>\n",
       "      <td>0</td>\n",
       "      <td>1</td>\n",
       "    </tr>\n",
       "    <tr>\n",
       "      <th>...</th>\n",
       "      <td>...</td>\n",
       "      <td>...</td>\n",
       "      <td>...</td>\n",
       "      <td>...</td>\n",
       "      <td>...</td>\n",
       "      <td>...</td>\n",
       "    </tr>\n",
       "    <tr>\n",
       "      <th>1333</th>\n",
       "      <td>50</td>\n",
       "      <td>1</td>\n",
       "      <td>30.970</td>\n",
       "      <td>3</td>\n",
       "      <td>0</td>\n",
       "      <td>1</td>\n",
       "    </tr>\n",
       "    <tr>\n",
       "      <th>1334</th>\n",
       "      <td>18</td>\n",
       "      <td>0</td>\n",
       "      <td>31.920</td>\n",
       "      <td>0</td>\n",
       "      <td>0</td>\n",
       "      <td>0</td>\n",
       "    </tr>\n",
       "    <tr>\n",
       "      <th>1335</th>\n",
       "      <td>18</td>\n",
       "      <td>0</td>\n",
       "      <td>36.850</td>\n",
       "      <td>0</td>\n",
       "      <td>0</td>\n",
       "      <td>2</td>\n",
       "    </tr>\n",
       "    <tr>\n",
       "      <th>1336</th>\n",
       "      <td>21</td>\n",
       "      <td>0</td>\n",
       "      <td>25.800</td>\n",
       "      <td>0</td>\n",
       "      <td>0</td>\n",
       "      <td>3</td>\n",
       "    </tr>\n",
       "    <tr>\n",
       "      <th>1337</th>\n",
       "      <td>61</td>\n",
       "      <td>0</td>\n",
       "      <td>29.070</td>\n",
       "      <td>0</td>\n",
       "      <td>1</td>\n",
       "      <td>1</td>\n",
       "    </tr>\n",
       "  </tbody>\n",
       "</table>\n",
       "<p>1338 rows × 6 columns</p>\n",
       "</div>"
      ],
      "text/plain": [
       "      age  New_Sex     bmi  children  New_Smoker  New_Region\n",
       "0      19        0  27.900         0           1           3\n",
       "1      18        1  33.770         1           0           2\n",
       "2      28        1  33.000         3           0           2\n",
       "3      33        1  22.705         0           0           1\n",
       "4      32        1  28.880         0           0           1\n",
       "...   ...      ...     ...       ...         ...         ...\n",
       "1333   50        1  30.970         3           0           1\n",
       "1334   18        0  31.920         0           0           0\n",
       "1335   18        0  36.850         0           0           2\n",
       "1336   21        0  25.800         0           0           3\n",
       "1337   61        0  29.070         0           1           1\n",
       "\n",
       "[1338 rows x 6 columns]"
      ]
     },
     "execution_count": 13,
     "metadata": {},
     "output_type": "execute_result"
    }
   ],
   "source": [
    "X=df.iloc[:,0:6]\n",
    "X"
   ]
  },
  {
   "cell_type": "markdown",
   "id": "46e9e750",
   "metadata": {},
   "source": [
    "### First model"
   ]
  },
  {
   "cell_type": "code",
   "execution_count": 14,
   "id": "1f8a77a6",
   "metadata": {},
   "outputs": [],
   "source": [
    "X_train, X_test, y_train, y_test = train_test_split(X, y, test_size=0.3, random_state=42)"
   ]
  },
  {
   "cell_type": "code",
   "execution_count": 15,
   "id": "538e844f",
   "metadata": {},
   "outputs": [],
   "source": [
    "# Now lets normalize the datasets so as to enable all features have equal chance of contribution\n",
    "# So scale X_train and X_test\n",
    "scaling=StandardScaler()\n",
    "X_train=scaling.fit_transform(X_train)\n",
    "X_test=scaling.fit_transform(X_test)"
   ]
  },
  {
   "cell_type": "code",
   "execution_count": 268,
   "id": "45f09755",
   "metadata": {},
   "outputs": [
    {
     "data": {
      "text/plain": [
       "array([[ 1.54446486, -1.02597835,  0.10318223, -0.91501097, -0.51298918,\n",
       "        -0.42907066],\n",
       "       [ 0.48187425,  0.97467943, -0.4908445 , -0.91501097, -0.51298918,\n",
       "         1.36784271],\n",
       "       [ 1.04858924, -1.02597835,  0.2266597 ,  1.56027883, -0.51298918,\n",
       "         0.46938603],\n",
       "       ...,\n",
       "       [ 1.33194673,  0.97467943, -0.8954835 , -0.91501097, -0.51298918,\n",
       "        -1.32752735],\n",
       "       [-0.15568012, -1.02597835,  2.84638435,  0.73518223,  1.94935887,\n",
       "         1.36784271],\n",
       "       [ 1.11942861,  0.97467943, -0.10706319, -0.91501097, -0.51298918,\n",
       "         1.36784271]])"
      ]
     },
     "execution_count": 268,
     "metadata": {},
     "output_type": "execute_result"
    }
   ],
   "source": [
    "X_train"
   ]
  },
  {
   "cell_type": "code",
   "execution_count": 269,
   "id": "578ad03a",
   "metadata": {},
   "outputs": [
    {
     "name": "stdout",
     "output_type": "stream",
     "text": [
      "(936, 6) (936,)\n",
      "(402, 6) (402,)\n"
     ]
    }
   ],
   "source": [
    "print(X_train.shape, y_train.shape)\n",
    "print(X_test.shape, y_test.shape)"
   ]
  },
  {
   "cell_type": "code",
   "execution_count": 270,
   "id": "92a781d2",
   "metadata": {},
   "outputs": [
    {
     "data": {
      "text/plain": [
       "LinearRegression()"
      ]
     },
     "execution_count": 270,
     "metadata": {},
     "output_type": "execute_result"
    }
   ],
   "source": [
    "model = LinearRegression()  # define the linear regression model\n",
    "model.fit(X_train, y_train)  # fit the data"
   ]
  },
  {
   "cell_type": "code",
   "execution_count": 271,
   "id": "3a79cd22",
   "metadata": {},
   "outputs": [
    {
     "name": "stdout",
     "output_type": "stream",
     "text": [
      "The weight vector is: [3693.22419232   54.80557279 2064.85587799  514.32785602 9592.79601818\n",
      " -363.35933577]\n",
      "\n",
      "The bias is: 13379.157306773504\n"
     ]
    }
   ],
   "source": [
    "print('The weight vector is:', model.coef_)\n",
    "print()\n",
    "print('The bias is:', model.intercept_)"
   ]
  },
  {
   "cell_type": "code",
   "execution_count": 272,
   "id": "ff24027e",
   "metadata": {},
   "outputs": [
    {
     "name": "stdout",
     "output_type": "stream",
     "text": [
      "[ 9.17802505e+03  7.16305826e+03  3.77321932e+04  9.83623445e+03\n",
      "  2.75099058e+04  1.07080009e+04  1.86393349e+02  1.73012249e+04\n",
      "  1.21139960e+03  1.15968890e+04  2.86059370e+04  9.65551478e+03\n",
      "  5.25566409e+03  3.90657608e+04  4.10260085e+04  3.77848973e+04\n",
      "  1.52884276e+04  3.64876258e+04  9.27714747e+03  3.21429418e+04\n",
      "  3.83654322e+03  1.01710828e+04  2.19877622e+03  6.97056930e+03\n",
      "  1.15671685e+04  1.31596444e+04  1.45370625e+04  6.19052885e+03\n",
      "  1.01759106e+04  2.18439855e+03  9.05060452e+03  1.33420390e+04\n",
      "  4.41860310e+03  3.57477033e+03  4.36407552e+03  1.32017754e+04\n",
      "  1.74746466e+03  8.74639049e+03  3.40711254e+04  3.32023583e+04\n",
      "  3.66555274e+03  4.41397674e+03  1.41340507e+04  1.19044216e+04\n",
      "  8.87542656e+03  1.23303850e+04  5.21600171e+03  2.99177914e+03\n",
      "  3.61828234e+04  9.20565746e+03  1.60643152e+04  2.36572770e+03\n",
      "  1.23851880e+04  1.54606678e+03  1.36999103e+04  1.28842468e+04\n",
      "  4.52265595e+03  3.28094723e+04  1.33513131e+04  1.30797199e+04\n",
      "  1.42573513e+04  1.03752427e+04  1.65382928e+04  7.98075947e+03\n",
      "  1.20376053e+04  4.13207234e+03  2.70681830e+04  1.13104406e+04\n",
      "  2.21622579e+03  5.97039183e+03  1.08714817e+04  1.17720592e+04\n",
      "  1.11016347e+04  9.35824064e+03  1.21249491e+04  6.79366195e+03\n",
      "  7.35078124e+03  1.10583888e+04  6.53652762e+03  8.77228351e+03\n",
      "  3.75894469e+03  3.75841761e+04  6.21891890e+03  3.12193309e+04\n",
      "  3.51545827e+04  3.60663913e+04  7.14417637e+03  1.32297584e+04\n",
      "  1.01092177e+04  1.45724141e+04  1.79238782e+04  3.61228948e+04\n",
      "  3.37288818e+04  6.36850073e+03  3.25835898e+04  9.50808518e+03\n",
      "  3.00892052e+04  3.54148205e+03  2.89263343e+04  5.95778576e+03\n",
      "  5.47138015e+03  1.59905129e+03  1.16123650e+04  1.52075187e+04\n",
      "  1.21837261e+04  4.27050475e+03  1.01499269e+04  3.26219922e+04\n",
      "  2.51856221e+01  3.35921560e+04  3.08091997e+03  1.01014799e+04\n",
      "  1.45640520e+04  3.21622109e+04  1.16410059e+04  3.74730628e+03\n",
      "  1.35315676e+04  3.22748570e+04  8.21313726e+03  3.37651915e+03\n",
      "  8.45568171e+03  1.08349736e+04  1.53554452e+04  5.65016535e+03\n",
      "  3.88213122e+03  1.03528679e+04  1.09584871e+04  1.14402671e+04\n",
      "  1.46403040e+04  7.36066595e+03  5.40558994e+03  9.37343023e+03\n",
      "  9.33403033e+03  1.25955160e+04  8.19635543e+03  1.54668961e+04\n",
      "  8.51807469e+03  3.23307159e+04  3.63509723e+04  3.21553112e+04\n",
      "  6.13879136e+03  1.27646790e+04  6.03871825e+03  1.47393753e+04\n",
      "  2.60991474e+03  3.36220391e+04  6.50200928e+03  4.85825318e+03\n",
      "  1.45336633e+04  6.92282890e+03  3.93622316e+04  3.08227772e+03\n",
      "  5.77831750e+03  3.22982374e+04  1.15735328e+04  8.59799917e+03\n",
      "  1.52122977e+04  9.97457257e+03  2.74523331e+04  3.41481305e+04\n",
      "  1.48107251e+04  1.67460212e+03  1.34732948e+04  2.34918826e+03\n",
      "  5.31356176e+03  1.17380295e+04  4.03260655e+04  3.72658370e+04\n",
      "  3.47471739e+04  3.65338811e+03  7.53352826e+03  8.53124294e+03\n",
      "  1.25359981e+04  5.04018189e+03  1.80941994e+03  3.29314735e+04\n",
      "  2.54576992e+04  1.78058043e+04  2.71013602e+04  1.05175454e+04\n",
      "  3.80821082e+04 -3.73972648e+02  7.21908690e+03  7.59253270e+03\n",
      "  4.59302145e+03  5.05554404e+03  6.05509381e+03  4.13469048e+03\n",
      "  1.51857550e+04  1.15536852e+04  6.75112934e+03  2.42965021e+03\n",
      "  1.53885089e+03  3.23271552e+04  1.67344068e+04  1.21516735e+04\n",
      "  1.27110304e+03  1.27839157e+04  1.49849849e+03  8.77167519e+03\n",
      "  1.95636195e+03  3.48031723e+04  1.08442797e+04  2.71376494e+03\n",
      "  2.61028576e+04  2.68501933e+04  9.81941204e+03  1.88006920e+03\n",
      "  1.34395096e+04  9.82452500e+02  1.07029546e+04  1.08751005e+04\n",
      "  1.69244321e+04  2.74484065e+04  7.21646977e+03  5.22000904e+03\n",
      "  5.88901311e+03  1.35310888e+04  1.14203575e+04  8.36203900e+03\n",
      "  5.03303934e+03  1.25057810e+04  1.38949899e+04  3.64327645e+04\n",
      "  4.22938038e+03  2.94901622e+04 -1.11272392e+03  2.93430165e+03\n",
      "  1.13644721e+04  1.57589035e+04  5.17515358e+03  7.24454339e+03\n",
      "  3.72151092e+03  3.18780870e+04  7.60381338e+03  1.26274887e+04\n",
      "  5.75630757e+03  9.52920085e+03  3.68116876e+04  4.43501110e+03\n",
      "  1.00697763e+04  3.15334697e+04  5.69415956e+03  4.56501718e+03\n",
      "  1.16511337e+03  4.95257739e+03  4.40284382e+03  6.45108433e+03\n",
      "  1.87153526e+04 -1.34899630e+03  2.09391005e+03  1.06876655e+04\n",
      "  2.98161302e+03  1.05438859e+04  3.66105914e+03  5.05358533e+03\n",
      "  1.26210442e+04  6.31663260e+03  8.61740751e+03  7.62291087e+03\n",
      "  9.09185055e+03  1.08993202e+04  2.83974060e+04  3.99196959e+04\n",
      "  1.20873127e+04  7.92283459e+03  4.14398466e+04  1.22805247e+04\n",
      "  7.40034405e+03  8.56518221e+03  9.39893644e+03  1.11942114e+04\n",
      "  1.04591004e+04  1.78631022e+04  8.94604206e+02  2.41972907e+04\n",
      "  1.27694806e+04  3.38152419e+04  5.45985371e+03  1.33984254e+04\n",
      "  1.05920326e+04  1.79938800e+04  1.00465624e+04  1.17127539e+04\n",
      "  3.27104416e+04  3.44018895e+03  1.37705703e+04  4.00500904e+04\n",
      "  5.66944242e+03  6.17626533e+03  3.32976355e+03  1.15612038e+04\n",
      "  2.61693872e+04  1.43661646e+04  9.63031921e+03  1.04447959e+04\n",
      "  1.37089308e+04  9.21887421e+02  2.45652817e+03  3.11928604e+04\n",
      "  3.04628533e+04  1.36350042e+04  3.69046355e+03  2.60184291e+04\n",
      "  1.38187966e+04  3.12803434e+04  3.42753573e+03  3.97905197e+04\n",
      "  1.12260544e+04  4.73425350e+03  6.76417506e+03  2.58136284e+03\n",
      "  2.65616867e+04  1.44486044e+04  5.17558131e+02  1.28339485e+04\n",
      "  1.29665460e+04  1.51290750e+04  3.56427114e+04  1.45934974e+04\n",
      "  3.24412722e+04  9.96203155e+03  1.82794661e+04  5.88610269e+03\n",
      "  9.16932990e+03  9.42918481e+03  1.56319698e+04  9.30544627e+03\n",
      "  8.26564803e+03  1.50523279e+04  1.30805002e+04  1.50477918e+04\n",
      "  7.40812986e+03  2.66275593e+04  9.42007440e+03  1.99927324e+03\n",
      "  4.41611544e+03  1.41871292e+04  3.64175749e+04  9.65103854e+03\n",
      "  1.31077029e+04  5.60782977e+03  5.12203287e+03  3.91822397e+03\n",
      "  2.74003412e+03  9.21539540e+03  7.32943232e+03  2.47008456e+03\n",
      "  1.31497204e+04  9.07968514e+03  5.94605790e+03  6.67898784e+02\n",
      "  9.53607748e+03  4.92955406e+03  3.36713314e+04  2.89490261e+04\n",
      "  3.75865511e+04  5.46468429e+03  8.91958308e+03  8.48382797e+03\n",
      "  3.30277370e+03  3.23849170e+04  7.38664825e+03  2.92354911e+04\n",
      "  3.67855810e+04  7.22656543e+03  1.30341510e+04  9.88651168e+03\n",
      "  8.63497999e+03  1.29119460e+04  3.10060371e+04  1.70909378e+04\n",
      "  1.18845254e+04  4.18429763e+03 -1.19301448e+03  1.24193800e+04\n",
      "  3.14097311e+04  1.32916319e+04  1.13494450e+04  7.82261784e+03\n",
      "  3.74893887e+03  7.17681754e+03  7.32454981e+03  1.07047098e+04\n",
      "  3.45647879e+04  3.97509161e+04  1.20117615e+04  8.51633709e+03\n",
      "  1.66579524e+04  1.57510602e+04  9.52642046e+03  9.04504686e+03\n",
      "  9.05615515e+03  2.73864361e+03  1.01507490e+04  4.11341233e+03\n",
      "  1.07702258e+04  1.60369007e+04  6.83142865e+03  2.11926630e+03\n",
      "  1.47713078e+04  1.53387334e+02]\n",
      "(402,)\n"
     ]
    }
   ],
   "source": [
    "y_pred = model.predict(X_test) # make predictions for the test data\n",
    "print(y_pred)  # it returns us a `np.ndarray` object\n",
    "print(y_pred.shape)"
   ]
  },
  {
   "cell_type": "code",
   "execution_count": 273,
   "id": "5c4c7ace",
   "metadata": {},
   "outputs": [
    {
     "data": {
      "text/plain": [
       "5815.818415654073"
      ]
     },
     "execution_count": 273,
     "metadata": {},
     "output_type": "execute_result"
    }
   ],
   "source": [
    "# Compute mse\n",
    "math.sqrt(mean_squared_error(y_test,y_pred))"
   ]
  },
  {
   "cell_type": "code",
   "execution_count": 274,
   "id": "a49548da",
   "metadata": {},
   "outputs": [
    {
     "data": {
      "text/plain": [
       "0.7693169411699159"
      ]
     },
     "execution_count": 274,
     "metadata": {},
     "output_type": "execute_result"
    }
   ],
   "source": [
    "r2_score(y_test,y_pred)"
   ]
  },
  {
   "cell_type": "markdown",
   "id": "2ccebbb6",
   "metadata": {},
   "source": [
    "### Second model"
   ]
  },
  {
   "cell_type": "code",
   "execution_count": 275,
   "id": "54e24e22",
   "metadata": {},
   "outputs": [
    {
     "data": {
      "text/html": [
       "<div>\n",
       "<style scoped>\n",
       "    .dataframe tbody tr th:only-of-type {\n",
       "        vertical-align: middle;\n",
       "    }\n",
       "\n",
       "    .dataframe tbody tr th {\n",
       "        vertical-align: top;\n",
       "    }\n",
       "\n",
       "    .dataframe thead th {\n",
       "        text-align: right;\n",
       "    }\n",
       "</style>\n",
       "<table border=\"1\" class=\"dataframe\">\n",
       "  <thead>\n",
       "    <tr style=\"text-align: right;\">\n",
       "      <th></th>\n",
       "      <th>age</th>\n",
       "      <th>New_Sex</th>\n",
       "      <th>bmi</th>\n",
       "      <th>children</th>\n",
       "      <th>New_Smoker</th>\n",
       "      <th>New_Region</th>\n",
       "      <th>charges</th>\n",
       "    </tr>\n",
       "  </thead>\n",
       "  <tbody>\n",
       "    <tr>\n",
       "      <th>age</th>\n",
       "      <td>1.000000</td>\n",
       "      <td>-0.020856</td>\n",
       "      <td>0.109272</td>\n",
       "      <td>0.042469</td>\n",
       "      <td>-0.025019</td>\n",
       "      <td>0.002127</td>\n",
       "      <td>0.299008</td>\n",
       "    </tr>\n",
       "    <tr>\n",
       "      <th>New_Sex</th>\n",
       "      <td>-0.020856</td>\n",
       "      <td>1.000000</td>\n",
       "      <td>0.046371</td>\n",
       "      <td>0.017163</td>\n",
       "      <td>0.076185</td>\n",
       "      <td>0.004588</td>\n",
       "      <td>0.057292</td>\n",
       "    </tr>\n",
       "    <tr>\n",
       "      <th>bmi</th>\n",
       "      <td>0.109272</td>\n",
       "      <td>0.046371</td>\n",
       "      <td>1.000000</td>\n",
       "      <td>0.012759</td>\n",
       "      <td>0.003750</td>\n",
       "      <td>0.157566</td>\n",
       "      <td>0.198341</td>\n",
       "    </tr>\n",
       "    <tr>\n",
       "      <th>children</th>\n",
       "      <td>0.042469</td>\n",
       "      <td>0.017163</td>\n",
       "      <td>0.012759</td>\n",
       "      <td>1.000000</td>\n",
       "      <td>0.007673</td>\n",
       "      <td>0.016569</td>\n",
       "      <td>0.067998</td>\n",
       "    </tr>\n",
       "    <tr>\n",
       "      <th>New_Smoker</th>\n",
       "      <td>-0.025019</td>\n",
       "      <td>0.076185</td>\n",
       "      <td>0.003750</td>\n",
       "      <td>0.007673</td>\n",
       "      <td>1.000000</td>\n",
       "      <td>-0.002181</td>\n",
       "      <td>0.787251</td>\n",
       "    </tr>\n",
       "    <tr>\n",
       "      <th>New_Region</th>\n",
       "      <td>0.002127</td>\n",
       "      <td>0.004588</td>\n",
       "      <td>0.157566</td>\n",
       "      <td>0.016569</td>\n",
       "      <td>-0.002181</td>\n",
       "      <td>1.000000</td>\n",
       "      <td>-0.006208</td>\n",
       "    </tr>\n",
       "    <tr>\n",
       "      <th>charges</th>\n",
       "      <td>0.299008</td>\n",
       "      <td>0.057292</td>\n",
       "      <td>0.198341</td>\n",
       "      <td>0.067998</td>\n",
       "      <td>0.787251</td>\n",
       "      <td>-0.006208</td>\n",
       "      <td>1.000000</td>\n",
       "    </tr>\n",
       "  </tbody>\n",
       "</table>\n",
       "</div>"
      ],
      "text/plain": [
       "                 age   New_Sex       bmi  children  New_Smoker  New_Region  \\\n",
       "age         1.000000 -0.020856  0.109272  0.042469   -0.025019    0.002127   \n",
       "New_Sex    -0.020856  1.000000  0.046371  0.017163    0.076185    0.004588   \n",
       "bmi         0.109272  0.046371  1.000000  0.012759    0.003750    0.157566   \n",
       "children    0.042469  0.017163  0.012759  1.000000    0.007673    0.016569   \n",
       "New_Smoker -0.025019  0.076185  0.003750  0.007673    1.000000   -0.002181   \n",
       "New_Region  0.002127  0.004588  0.157566  0.016569   -0.002181    1.000000   \n",
       "charges     0.299008  0.057292  0.198341  0.067998    0.787251   -0.006208   \n",
       "\n",
       "             charges  \n",
       "age         0.299008  \n",
       "New_Sex     0.057292  \n",
       "bmi         0.198341  \n",
       "children    0.067998  \n",
       "New_Smoker  0.787251  \n",
       "New_Region -0.006208  \n",
       "charges     1.000000  "
      ]
     },
     "execution_count": 275,
     "metadata": {},
     "output_type": "execute_result"
    }
   ],
   "source": [
    "df.corr()"
   ]
  },
  {
   "cell_type": "code",
   "execution_count": 276,
   "id": "6c575272",
   "metadata": {},
   "outputs": [
    {
     "data": {
      "image/png": "[encoded data removed]",
      "text/plain": [
       "<Figure size 600x600 with 2 Axes>"
      ]
     },
     "metadata": {},
     "output_type": "display_data"
    }
   ],
   "source": [
    "from matplotlib import pyplot as plt\n",
    "import seaborn as sns\n",
    "plt.figure(figsize=(6,6))\n",
    "sns.heatmap(df.corr(),annot=True,cmap='coolwarm')\n",
    "plt.show()"
   ]
  },
  {
   "cell_type": "markdown",
   "id": "0d5f9396",
   "metadata": {},
   "source": [
    "So from above we can observe that there is a strong linear correlation between the charges(target) and New_smoker"
   ]
  },
  {
   "cell_type": "code",
   "execution_count": 277,
   "id": "9dfad76d",
   "metadata": {},
   "outputs": [
    {
     "data": {
      "text/plain": [
       "0       16884.92400\n",
       "1        1725.55230\n",
       "2        4449.46200\n",
       "3       21984.47061\n",
       "4        3866.85520\n",
       "           ...     \n",
       "1333    10600.54830\n",
       "1334     2205.98080\n",
       "1335     1629.83350\n",
       "1336     2007.94500\n",
       "1337    29141.36030\n",
       "Name: charges, Length: 1338, dtype: float64"
      ]
     },
     "execution_count": 277,
     "metadata": {},
     "output_type": "execute_result"
    }
   ],
   "source": [
    "y=df.iloc[:,6]\n",
    "y"
   ]
  },
  {
   "cell_type": "code",
   "execution_count": 278,
   "id": "6a327d4f",
   "metadata": {},
   "outputs": [
    {
     "data": {
      "text/plain": [
       "0       1\n",
       "1       0\n",
       "2       0\n",
       "3       0\n",
       "4       0\n",
       "       ..\n",
       "1333    0\n",
       "1334    0\n",
       "1335    0\n",
       "1336    0\n",
       "1337    1\n",
       "Name: New_Smoker, Length: 1338, dtype: int64"
      ]
     },
     "execution_count": 278,
     "metadata": {},
     "output_type": "execute_result"
    }
   ],
   "source": [
    "X=df.iloc[:,4]\n",
    "X"
   ]
  },
  {
   "cell_type": "markdown",
   "id": "4c12ae09",
   "metadata": {},
   "source": [
    "### Lets reshape X and y \n"
   ]
  },
  {
   "cell_type": "markdown",
   "id": "b593a1c1",
   "metadata": {},
   "source": [
    "We have to reshape X and y because they are both single arrays"
   ]
  },
  {
   "cell_type": "code",
   "execution_count": 279,
   "id": "5231c9b4",
   "metadata": {},
   "outputs": [],
   "source": [
    "X=X.values.reshape(-1,1)\n",
    "y=y.values.reshape(-1,1)"
   ]
  },
  {
   "cell_type": "code",
   "execution_count": 280,
   "id": "695d2b8b",
   "metadata": {},
   "outputs": [],
   "source": [
    "X_train, X_test, y_train, y_test = train_test_split(X, y, test_size=0.3, random_state=42)"
   ]
  },
  {
   "cell_type": "code",
   "execution_count": 281,
   "id": "73451fa6",
   "metadata": {},
   "outputs": [],
   "source": [
    "# Now lets normalize the datasets so as to enable all features have equal chance of contribution\n",
    "# So scale X_train and X_test\n",
    "scaling=StandardScaler()\n",
    "X_train=scaling.fit_transform(X_train)\n",
    "X_test=scaling.fit_transform(X_test)"
   ]
  },
  {
   "cell_type": "code",
   "execution_count": 282,
   "id": "fa8c7c91",
   "metadata": {},
   "outputs": [
    {
     "name": "stdout",
     "output_type": "stream",
     "text": [
      "(936, 1) (936, 1)\n",
      "(402, 1) (402, 1)\n"
     ]
    }
   ],
   "source": [
    "print(X_train.shape, y_train.shape)\n",
    "print(X_test.shape, y_test.shape)"
   ]
  },
  {
   "cell_type": "code",
   "execution_count": 283,
   "id": "3b35aeaf",
   "metadata": {},
   "outputs": [
    {
     "data": {
      "text/plain": [
       "LinearRegression()"
      ]
     },
     "execution_count": 283,
     "metadata": {},
     "output_type": "execute_result"
    }
   ],
   "source": [
    "model = LinearRegression()  # define the linear regression model\n",
    "model.fit(X_train, y_train)  # fit the data"
   ]
  },
  {
   "cell_type": "code",
   "execution_count": 284,
   "id": "1d139119",
   "metadata": {},
   "outputs": [
    {
     "name": "stdout",
     "output_type": "stream",
     "text": [
      "The weight vector is: [[9427.649439]]\n",
      "\n",
      "The bias is: [13379.15730677]\n"
     ]
    }
   ],
   "source": [
    "print('The weight vector is:', model.coef_)\n",
    "print()\n",
    "print('The bias is:', model.intercept_)"
   ]
  },
  {
   "cell_type": "code",
   "execution_count": 285,
   "id": "bbb25064",
   "metadata": {},
   "outputs": [
    {
     "name": "stdout",
     "output_type": "stream",
     "text": [
      "[[ 8716.69096492]\n",
      " [ 8716.69096492]\n",
      " [32442.15260323]\n",
      " [ 8716.69096492]\n",
      " [32442.15260323]\n",
      " [ 8716.69096492]\n",
      " [ 8716.69096492]\n",
      " [ 8716.69096492]\n",
      " [ 8716.69096492]\n",
      " [ 8716.69096492]\n",
      " [32442.15260323]\n",
      " [ 8716.69096492]\n",
      " [ 8716.69096492]\n",
      " [32442.15260323]\n",
      " [32442.15260323]\n",
      " [32442.15260323]\n",
      " [ 8716.69096492]\n",
      " [32442.15260323]\n",
      " [ 8716.69096492]\n",
      " [32442.15260323]\n",
      " [ 8716.69096492]\n",
      " [ 8716.69096492]\n",
      " [ 8716.69096492]\n",
      " [ 8716.69096492]\n",
      " [ 8716.69096492]\n",
      " [ 8716.69096492]\n",
      " [ 8716.69096492]\n",
      " [ 8716.69096492]\n",
      " [ 8716.69096492]\n",
      " [ 8716.69096492]\n",
      " [ 8716.69096492]\n",
      " [ 8716.69096492]\n",
      " [ 8716.69096492]\n",
      " [ 8716.69096492]\n",
      " [ 8716.69096492]\n",
      " [ 8716.69096492]\n",
      " [ 8716.69096492]\n",
      " [ 8716.69096492]\n",
      " [32442.15260323]\n",
      " [32442.15260323]\n",
      " [ 8716.69096492]\n",
      " [ 8716.69096492]\n",
      " [ 8716.69096492]\n",
      " [ 8716.69096492]\n",
      " [ 8716.69096492]\n",
      " [ 8716.69096492]\n",
      " [ 8716.69096492]\n",
      " [ 8716.69096492]\n",
      " [32442.15260323]\n",
      " [ 8716.69096492]\n",
      " [ 8716.69096492]\n",
      " [ 8716.69096492]\n",
      " [ 8716.69096492]\n",
      " [ 8716.69096492]\n",
      " [ 8716.69096492]\n",
      " [ 8716.69096492]\n",
      " [ 8716.69096492]\n",
      " [32442.15260323]\n",
      " [ 8716.69096492]\n",
      " [ 8716.69096492]\n",
      " [ 8716.69096492]\n",
      " [ 8716.69096492]\n",
      " [ 8716.69096492]\n",
      " [ 8716.69096492]\n",
      " [ 8716.69096492]\n",
      " [ 8716.69096492]\n",
      " [32442.15260323]\n",
      " [ 8716.69096492]\n",
      " [ 8716.69096492]\n",
      " [ 8716.69096492]\n",
      " [ 8716.69096492]\n",
      " [ 8716.69096492]\n",
      " [ 8716.69096492]\n",
      " [ 8716.69096492]\n",
      " [ 8716.69096492]\n",
      " [ 8716.69096492]\n",
      " [ 8716.69096492]\n",
      " [ 8716.69096492]\n",
      " [ 8716.69096492]\n",
      " [ 8716.69096492]\n",
      " [ 8716.69096492]\n",
      " [32442.15260323]\n",
      " [ 8716.69096492]\n",
      " [32442.15260323]\n",
      " [32442.15260323]\n",
      " [32442.15260323]\n",
      " [ 8716.69096492]\n",
      " [ 8716.69096492]\n",
      " [ 8716.69096492]\n",
      " [ 8716.69096492]\n",
      " [ 8716.69096492]\n",
      " [32442.15260323]\n",
      " [32442.15260323]\n",
      " [ 8716.69096492]\n",
      " [32442.15260323]\n",
      " [ 8716.69096492]\n",
      " [32442.15260323]\n",
      " [ 8716.69096492]\n",
      " [32442.15260323]\n",
      " [ 8716.69096492]\n",
      " [ 8716.69096492]\n",
      " [ 8716.69096492]\n",
      " [ 8716.69096492]\n",
      " [ 8716.69096492]\n",
      " [ 8716.69096492]\n",
      " [ 8716.69096492]\n",
      " [ 8716.69096492]\n",
      " [32442.15260323]\n",
      " [ 8716.69096492]\n",
      " [32442.15260323]\n",
      " [ 8716.69096492]\n",
      " [ 8716.69096492]\n",
      " [ 8716.69096492]\n",
      " [32442.15260323]\n",
      " [ 8716.69096492]\n",
      " [ 8716.69096492]\n",
      " [ 8716.69096492]\n",
      " [32442.15260323]\n",
      " [ 8716.69096492]\n",
      " [ 8716.69096492]\n",
      " [ 8716.69096492]\n",
      " [ 8716.69096492]\n",
      " [ 8716.69096492]\n",
      " [ 8716.69096492]\n",
      " [ 8716.69096492]\n",
      " [ 8716.69096492]\n",
      " [ 8716.69096492]\n",
      " [ 8716.69096492]\n",
      " [ 8716.69096492]\n",
      " [ 8716.69096492]\n",
      " [ 8716.69096492]\n",
      " [ 8716.69096492]\n",
      " [ 8716.69096492]\n",
      " [ 8716.69096492]\n",
      " [ 8716.69096492]\n",
      " [ 8716.69096492]\n",
      " [ 8716.69096492]\n",
      " [32442.15260323]\n",
      " [32442.15260323]\n",
      " [32442.15260323]\n",
      " [ 8716.69096492]\n",
      " [ 8716.69096492]\n",
      " [ 8716.69096492]\n",
      " [ 8716.69096492]\n",
      " [ 8716.69096492]\n",
      " [32442.15260323]\n",
      " [ 8716.69096492]\n",
      " [ 8716.69096492]\n",
      " [ 8716.69096492]\n",
      " [ 8716.69096492]\n",
      " [32442.15260323]\n",
      " [ 8716.69096492]\n",
      " [ 8716.69096492]\n",
      " [32442.15260323]\n",
      " [ 8716.69096492]\n",
      " [ 8716.69096492]\n",
      " [ 8716.69096492]\n",
      " [ 8716.69096492]\n",
      " [32442.15260323]\n",
      " [32442.15260323]\n",
      " [ 8716.69096492]\n",
      " [ 8716.69096492]\n",
      " [ 8716.69096492]\n",
      " [ 8716.69096492]\n",
      " [ 8716.69096492]\n",
      " [ 8716.69096492]\n",
      " [32442.15260323]\n",
      " [32442.15260323]\n",
      " [32442.15260323]\n",
      " [ 8716.69096492]\n",
      " [ 8716.69096492]\n",
      " [ 8716.69096492]\n",
      " [ 8716.69096492]\n",
      " [ 8716.69096492]\n",
      " [ 8716.69096492]\n",
      " [32442.15260323]\n",
      " [32442.15260323]\n",
      " [ 8716.69096492]\n",
      " [32442.15260323]\n",
      " [ 8716.69096492]\n",
      " [32442.15260323]\n",
      " [ 8716.69096492]\n",
      " [ 8716.69096492]\n",
      " [ 8716.69096492]\n",
      " [ 8716.69096492]\n",
      " [ 8716.69096492]\n",
      " [ 8716.69096492]\n",
      " [ 8716.69096492]\n",
      " [ 8716.69096492]\n",
      " [ 8716.69096492]\n",
      " [ 8716.69096492]\n",
      " [ 8716.69096492]\n",
      " [ 8716.69096492]\n",
      " [32442.15260323]\n",
      " [ 8716.69096492]\n",
      " [ 8716.69096492]\n",
      " [ 8716.69096492]\n",
      " [ 8716.69096492]\n",
      " [ 8716.69096492]\n",
      " [ 8716.69096492]\n",
      " [ 8716.69096492]\n",
      " [32442.15260323]\n",
      " [ 8716.69096492]\n",
      " [ 8716.69096492]\n",
      " [32442.15260323]\n",
      " [32442.15260323]\n",
      " [ 8716.69096492]\n",
      " [ 8716.69096492]\n",
      " [ 8716.69096492]\n",
      " [ 8716.69096492]\n",
      " [ 8716.69096492]\n",
      " [ 8716.69096492]\n",
      " [ 8716.69096492]\n",
      " [32442.15260323]\n",
      " [ 8716.69096492]\n",
      " [ 8716.69096492]\n",
      " [ 8716.69096492]\n",
      " [ 8716.69096492]\n",
      " [ 8716.69096492]\n",
      " [ 8716.69096492]\n",
      " [ 8716.69096492]\n",
      " [ 8716.69096492]\n",
      " [ 8716.69096492]\n",
      " [32442.15260323]\n",
      " [ 8716.69096492]\n",
      " [32442.15260323]\n",
      " [ 8716.69096492]\n",
      " [ 8716.69096492]\n",
      " [ 8716.69096492]\n",
      " [ 8716.69096492]\n",
      " [ 8716.69096492]\n",
      " [ 8716.69096492]\n",
      " [ 8716.69096492]\n",
      " [32442.15260323]\n",
      " [ 8716.69096492]\n",
      " [ 8716.69096492]\n",
      " [ 8716.69096492]\n",
      " [ 8716.69096492]\n",
      " [32442.15260323]\n",
      " [ 8716.69096492]\n",
      " [ 8716.69096492]\n",
      " [32442.15260323]\n",
      " [ 8716.69096492]\n",
      " [ 8716.69096492]\n",
      " [ 8716.69096492]\n",
      " [ 8716.69096492]\n",
      " [ 8716.69096492]\n",
      " [ 8716.69096492]\n",
      " [ 8716.69096492]\n",
      " [ 8716.69096492]\n",
      " [ 8716.69096492]\n",
      " [ 8716.69096492]\n",
      " [ 8716.69096492]\n",
      " [ 8716.69096492]\n",
      " [ 8716.69096492]\n",
      " [ 8716.69096492]\n",
      " [ 8716.69096492]\n",
      " [ 8716.69096492]\n",
      " [ 8716.69096492]\n",
      " [ 8716.69096492]\n",
      " [ 8716.69096492]\n",
      " [ 8716.69096492]\n",
      " [32442.15260323]\n",
      " [32442.15260323]\n",
      " [ 8716.69096492]\n",
      " [ 8716.69096492]\n",
      " [32442.15260323]\n",
      " [ 8716.69096492]\n",
      " [ 8716.69096492]\n",
      " [ 8716.69096492]\n",
      " [ 8716.69096492]\n",
      " [ 8716.69096492]\n",
      " [ 8716.69096492]\n",
      " [ 8716.69096492]\n",
      " [ 8716.69096492]\n",
      " [32442.15260323]\n",
      " [ 8716.69096492]\n",
      " [32442.15260323]\n",
      " [ 8716.69096492]\n",
      " [ 8716.69096492]\n",
      " [ 8716.69096492]\n",
      " [ 8716.69096492]\n",
      " [ 8716.69096492]\n",
      " [ 8716.69096492]\n",
      " [32442.15260323]\n",
      " [ 8716.69096492]\n",
      " [ 8716.69096492]\n",
      " [32442.15260323]\n",
      " [ 8716.69096492]\n",
      " [ 8716.69096492]\n",
      " [ 8716.69096492]\n",
      " [ 8716.69096492]\n",
      " [32442.15260323]\n",
      " [ 8716.69096492]\n",
      " [ 8716.69096492]\n",
      " [ 8716.69096492]\n",
      " [ 8716.69096492]\n",
      " [ 8716.69096492]\n",
      " [ 8716.69096492]\n",
      " [32442.15260323]\n",
      " [32442.15260323]\n",
      " [ 8716.69096492]\n",
      " [ 8716.69096492]\n",
      " [32442.15260323]\n",
      " [ 8716.69096492]\n",
      " [32442.15260323]\n",
      " [ 8716.69096492]\n",
      " [32442.15260323]\n",
      " [ 8716.69096492]\n",
      " [ 8716.69096492]\n",
      " [ 8716.69096492]\n",
      " [ 8716.69096492]\n",
      " [32442.15260323]\n",
      " [ 8716.69096492]\n",
      " [ 8716.69096492]\n",
      " [ 8716.69096492]\n",
      " [ 8716.69096492]\n",
      " [ 8716.69096492]\n",
      " [32442.15260323]\n",
      " [ 8716.69096492]\n",
      " [32442.15260323]\n",
      " [ 8716.69096492]\n",
      " [ 8716.69096492]\n",
      " [ 8716.69096492]\n",
      " [ 8716.69096492]\n",
      " [ 8716.69096492]\n",
      " [ 8716.69096492]\n",
      " [ 8716.69096492]\n",
      " [ 8716.69096492]\n",
      " [ 8716.69096492]\n",
      " [ 8716.69096492]\n",
      " [ 8716.69096492]\n",
      " [ 8716.69096492]\n",
      " [32442.15260323]\n",
      " [ 8716.69096492]\n",
      " [ 8716.69096492]\n",
      " [ 8716.69096492]\n",
      " [ 8716.69096492]\n",
      " [32442.15260323]\n",
      " [ 8716.69096492]\n",
      " [ 8716.69096492]\n",
      " [ 8716.69096492]\n",
      " [ 8716.69096492]\n",
      " [ 8716.69096492]\n",
      " [ 8716.69096492]\n",
      " [ 8716.69096492]\n",
      " [ 8716.69096492]\n",
      " [ 8716.69096492]\n",
      " [ 8716.69096492]\n",
      " [ 8716.69096492]\n",
      " [ 8716.69096492]\n",
      " [ 8716.69096492]\n",
      " [ 8716.69096492]\n",
      " [ 8716.69096492]\n",
      " [32442.15260323]\n",
      " [32442.15260323]\n",
      " [32442.15260323]\n",
      " [ 8716.69096492]\n",
      " [ 8716.69096492]\n",
      " [ 8716.69096492]\n",
      " [ 8716.69096492]\n",
      " [32442.15260323]\n",
      " [ 8716.69096492]\n",
      " [32442.15260323]\n",
      " [32442.15260323]\n",
      " [ 8716.69096492]\n",
      " [ 8716.69096492]\n",
      " [ 8716.69096492]\n",
      " [ 8716.69096492]\n",
      " [ 8716.69096492]\n",
      " [32442.15260323]\n",
      " [ 8716.69096492]\n",
      " [ 8716.69096492]\n",
      " [ 8716.69096492]\n",
      " [ 8716.69096492]\n",
      " [ 8716.69096492]\n",
      " [32442.15260323]\n",
      " [ 8716.69096492]\n",
      " [ 8716.69096492]\n",
      " [ 8716.69096492]\n",
      " [ 8716.69096492]\n",
      " [ 8716.69096492]\n",
      " [ 8716.69096492]\n",
      " [ 8716.69096492]\n",
      " [32442.15260323]\n",
      " [32442.15260323]\n",
      " [ 8716.69096492]\n",
      " [ 8716.69096492]\n",
      " [ 8716.69096492]\n",
      " [ 8716.69096492]\n",
      " [ 8716.69096492]\n",
      " [ 8716.69096492]\n",
      " [ 8716.69096492]\n",
      " [ 8716.69096492]\n",
      " [ 8716.69096492]\n",
      " [ 8716.69096492]\n",
      " [ 8716.69096492]\n",
      " [ 8716.69096492]\n",
      " [ 8716.69096492]\n",
      " [ 8716.69096492]\n",
      " [ 8716.69096492]\n",
      " [ 8716.69096492]]\n",
      "(402, 1)\n"
     ]
    }
   ],
   "source": [
    "y_pred = model.predict(X_test) # make predictions for the test data\n",
    "print(y_pred)  # it returns us a `np.ndarray` object\n",
    "print(y_pred.shape)"
   ]
  },
  {
   "cell_type": "code",
   "execution_count": 286,
   "id": "af38755f",
   "metadata": {},
   "outputs": [
    {
     "data": {
      "text/plain": [
       "7169.787786759297"
      ]
     },
     "execution_count": 286,
     "metadata": {},
     "output_type": "execute_result"
    }
   ],
   "source": [
    "# Compute mse\n",
    "math.sqrt(mean_squared_error(y_test,y_pred))"
   ]
  },
  {
   "cell_type": "code",
   "execution_count": 287,
   "id": "ce23e87c",
   "metadata": {},
   "outputs": [
    {
     "data": {
      "text/plain": [
       "0.6494042655991139"
      ]
     },
     "execution_count": 287,
     "metadata": {},
     "output_type": "execute_result"
    }
   ],
   "source": [
    "r2_score(y_test,y_pred)"
   ]
  },
  {
   "cell_type": "markdown",
   "id": "cde9808d",
   "metadata": {},
   "source": [
    "---"
   ]
  },
  {
   "cell_type": "markdown",
   "id": "000ce944",
   "metadata": {},
   "source": [
    "### Third model"
   ]
  },
  {
   "cell_type": "code",
   "execution_count": 288,
   "id": "f9c60a47",
   "metadata": {},
   "outputs": [
    {
     "data": {
      "text/html": [
       "<div>\n",
       "<style scoped>\n",
       "    .dataframe tbody tr th:only-of-type {\n",
       "        vertical-align: middle;\n",
       "    }\n",
       "\n",
       "    .dataframe tbody tr th {\n",
       "        vertical-align: top;\n",
       "    }\n",
       "\n",
       "    .dataframe thead th {\n",
       "        text-align: right;\n",
       "    }\n",
       "</style>\n",
       "<table border=\"1\" class=\"dataframe\">\n",
       "  <thead>\n",
       "    <tr style=\"text-align: right;\">\n",
       "      <th></th>\n",
       "      <th>age</th>\n",
       "      <th>New_Sex</th>\n",
       "      <th>bmi</th>\n",
       "      <th>children</th>\n",
       "      <th>New_Smoker</th>\n",
       "      <th>New_Region</th>\n",
       "      <th>charges</th>\n",
       "    </tr>\n",
       "  </thead>\n",
       "  <tbody>\n",
       "    <tr>\n",
       "      <th>age</th>\n",
       "      <td>1.000000</td>\n",
       "      <td>-0.020856</td>\n",
       "      <td>0.109272</td>\n",
       "      <td>0.042469</td>\n",
       "      <td>-0.025019</td>\n",
       "      <td>0.002127</td>\n",
       "      <td>0.299008</td>\n",
       "    </tr>\n",
       "    <tr>\n",
       "      <th>New_Sex</th>\n",
       "      <td>-0.020856</td>\n",
       "      <td>1.000000</td>\n",
       "      <td>0.046371</td>\n",
       "      <td>0.017163</td>\n",
       "      <td>0.076185</td>\n",
       "      <td>0.004588</td>\n",
       "      <td>0.057292</td>\n",
       "    </tr>\n",
       "    <tr>\n",
       "      <th>bmi</th>\n",
       "      <td>0.109272</td>\n",
       "      <td>0.046371</td>\n",
       "      <td>1.000000</td>\n",
       "      <td>0.012759</td>\n",
       "      <td>0.003750</td>\n",
       "      <td>0.157566</td>\n",
       "      <td>0.198341</td>\n",
       "    </tr>\n",
       "    <tr>\n",
       "      <th>children</th>\n",
       "      <td>0.042469</td>\n",
       "      <td>0.017163</td>\n",
       "      <td>0.012759</td>\n",
       "      <td>1.000000</td>\n",
       "      <td>0.007673</td>\n",
       "      <td>0.016569</td>\n",
       "      <td>0.067998</td>\n",
       "    </tr>\n",
       "    <tr>\n",
       "      <th>New_Smoker</th>\n",
       "      <td>-0.025019</td>\n",
       "      <td>0.076185</td>\n",
       "      <td>0.003750</td>\n",
       "      <td>0.007673</td>\n",
       "      <td>1.000000</td>\n",
       "      <td>-0.002181</td>\n",
       "      <td>0.787251</td>\n",
       "    </tr>\n",
       "    <tr>\n",
       "      <th>New_Region</th>\n",
       "      <td>0.002127</td>\n",
       "      <td>0.004588</td>\n",
       "      <td>0.157566</td>\n",
       "      <td>0.016569</td>\n",
       "      <td>-0.002181</td>\n",
       "      <td>1.000000</td>\n",
       "      <td>-0.006208</td>\n",
       "    </tr>\n",
       "    <tr>\n",
       "      <th>charges</th>\n",
       "      <td>0.299008</td>\n",
       "      <td>0.057292</td>\n",
       "      <td>0.198341</td>\n",
       "      <td>0.067998</td>\n",
       "      <td>0.787251</td>\n",
       "      <td>-0.006208</td>\n",
       "      <td>1.000000</td>\n",
       "    </tr>\n",
       "  </tbody>\n",
       "</table>\n",
       "</div>"
      ],
      "text/plain": [
       "                 age   New_Sex       bmi  children  New_Smoker  New_Region  \\\n",
       "age         1.000000 -0.020856  0.109272  0.042469   -0.025019    0.002127   \n",
       "New_Sex    -0.020856  1.000000  0.046371  0.017163    0.076185    0.004588   \n",
       "bmi         0.109272  0.046371  1.000000  0.012759    0.003750    0.157566   \n",
       "children    0.042469  0.017163  0.012759  1.000000    0.007673    0.016569   \n",
       "New_Smoker -0.025019  0.076185  0.003750  0.007673    1.000000   -0.002181   \n",
       "New_Region  0.002127  0.004588  0.157566  0.016569   -0.002181    1.000000   \n",
       "charges     0.299008  0.057292  0.198341  0.067998    0.787251   -0.006208   \n",
       "\n",
       "             charges  \n",
       "age         0.299008  \n",
       "New_Sex     0.057292  \n",
       "bmi         0.198341  \n",
       "children    0.067998  \n",
       "New_Smoker  0.787251  \n",
       "New_Region -0.006208  \n",
       "charges     1.000000  "
      ]
     },
     "execution_count": 288,
     "metadata": {},
     "output_type": "execute_result"
    }
   ],
   "source": [
    "df.corr()"
   ]
  },
  {
   "cell_type": "code",
   "execution_count": 289,
   "id": "ee69778a",
   "metadata": {},
   "outputs": [
    {
     "data": {
      "image/png": "[encoded data removed]",
      "text/plain": [
       "<Figure size 600x600 with 2 Axes>"
      ]
     },
     "metadata": {},
     "output_type": "display_data"
    }
   ],
   "source": [
    "from matplotlib import pyplot as plt\n",
    "import seaborn as sns\n",
    "plt.figure(figsize=(6,6))\n",
    "sns.heatmap(df.corr(),annot=True,cmap='coolwarm')\n",
    "plt.show()"
   ]
  },
  {
   "cell_type": "code",
   "execution_count": 290,
   "id": "03c630ac",
   "metadata": {},
   "outputs": [
    {
     "data": {
      "text/plain": [
       "0       16884.92400\n",
       "1        1725.55230\n",
       "2        4449.46200\n",
       "3       21984.47061\n",
       "4        3866.85520\n",
       "           ...     \n",
       "1333    10600.54830\n",
       "1334     2205.98080\n",
       "1335     1629.83350\n",
       "1336     2007.94500\n",
       "1337    29141.36030\n",
       "Name: charges, Length: 1338, dtype: float64"
      ]
     },
     "execution_count": 290,
     "metadata": {},
     "output_type": "execute_result"
    }
   ],
   "source": [
    "#y=df.iloc[:,6]\n",
    "y=df.loc[:,'charges']\n",
    "y\n"
   ]
  },
  {
   "cell_type": "code",
   "execution_count": 291,
   "id": "094074fc",
   "metadata": {},
   "outputs": [
    {
     "data": {
      "text/html": [
       "<div>\n",
       "<style scoped>\n",
       "    .dataframe tbody tr th:only-of-type {\n",
       "        vertical-align: middle;\n",
       "    }\n",
       "\n",
       "    .dataframe tbody tr th {\n",
       "        vertical-align: top;\n",
       "    }\n",
       "\n",
       "    .dataframe thead th {\n",
       "        text-align: right;\n",
       "    }\n",
       "</style>\n",
       "<table border=\"1\" class=\"dataframe\">\n",
       "  <thead>\n",
       "    <tr style=\"text-align: right;\">\n",
       "      <th></th>\n",
       "      <th>bmi</th>\n",
       "      <th>New_Smoker</th>\n",
       "      <th>age</th>\n",
       "    </tr>\n",
       "  </thead>\n",
       "  <tbody>\n",
       "    <tr>\n",
       "      <th>0</th>\n",
       "      <td>27.900</td>\n",
       "      <td>1</td>\n",
       "      <td>19</td>\n",
       "    </tr>\n",
       "    <tr>\n",
       "      <th>1</th>\n",
       "      <td>33.770</td>\n",
       "      <td>0</td>\n",
       "      <td>18</td>\n",
       "    </tr>\n",
       "    <tr>\n",
       "      <th>2</th>\n",
       "      <td>33.000</td>\n",
       "      <td>0</td>\n",
       "      <td>28</td>\n",
       "    </tr>\n",
       "    <tr>\n",
       "      <th>3</th>\n",
       "      <td>22.705</td>\n",
       "      <td>0</td>\n",
       "      <td>33</td>\n",
       "    </tr>\n",
       "    <tr>\n",
       "      <th>4</th>\n",
       "      <td>28.880</td>\n",
       "      <td>0</td>\n",
       "      <td>32</td>\n",
       "    </tr>\n",
       "    <tr>\n",
       "      <th>...</th>\n",
       "      <td>...</td>\n",
       "      <td>...</td>\n",
       "      <td>...</td>\n",
       "    </tr>\n",
       "    <tr>\n",
       "      <th>1333</th>\n",
       "      <td>30.970</td>\n",
       "      <td>0</td>\n",
       "      <td>50</td>\n",
       "    </tr>\n",
       "    <tr>\n",
       "      <th>1334</th>\n",
       "      <td>31.920</td>\n",
       "      <td>0</td>\n",
       "      <td>18</td>\n",
       "    </tr>\n",
       "    <tr>\n",
       "      <th>1335</th>\n",
       "      <td>36.850</td>\n",
       "      <td>0</td>\n",
       "      <td>18</td>\n",
       "    </tr>\n",
       "    <tr>\n",
       "      <th>1336</th>\n",
       "      <td>25.800</td>\n",
       "      <td>0</td>\n",
       "      <td>21</td>\n",
       "    </tr>\n",
       "    <tr>\n",
       "      <th>1337</th>\n",
       "      <td>29.070</td>\n",
       "      <td>1</td>\n",
       "      <td>61</td>\n",
       "    </tr>\n",
       "  </tbody>\n",
       "</table>\n",
       "<p>1338 rows × 3 columns</p>\n",
       "</div>"
      ],
      "text/plain": [
       "         bmi  New_Smoker  age\n",
       "0     27.900           1   19\n",
       "1     33.770           0   18\n",
       "2     33.000           0   28\n",
       "3     22.705           0   33\n",
       "4     28.880           0   32\n",
       "...      ...         ...  ...\n",
       "1333  30.970           0   50\n",
       "1334  31.920           0   18\n",
       "1335  36.850           0   18\n",
       "1336  25.800           0   21\n",
       "1337  29.070           1   61\n",
       "\n",
       "[1338 rows x 3 columns]"
      ]
     },
     "execution_count": 291,
     "metadata": {},
     "output_type": "execute_result"
    }
   ],
   "source": [
    "X=df.loc[:,['bmi','New_Smoker','age']]\n",
    "X"
   ]
  },
  {
   "cell_type": "code",
   "execution_count": 292,
   "id": "99b71d89",
   "metadata": {},
   "outputs": [],
   "source": [
    "# #Merge and X and y\n",
    "# df = pd.concat([X, y], axis=1)\n",
    "# # Next save as a csv\n",
    "# df.to_csv('insurance_1.csv')"
   ]
  },
  {
   "cell_type": "code",
   "execution_count": 293,
   "id": "42338259",
   "metadata": {},
   "outputs": [],
   "source": [
    "X_train, X_test, y_train, y_test = train_test_split(X, y, test_size=0.3, random_state=42)"
   ]
  },
  {
   "cell_type": "code",
   "execution_count": 294,
   "id": "9aac52c0",
   "metadata": {},
   "outputs": [],
   "source": [
    "# Now lets normalize the datasets so as to enable all features have equal chance of contribution\n",
    "# So scale X_train and X_test\n",
    "scaling=StandardScaler()\n",
    "X_train=scaling.fit_transform(X_train)\n",
    "X_test=scaling.fit_transform(X_test)"
   ]
  },
  {
   "cell_type": "code",
   "execution_count": 295,
   "id": "eb0a6f8c",
   "metadata": {},
   "outputs": [
    {
     "name": "stdout",
     "output_type": "stream",
     "text": [
      "(936, 3) (936,)\n",
      "(402, 3) (402,)\n"
     ]
    }
   ],
   "source": [
    "print(X_train.shape, y_train.shape)\n",
    "print(X_test.shape, y_test.shape)"
   ]
  },
  {
   "cell_type": "code",
   "execution_count": 296,
   "id": "9ff73c8a",
   "metadata": {},
   "outputs": [
    {
     "data": {
      "text/plain": [
       "LinearRegression()"
      ]
     },
     "execution_count": 296,
     "metadata": {},
     "output_type": "execute_result"
    }
   ],
   "source": [
    "regressor = LinearRegression()  # define the linear regression model\n",
    "regressor.fit(X_train, y_train)  # fit the data"
   ]
  },
  {
   "cell_type": "code",
   "execution_count": 297,
   "id": "6f062188",
   "metadata": {},
   "outputs": [
    {
     "name": "stdout",
     "output_type": "stream",
     "text": [
      "The weight vector is: [1991.99477342 9608.93433161 3730.1994914 ]\n",
      "\n",
      "The bias is: 13379.157306773504\n"
     ]
    }
   ],
   "source": [
    "print('The weight vector is:', regressor.coef_)\n",
    "print()\n",
    "print('The bias is:', regressor.intercept_)"
   ]
  },
  {
   "cell_type": "code",
   "execution_count": 298,
   "id": "d7b61a50",
   "metadata": {},
   "outputs": [
    {
     "name": "stdout",
     "output_type": "stream",
     "text": [
      "[ 8359.17529475  7466.90122966 38187.40235642  8807.65373885\n",
      " 27677.51345746 10988.92456034   531.4603889  17479.12895765\n",
      "  1303.96180898 10542.35016745 28264.29009299  8990.65758001\n",
      "  5449.63269012 38223.08323935 41535.8325366  37417.10082246\n",
      " 14951.87465118 36689.00921721  9534.16938824 32542.19334854\n",
      "  2580.91702028 10161.83078706  3016.74277305  6787.57416698\n",
      " 10631.51067648 13144.06032298 15519.73981644  5167.29858558\n",
      "  9345.96166671  2665.973592    8315.24149273 13681.03030138\n",
      "  4963.28626102  2680.00927725  4772.40264057 12970.422128\n",
      "  2293.61704177  9310.81462509 34093.21696124 33281.2716003\n",
      "  2449.39866507  4122.6328153  14665.09572995 12212.47745044\n",
      "  8466.48821038 12855.46743949  4572.44920885  2706.99348872\n",
      " 35405.70513801  8760.95394896 16704.42765147  2423.27639025\n",
      " 12135.3584865   1400.48104002 14233.28382554 11889.12344919\n",
      "  4416.71263003 31681.86936888 14351.71852111 13054.89981394\n",
      " 15286.0673815   9982.98871172 16103.75046411  7492.83054255\n",
      " 12037.501306    4028.78948317 26254.66332633 10627.02081532\n",
      "  2144.3772483   6691.44085979 10220.33411565 10873.73186543\n",
      " 11736.0177248   9004.60317631 12151.59405786  7435.38211255\n",
      "  5855.99129444 11465.90534325  6255.61510702  8524.65065958\n",
      "  4209.07238095 37589.87708078  6322.28126575 30249.94942647\n",
      " 34995.82148216 35980.97406975  6342.53068547 13442.8229608\n",
      "  9558.2396944  14110.79023714 17001.37632703 36959.73274498\n",
      " 33377.92596476  5374.22481546 32648.16831471  9498.11536549\n",
      " 30229.74505122  4105.05929449 28029.47267052  5132.00362651\n",
      "  5344.95062893  2543.9560164  12038.55620459 14759.65308128\n",
      " 12181.19633973  4260.84091778  9828.63512682 33343.96895514\n",
      "   -66.73386147 33968.04747393  3867.75893503  9982.51269891\n",
      " 14129.50874548 31709.80560595 11201.09971505  4105.05929449\n",
      " 13469.42124842 32483.88298188  7981.56981968  3133.83951916\n",
      "  7947.32975919 10128.4977077  14403.01104514  6081.78395011\n",
      "  3370.03993556  9769.17977264 11120.01194722 10901.6681025\n",
      " 15282.43945699  7719.87105872  6048.06494689  8553.40378883\n",
      "  9038.79819233 12491.33154792  9149.59111502 15881.30268209\n",
      "  8307.31666897 33255.19436996 36613.79430447 32156.94610059\n",
      "  6478.77690825 12726.86298959  6480.73878795 14133.52259384\n",
      "  3160.86877511 33750.08955307  5851.97744608  5832.82796941\n",
      " 13505.38518222  7349.37351522 38374.42004596  3373.3848092\n",
      "  6133.07647414 31711.14355541 11328.23108207  8396.47717801\n",
      " 15114.95716798 10219.04121066 28052.59095107 33592.21091664\n",
      " 13949.84977795  1549.52787157 13600.70159723  2235.54468152\n",
      "  4816.96037286 11336.58687415 41327.37539534 37653.10827693\n",
      " 34218.34140408  4598.14051534  8213.08741299  9055.03376369\n",
      " 12255.80010625  4835.24791287  2783.07033811 33152.56427742\n",
      " 26347.4067154  18290.74622325 26710.63562585 10956.20262719\n",
      " 38188.07133115  -727.49033326  7130.16773385  8089.16578618\n",
      "  3219.65515456  5289.07815478  5465.39224867  5122.7408533\n",
      " 15246.34038976 11825.89225304  6203.80152571  2358.66220017\n",
      "  1547.52094738 32283.88450569 17233.04183779 12785.17335625\n",
      "  1160.26677525 11946.33387279  1460.36736253  9837.2289253\n",
      "  2323.3672411  35111.28444391 10329.69899993  2028.61845164\n",
      " 26345.16178482 27568.14857318 10092.5337739    948.65772229\n",
      " 13885.62151173  1603.82438986 11739.25972546 11208.35556408\n",
      " 15844.29663373 28027.42070186  6950.46372185  5195.23482265\n",
      "  6108.85825053 12959.48052596 12188.16913788  8518.73276001\n",
      "  5231.19875646 12611.77316767 12939.52694114 36064.45468562\n",
      "  4362.17810534 30021.24286549   -72.13070376  3076.62909556\n",
      " 11502.34528986 14570.49333415  5587.3647798   7726.35506004\n",
      "  3876.82874631 32830.5932701   8085.00402037 13114.31012365\n",
      "  5048.19491529 10365.79806715 36523.7268143   4885.39544937\n",
      " 10235.55983289 31494.09261567  5917.21556641  4747.18734689\n",
      "  1369.86890404  5108.0812378   4522.06366595  6858.10625663\n",
      " 17041.16114727 -1055.5271576   3033.40931274 10206.38851935\n",
      "  3986.23867507 10656.77101464  3465.89019188  5206.45947557\n",
      " 13565.5545556   6006.37607544  8596.04468588  6272.5196531\n",
      "  8122.97487835 11372.73098585 28954.98972603 40504.72643876\n",
      " 12482.63487646  7375.73379644 41968.50637766 12816.69247336\n",
      "  6981.1209023   8627.32579659 10141.62641182  9628.6816951\n",
      "  9610.76729491 18333.96600607  1900.53505902 24144.88940412\n",
      " 12075.47216399 33234.89990576  4533.80937614 13452.47165786\n",
      " 10931.61126376 17928.27637648  8824.98925326 11919.06661044\n",
      " 32713.92749232  3312.16053724 13929.31730735 39662.64495464\n",
      "  5105.40533889  6276.53350147  3227.01387656 12506.94318902\n",
      " 25426.42456553 12459.38146248  8086.53493175 10419.23264879\n",
      " 13322.33629658  1557.45269532  3082.50195066 31615.63417847\n",
      " 31356.79149432 13130.45560606  3076.62909556 25821.03745966\n",
      " 13548.88801592 31772.36782737  3345.44857213 40392.16459829\n",
      " 10746.22735859  5231.62972478  6466.83823613  2631.30256318\n",
      " 26835.09109396 15458.51554448  1001.33324025 12551.5009213\n",
      " 13513.7409743  15417.06467944 34824.37038925 14041.01721117\n",
      " 33109.3444946   9624.19183393 17807.59675033  6288.94818638\n",
      "  9430.15630178  9470.22417289 14892.50938595  9889.04250661\n",
      "  8073.12317676 15862.82218015 13140.04647461 14908.0309381\n",
      "  7805.49373219 27151.14420172  9923.62344648  2234.87570679\n",
      "  4210.02440655 14550.24391443 36515.6540731   9802.08188368\n",
      " 13527.30064674  4830.56508978  4148.56212819  3494.97141648\n",
      "  2658.09381272  9137.69748738  7452.95563336  3047.35490904\n",
      " 12390.27741124  9436.4601252   5977.38493979   810.40457533\n",
      " 10169.08663609  5492.37646015 32667.31779138 29378.63880029\n",
      " 38215.01049815  6381.69157546  9083.44601356  9126.18978359\n",
      "  4199.61664582 32033.15960721  6894.63629218 29502.60547157\n",
      " 36104.09158841  7435.38211255 14069.86042937  9234.88569315\n",
      "  8625.98784714 12009.56506893 30714.99153727 17423.92545824\n",
      " 10732.71273061  3997.50837246  -543.10349816 12454.02966466\n",
      " 31912.91094939 13409.72788783 11824.74726551  7982.62471826\n",
      "  3192.38789222  8096.42163521  8417.05469308 10400.94510878\n",
      " 34033.99961346 40366.9493046  13059.43471958  8868.87801081\n",
      " 16822.38633423 14226.02797652  9479.63486355  9883.94149922\n",
      "  8064.4265053   2786.69826262 11049.80795292  4383.85556346\n",
      " 11861.70826939 15871.56389608  7366.0400549   2059.23058763\n",
      " 15290.98821099   637.95641235]\n",
      "(402,)\n"
     ]
    }
   ],
   "source": [
    "y_pred = regressor.predict(X_test) # make predictions for the test data\n",
    "print(y_pred)  # it returns us a `np.ndarray` object\n",
    "print(y_pred.shape)"
   ]
  },
  {
   "cell_type": "code",
   "execution_count": 299,
   "id": "60682986",
   "metadata": {},
   "outputs": [
    {
     "data": {
      "text/plain": [
       "5866.387718262677"
      ]
     },
     "execution_count": 299,
     "metadata": {},
     "output_type": "execute_result"
    }
   ],
   "source": [
    "# Compute mse\n",
    "math.sqrt(mean_squared_error(y_test,y_pred))"
   ]
  },
  {
   "cell_type": "code",
   "execution_count": 300,
   "id": "fe9c4622",
   "metadata": {},
   "outputs": [
    {
     "data": {
      "text/plain": [
       "0.76528786150634"
      ]
     },
     "execution_count": 300,
     "metadata": {},
     "output_type": "execute_result"
    }
   ],
   "source": [
    "r2_score(y_test,y_pred)"
   ]
  },
  {
   "cell_type": "code",
   "execution_count": 301,
   "id": "3fe060f4",
   "metadata": {},
   "outputs": [],
   "source": [
    "df=pd.read_csv('insurance_1.csv')"
   ]
  },
  {
   "cell_type": "code",
   "execution_count": 302,
   "id": "afa9537c",
   "metadata": {},
   "outputs": [
    {
     "data": {
      "text/html": [
       "<div>\n",
       "<style scoped>\n",
       "    .dataframe tbody tr th:only-of-type {\n",
       "        vertical-align: middle;\n",
       "    }\n",
       "\n",
       "    .dataframe tbody tr th {\n",
       "        vertical-align: top;\n",
       "    }\n",
       "\n",
       "    .dataframe thead th {\n",
       "        text-align: right;\n",
       "    }\n",
       "</style>\n",
       "<table border=\"1\" class=\"dataframe\">\n",
       "  <thead>\n",
       "    <tr style=\"text-align: right;\">\n",
       "      <th></th>\n",
       "      <th>bmi</th>\n",
       "      <th>New_Smoker</th>\n",
       "      <th>age</th>\n",
       "      <th>charges</th>\n",
       "    </tr>\n",
       "  </thead>\n",
       "  <tbody>\n",
       "    <tr>\n",
       "      <th>0</th>\n",
       "      <td>27.900</td>\n",
       "      <td>1</td>\n",
       "      <td>19</td>\n",
       "      <td>16884.92400</td>\n",
       "    </tr>\n",
       "    <tr>\n",
       "      <th>1</th>\n",
       "      <td>33.770</td>\n",
       "      <td>0</td>\n",
       "      <td>18</td>\n",
       "      <td>1725.55230</td>\n",
       "    </tr>\n",
       "    <tr>\n",
       "      <th>2</th>\n",
       "      <td>33.000</td>\n",
       "      <td>0</td>\n",
       "      <td>28</td>\n",
       "      <td>4449.46200</td>\n",
       "    </tr>\n",
       "    <tr>\n",
       "      <th>3</th>\n",
       "      <td>22.705</td>\n",
       "      <td>0</td>\n",
       "      <td>33</td>\n",
       "      <td>21984.47061</td>\n",
       "    </tr>\n",
       "  </tbody>\n",
       "</table>\n",
       "</div>"
      ],
      "text/plain": [
       "      bmi  New_Smoker  age      charges\n",
       "0  27.900           1   19  16884.92400\n",
       "1  33.770           0   18   1725.55230\n",
       "2  33.000           0   28   4449.46200\n",
       "3  22.705           0   33  21984.47061"
      ]
     },
     "execution_count": 302,
     "metadata": {},
     "output_type": "execute_result"
    }
   ],
   "source": [
    "df.head(4)"
   ]
  },
  {
   "cell_type": "markdown",
   "id": "7af6953b",
   "metadata": {},
   "source": [
    "## Fouth Model"
   ]
  },
  {
   "cell_type": "code",
   "execution_count": 6,
   "id": "a1af1ed8",
   "metadata": {},
   "outputs": [
    {
     "ename": "NameError",
     "evalue": "name 'df' is not defined",
     "output_type": "error",
     "traceback": [
      "\u001b[0;31m---------------------------------------------------------------------------\u001b[0m",
      "\u001b[0;31mNameError\u001b[0m                                 Traceback (most recent call last)",
      "Cell \u001b[0;32mIn[6], line 2\u001b[0m\n\u001b[1;32m      1\u001b[0m \u001b[38;5;66;03m#y=df.iloc[:,6]\u001b[39;00m\n\u001b[0;32m----> 2\u001b[0m y\u001b[38;5;241m=\u001b[39m\u001b[43mdf\u001b[49m\u001b[38;5;241m.\u001b[39mloc[:,\u001b[38;5;124m'\u001b[39m\u001b[38;5;124mcharges\u001b[39m\u001b[38;5;124m'\u001b[39m]\n\u001b[1;32m      3\u001b[0m y\n",
      "\u001b[0;31mNameError\u001b[0m: name 'df' is not defined"
     ]
    }
   ],
   "source": [
    "#y=df.iloc[:,6]\n",
    "y=df.loc[:,'charges']\n",
    "y\n"
   ]
  },
  {
   "cell_type": "code",
   "execution_count": 7,
   "id": "41925ef4",
   "metadata": {},
   "outputs": [
    {
     "ename": "NameError",
     "evalue": "name 'df' is not defined",
     "output_type": "error",
     "traceback": [
      "\u001b[0;31m---------------------------------------------------------------------------\u001b[0m",
      "\u001b[0;31mNameError\u001b[0m                                 Traceback (most recent call last)",
      "Cell \u001b[0;32mIn[7], line 1\u001b[0m\n\u001b[0;32m----> 1\u001b[0m X\u001b[38;5;241m=\u001b[39m\u001b[43mdf\u001b[49m\u001b[38;5;241m.\u001b[39mloc[:,[\u001b[38;5;124m'\u001b[39m\u001b[38;5;124mbmi\u001b[39m\u001b[38;5;124m'\u001b[39m,\u001b[38;5;124m'\u001b[39m\u001b[38;5;124mNew_Smoker\u001b[39m\u001b[38;5;124m'\u001b[39m,\u001b[38;5;124m'\u001b[39m\u001b[38;5;124mage\u001b[39m\u001b[38;5;124m'\u001b[39m]]\n\u001b[1;32m      2\u001b[0m X\n",
      "\u001b[0;31mNameError\u001b[0m: name 'df' is not defined"
     ]
    }
   ],
   "source": [
    "X=df.loc[:,['bmi','New_Smoker','age']]\n",
    "X"
   ]
  },
  {
   "cell_type": "code",
   "execution_count": 8,
   "id": "55e80e92",
   "metadata": {},
   "outputs": [
    {
     "ename": "NameError",
     "evalue": "name 'X' is not defined",
     "output_type": "error",
     "traceback": [
      "\u001b[0;31m---------------------------------------------------------------------------\u001b[0m",
      "\u001b[0;31mNameError\u001b[0m                                 Traceback (most recent call last)",
      "Cell \u001b[0;32mIn[8], line 1\u001b[0m\n\u001b[0;32m----> 1\u001b[0m X_train, X_test, y_train, y_test \u001b[38;5;241m=\u001b[39m train_test_split(\u001b[43mX\u001b[49m, y, test_size\u001b[38;5;241m=\u001b[39m\u001b[38;5;241m0.3\u001b[39m, random_state\u001b[38;5;241m=\u001b[39m\u001b[38;5;241m0\u001b[39m)\n",
      "\u001b[0;31mNameError\u001b[0m: name 'X' is not defined"
     ]
    }
   ],
   "source": [
    "X_train, X_test, y_train, y_test = train_test_split(X, y, test_size=0.3, random_state=0)"
   ]
  },
  {
   "cell_type": "code",
   "execution_count": 150,
   "id": "3ecf6e66",
   "metadata": {},
   "outputs": [],
   "source": [
    "# Now lets normalize the datasets so as to enable all features have equal chance of contribution\n",
    "# So scale X_train and X_test\n",
    "scaling=StandardScaler()\n",
    "X_train=scaling.fit_transform(X_train)\n",
    "X_test=scaling.fit_transform(X_test)"
   ]
  },
  {
   "cell_type": "code",
   "execution_count": 151,
   "id": "a43e5ed5",
   "metadata": {},
   "outputs": [
    {
     "name": "stdout",
     "output_type": "stream",
     "text": [
      "(936, 3) (936,)\n",
      "(402, 3) (402,)\n"
     ]
    }
   ],
   "source": [
    "print(X_train.shape, y_train.shape)\n",
    "print(X_test.shape, y_test.shape)"
   ]
  },
  {
   "cell_type": "code",
   "execution_count": 152,
   "id": "c636192f",
   "metadata": {},
   "outputs": [
    {
     "data": {
      "text/plain": [
       "RandomForestRegressor(max_depth=3, n_estimators=4)"
      ]
     },
     "execution_count": 152,
     "metadata": {},
     "output_type": "execute_result"
    }
   ],
   "source": [
    "from sklearn.ensemble import RandomForestRegressor\n",
    "\n",
    "rf = RandomForestRegressor(n_estimators=4,max_depth=3)\n",
    "rf.fit(X_train, y_train)"
   ]
  },
  {
   "cell_type": "markdown",
   "id": "9478590b",
   "metadata": {},
   "source": [
    "----"
   ]
  },
  {
   "cell_type": "code",
   "execution_count": 153,
   "id": "4190a274",
   "metadata": {},
   "outputs": [
    {
     "name": "stdout",
     "output_type": "stream",
     "text": [
      "[12916.2341114  11312.9543506  44214.4912833  14971.87816365\n",
      " 12191.5515254   6931.77840371  2991.08298949 12191.5515254\n",
      "  6931.77840371  6931.77840371  6931.77840371 12191.5515254\n",
      "  9094.51531143  6931.77840371 18800.11514516 12191.5515254\n",
      " 14971.87816365  6931.77840371  6931.77840371 37996.61261193\n",
      " 25478.84753482 12916.2341114  12916.2341114  25478.84753482\n",
      "  5960.46654912  6931.77840371  6931.77840371  6931.77840371\n",
      "  6931.77840371 11312.9543506   6931.77840371 46054.80917573\n",
      " 14971.87816365 12916.2341114  18800.11514516  6931.77840371\n",
      " 11312.9543506  40251.86507022 40251.86507022  2991.08298949\n",
      "  6931.77840371  6931.77840371 20645.80773257 46054.80917573\n",
      " 37996.61261193  2991.08298949 12191.5515254   7853.48732177\n",
      "  6931.77840371 12916.2341114   5960.46654912  2991.08298949\n",
      " 25478.84753482 46054.80917573 14971.87816365  6931.77840371\n",
      "  6931.77840371 12191.5515254   9094.51531143 14971.87816365\n",
      "  2991.08298949 46054.80917573 14971.87816365 12191.5515254\n",
      " 11312.9543506  12191.5515254  37996.61261193 40251.86507022\n",
      "  2991.08298949  6931.77840371 14971.87816365 12916.2341114\n",
      " 18800.11514516 14971.87816365 14971.87816365 14971.87816365\n",
      " 11312.9543506  11312.9543506  18800.11514516 46054.80917573\n",
      " 12916.2341114  44214.4912833   5960.46654912 11312.9543506\n",
      " 44214.4912833  18800.11514516  6931.77840371  6931.77840371\n",
      " 14971.87816365 40251.86507022  6931.77840371 12916.2341114\n",
      "  5960.46654912 11312.9543506   6931.77840371  6931.77840371\n",
      " 46054.80917573 44214.4912833   6931.77840371 12916.2341114\n",
      "  5960.46654912  6931.77840371  6931.77840371 40251.86507022\n",
      " 25478.84753482  6931.77840371 12916.2341114   6931.77840371\n",
      " 14971.87816365 46054.80917573 12916.2341114   6931.77840371\n",
      " 11312.9543506  37996.61261193 46054.80917573  7853.48732177\n",
      "  2991.08298949 12191.5515254  14971.87816365 11312.9543506\n",
      " 44214.4912833  12916.2341114  14971.87816365  6931.77840371\n",
      " 11312.9543506   6931.77840371 25478.84753482 25478.84753482\n",
      " 46054.80917573  2991.08298949 11312.9543506   2991.08298949\n",
      "  6931.77840371 12191.5515254  44214.4912833  40251.86507022\n",
      " 25478.84753482 12191.5515254  25478.84753482  5960.46654912\n",
      "  2991.08298949 12916.2341114  12191.5515254  12916.2341114\n",
      "  6931.77840371 14971.87816365 14971.87816365  5960.46654912\n",
      "  2991.08298949 12916.2341114   6931.77840371 37996.61261193\n",
      " 12191.5515254   2991.08298949  2991.08298949  6931.77840371\n",
      "  5960.46654912  2991.08298949 12191.5515254  11312.9543506\n",
      "  6931.77840371 14971.87816365 14971.87816365 12191.5515254\n",
      "  6931.77840371  5960.46654912 18800.11514516  6931.77840371\n",
      "  6931.77840371  2991.08298949  6931.77840371  6931.77840371\n",
      "  9094.51531143  5960.46654912  6931.77840371  5960.46654912\n",
      "  6931.77840371  6931.77840371 46054.80917573  2991.08298949\n",
      " 12916.2341114   6931.77840371 12916.2341114   6931.77840371\n",
      "  6931.77840371 25478.84753482  5960.46654912  2991.08298949\n",
      " 14971.87816365 12191.5515254  46054.80917573  6931.77840371\n",
      "  6931.77840371 25478.84753482  5960.46654912  5960.46654912\n",
      "  6931.77840371  6931.77840371  6931.77840371  6931.77840371\n",
      " 12916.2341114  46054.80917573 12916.2341114  18800.11514516\n",
      "  6931.77840371 44214.4912833   5960.46654912 12916.2341114\n",
      "  6931.77840371  2991.08298949 11312.9543506  14971.87816365\n",
      "  6931.77840371  5960.46654912  6931.77840371  5960.46654912\n",
      "  6931.77840371  6931.77840371 14971.87816365  6931.77840371\n",
      "  6931.77840371  6931.77840371 11312.9543506   5960.46654912\n",
      " 14971.87816365 14971.87816365 12916.2341114  14971.87816365\n",
      "  6931.77840371  5960.46654912  2991.08298949 11312.9543506\n",
      " 14971.87816365  2991.08298949  6931.77840371  6931.77840371\n",
      " 11312.9543506  37996.61261193  6931.77840371 12916.2341114\n",
      "  6931.77840371 37996.61261193  6931.77840371  9094.51531143\n",
      "  9094.51531143 12916.2341114   2991.08298949  9094.51531143\n",
      "  5960.46654912  6931.77840371 18800.11514516 46054.80917573\n",
      "  6931.77840371  5960.46654912  2991.08298949  2991.08298949\n",
      " 11312.9543506   2991.08298949  5960.46654912  6931.77840371\n",
      " 11312.9543506  25478.84753482 46054.80917573 14971.87816365\n",
      "  6931.77840371 12916.2341114  40251.86507022 11312.9543506\n",
      " 40251.86507022  2991.08298949 37996.61261193  6931.77840371\n",
      " 14971.87816365  5960.46654912 40251.86507022  6931.77840371\n",
      " 12916.2341114  11312.9543506   2991.08298949 14971.87816365\n",
      " 14971.87816365  6931.77840371 14971.87816365  2991.08298949\n",
      "  6931.77840371  5960.46654912  6931.77840371 25478.84753482\n",
      "  6931.77840371  2991.08298949  2991.08298949 46054.80917573\n",
      " 12191.5515254   6931.77840371 12916.2341114  12916.2341114\n",
      " 37996.61261193  6931.77840371  6931.77840371 12191.5515254\n",
      "  2991.08298949  2991.08298949 18800.11514516 18800.11514516\n",
      " 14971.87816365  5960.46654912  5960.46654912 11312.9543506\n",
      " 12916.2341114  18800.11514516 18800.11514516  6931.77840371\n",
      " 18800.11514516  2991.08298949  6931.77840371  6931.77840371\n",
      " 11312.9543506   2991.08298949  9094.51531143 44214.4912833\n",
      "  5960.46654912  6931.77840371  2991.08298949 11312.9543506\n",
      "  6931.77840371 14971.87816365 46054.80917573 18800.11514516\n",
      " 12191.5515254  44214.4912833  12916.2341114   6931.77840371\n",
      " 12191.5515254   5960.46654912 25478.84753482  6931.77840371\n",
      " 14971.87816365  2991.08298949 18800.11514516  6931.77840371\n",
      " 25478.84753482  6931.77840371  5960.46654912 37996.61261193\n",
      "  6931.77840371  6931.77840371 46054.80917573  2991.08298949\n",
      "  9094.51531143  2991.08298949 12191.5515254   6931.77840371\n",
      "  6931.77840371  6931.77840371 46054.80917573 11312.9543506\n",
      " 40251.86507022 37996.61261193  6931.77840371  6931.77840371\n",
      "  2991.08298949  6931.77840371  2991.08298949 11312.9543506\n",
      " 46054.80917573 12916.2341114   2991.08298949 14971.87816365\n",
      "  2991.08298949 11312.9543506   6931.77840371  5960.46654912\n",
      "  6931.77840371 37996.61261193  6931.77840371  2991.08298949\n",
      " 40251.86507022 12916.2341114  46054.80917573 14971.87816365\n",
      "  6931.77840371  5960.46654912  2991.08298949 12191.5515254\n",
      "  6931.77840371  2991.08298949 12916.2341114   6931.77840371\n",
      "  7853.48732177  6931.77840371  5960.46654912 40251.86507022\n",
      "  2991.08298949 12191.5515254   2991.08298949  7853.48732177\n",
      " 12916.2341114   6931.77840371 18800.11514516 12916.2341114\n",
      " 14971.87816365 14971.87816365]\n",
      "(402,)\n"
     ]
    }
   ],
   "source": [
    "y_pred = rf.predict(X_test) # make predictions for the test data\n",
    "print(y_pred)  # it returns us a `np.ndarray` object\n",
    "print(y_pred.shape)"
   ]
  },
  {
   "cell_type": "code",
   "execution_count": 154,
   "id": "0c53b2ec",
   "metadata": {},
   "outputs": [
    {
     "data": {
      "text/plain": [
       "4536.1105393881735"
      ]
     },
     "execution_count": 154,
     "metadata": {},
     "output_type": "execute_result"
    }
   ],
   "source": [
    "# Compute mse\n",
    "math.sqrt(mean_squared_error(y_test,y_pred))"
   ]
  },
  {
   "cell_type": "code",
   "execution_count": 155,
   "id": "3993e00b",
   "metadata": {},
   "outputs": [
    {
     "data": {
      "text/plain": [
       "0.8709702900714748"
      ]
     },
     "execution_count": 155,
     "metadata": {},
     "output_type": "execute_result"
    }
   ],
   "source": [
    "r2_score(y_test,y_pred)"
   ]
  },
  {
   "cell_type": "code",
   "execution_count": 160,
   "id": "5dfdc56e",
   "metadata": {},
   "outputs": [],
   "source": [
    "# # Predict unseen data\n",
    "# predictions = rf.predict(X) # make predictions for the test data\n",
    "# print(y_pred)"
   ]
  },
  {
   "cell_type": "markdown",
   "id": "e3eff479",
   "metadata": {},
   "source": [
    "---"
   ]
  },
  {
   "cell_type": "markdown",
   "id": "4c4002a9",
   "metadata": {},
   "source": [
    "## Fifth model"
   ]
  },
  {
   "cell_type": "code",
   "execution_count": 1,
   "id": "b003f0e4",
   "metadata": {},
   "outputs": [
    {
     "ename": "NameError",
     "evalue": "name 'df' is not defined",
     "output_type": "error",
     "traceback": [
      "\u001b[0;31m---------------------------------------------------------------------------\u001b[0m",
      "\u001b[0;31mNameError\u001b[0m                                 Traceback (most recent call last)",
      "Cell \u001b[0;32mIn[1], line 1\u001b[0m\n\u001b[0;32m----> 1\u001b[0m y\u001b[38;5;241m=\u001b[39m\u001b[43mdf\u001b[49m\u001b[38;5;241m.\u001b[39mloc[:,\u001b[38;5;124m'\u001b[39m\u001b[38;5;124mcharges\u001b[39m\u001b[38;5;124m'\u001b[39m]\n\u001b[1;32m      2\u001b[0m y\n",
      "\u001b[0;31mNameError\u001b[0m: name 'df' is not defined"
     ]
    }
   ],
   "source": [
    "y=df.loc[:,'charges']\n",
    "y\n"
   ]
  },
  {
   "cell_type": "code",
   "execution_count": 2,
   "id": "d415338e",
   "metadata": {},
   "outputs": [
    {
     "ename": "NameError",
     "evalue": "name 'df' is not defined",
     "output_type": "error",
     "traceback": [
      "\u001b[0;31m---------------------------------------------------------------------------\u001b[0m",
      "\u001b[0;31mNameError\u001b[0m                                 Traceback (most recent call last)",
      "Cell \u001b[0;32mIn[2], line 1\u001b[0m\n\u001b[0;32m----> 1\u001b[0m X\u001b[38;5;241m=\u001b[39m\u001b[43mdf\u001b[49m\u001b[38;5;241m.\u001b[39mloc[:,[\u001b[38;5;124m'\u001b[39m\u001b[38;5;124mbmi\u001b[39m\u001b[38;5;124m'\u001b[39m,\u001b[38;5;124m'\u001b[39m\u001b[38;5;124mNew_Smoker\u001b[39m\u001b[38;5;124m'\u001b[39m,\u001b[38;5;124m'\u001b[39m\u001b[38;5;124mage\u001b[39m\u001b[38;5;124m'\u001b[39m]]\n\u001b[1;32m      2\u001b[0m X\n",
      "\u001b[0;31mNameError\u001b[0m: name 'df' is not defined"
     ]
    }
   ],
   "source": [
    "X=df.loc[:,['bmi','New_Smoker','age']]\n",
    "X"
   ]
  },
  {
   "cell_type": "code",
   "execution_count": 3,
   "id": "79f8500b",
   "metadata": {},
   "outputs": [
    {
     "ename": "NameError",
     "evalue": "name 'train_test_split' is not defined",
     "output_type": "error",
     "traceback": [
      "\u001b[0;31m---------------------------------------------------------------------------\u001b[0m",
      "\u001b[0;31mNameError\u001b[0m                                 Traceback (most recent call last)",
      "Cell \u001b[0;32mIn[3], line 1\u001b[0m\n\u001b[0;32m----> 1\u001b[0m X_train, X_test, y_train, y_test \u001b[38;5;241m=\u001b[39m \u001b[43mtrain_test_split\u001b[49m(X, y, test_size\u001b[38;5;241m=\u001b[39m\u001b[38;5;241m0.3\u001b[39m, random_state\u001b[38;5;241m=\u001b[39m\u001b[38;5;241m0\u001b[39m)\n",
      "\u001b[0;31mNameError\u001b[0m: name 'train_test_split' is not defined"
     ]
    }
   ],
   "source": [
    "X_train, X_test, y_train, y_test = train_test_split(X, y, test_size=0.3, random_state=0)"
   ]
  },
  {
   "cell_type": "code",
   "execution_count": 24,
   "id": "4e44262b",
   "metadata": {},
   "outputs": [],
   "source": [
    "# Now lets normalize the datasets so as to enable all features have equal chance of contribution\n",
    "# So scale X_train and X_test\n",
    "scaling=StandardScaler()\n",
    "X_train=scaling.fit_transform(X_train)\n",
    "X_test=scaling.fit_transform(X_test)"
   ]
  },
  {
   "cell_type": "code",
   "execution_count": 25,
   "id": "19949b53",
   "metadata": {},
   "outputs": [
    {
     "data": {
      "text/plain": [
       "Ridge()"
      ]
     },
     "execution_count": 25,
     "metadata": {},
     "output_type": "execute_result"
    }
   ],
   "source": [
    "from sklearn.linear_model import Ridge\n",
    "import numpy as np\n",
    "clf = Ridge(alpha=1.0)\n",
    "clf.fit(X_train, y_train)"
   ]
  },
  {
   "cell_type": "code",
   "execution_count": 26,
   "id": "99d56143",
   "metadata": {},
   "outputs": [
    {
     "name": "stdout",
     "output_type": "stream",
     "text": [
      "[11762.90319197 10184.55028176 37495.54956924 16929.24985618\n",
      "  7279.33968035  4050.79341032  1641.86272024 13656.03501278\n",
      "  8155.25253485  6647.04711534  3224.7966056   9862.83093584\n",
      "  9337.12697879  4813.61381414 27882.79299366 10537.53990475\n",
      " 11781.4110195   5852.95643446  7824.85381296 26837.14578479\n",
      " 32784.74404413 14053.6472274  11997.66017858 32808.53000256\n",
      "  5266.37422771  9085.61643254  1082.45238974  9641.4569183\n",
      "  4795.07533213 10059.93642062  8142.49008531 40532.84302319\n",
      " 16846.35524319 15006.01216115 24333.63047157  5298.79358037\n",
      " 12987.14805809 30888.25695999 32722.77802782  4587.03830192\n",
      "  4038.03096078  5044.33370891 30251.16883842 38819.4119535\n",
      " 28465.3840903   4629.34741512 10422.76982241  7832.36878608\n",
      "  3217.28163247 10889.34979764  5905.13998095  2461.47830019\n",
      " 33125.59173712 37046.88755649 17383.12869086  7393.0679778\n",
      "  6871.97565038  9928.91068022  7813.81497682 11781.4110195\n",
      "  2729.27515898 37736.61114439 14838.46866728 11977.38275592\n",
      " 12617.90277704 14739.39503245 26427.92019624 30963.01608033\n",
      "   876.71351073  8902.40714565 13388.76671006 12266.59078572\n",
      " 25659.88297049 16913.00952536 11682.29140293 12904.76667391\n",
      "  7467.75046192  9869.81735289 29437.93448324 39365.42398769\n",
      " 12302.5340014  38165.64690851  4689.04593473  9957.33892277\n",
      " 34256.50834639 28575.43525229  9299.53678594  5357.35835162\n",
      " 12629.43951476 31021.56552435  9019.53668817 12432.38001171\n",
      "  8667.72679527  9133.08105869  8676.37551675  7070.18422903\n",
      " 35864.96713081 32858.97460841  7241.76481474 16307.3142988\n",
      "  5103.48834521  8894.89217253  6546.20388538 32266.61636918\n",
      " 31685.77954043  2278.2690133   9977.57036369  7161.78887247\n",
      " 14932.96132696 37890.22778589  9242.58833737 10964.26219042\n",
      " 10272.07185164 26684.70887338 40361.27776473  7766.2890417\n",
      "   657.0324521   9994.99042459 15968.20554647  8665.88056392\n",
      " 34607.77435597  7636.39704966 18162.14344377  8602.78079925\n",
      "  8760.37322361  2364.62618033 32215.5512438  30576.3200839\n",
      " 40359.52349684  6083.10179142  9563.76379999  4234.62321674\n",
      "  8322.19083643  8799.17380103 32273.54147726 30488.26995796\n",
      " 30409.39710956  8930.75875199 32634.60528392  3294.99007803\n",
      "  4107.09068486 11648.11778239 13531.42115164 13174.33312784\n",
      "  5405.42817006 16864.8937252  15766.48843205  1841.23570173\n",
      "   313.88660792 10630.2629693   7131.01649699 32623.14518243\n",
      " 12235.32050866  2933.89561688  6525.38257941  8532.01278901\n",
      "  4424.72695722  2704.3554522  10523.62837961 11765.2473249\n",
      "  6143.93405939 17726.25920779 12310.04897452 14808.95265811\n",
      "  3237.55905513  5733.55939523 23454.33169925  6448.80788221\n",
      "  5193.29273903  6338.74139297  6342.17329252  4452.51935299\n",
      "  9610.14065951  6509.12692135  5349.23818622  6001.93079183\n",
      "  2899.64536012  5505.68153498 36599.35929209  1575.78297586\n",
      " 12295.01902827  8128.59388742 14377.66472452  6517.80629731\n",
      "  4414.23200439 36282.85676809  4556.88644597  2445.23796937\n",
      " 15819.79039965 12082.88359725 34971.75683336  4959.14094472\n",
      "  6140.41019637 31880.51023779  6685.33446394  3010.37835062\n",
      "  7765.15529335  8980.11559121  8296.15270854  5788.01043843\n",
      " 13009.13376689 39297.58997543 13432.27088058 28010.29487104\n",
      "  6362.45071518 35869.06553163  2984.8687788  13119.27689235\n",
      "  9346.44220153  7448.18552226 11461.50725043 14874.39655571\n",
      "  4221.24024767  5395.63037298  8438.68453217  2175.6868427\n",
      "  6714.26060807  4057.17463508 12744.2095971   3403.89216443\n",
      "  9832.77104335  6001.27961781 10279.0276142   2456.23082378\n",
      " 14319.11528051 17537.86375347 15336.98542084 11571.58906692\n",
      "  4993.85844857  3247.44881567  2972.152311   13423.62215911\n",
      " 15307.40810269  3392.97594624  4326.13589672  9621.1641684\n",
      "  9743.43389662 28001.05628452  7395.3354745   9777.60751716\n",
      "  7247.52551998 28555.21913861 11325.32599708  7660.78820037\n",
      "  9411.90142637 12354.71754788  2217.43674534 10964.77541925\n",
      "  1583.29794898  6748.43422862 28614.87167649 38455.36816714\n",
      "  6447.67413385  8947.69623855  2633.0588859    485.46719363\n",
      " 11174.59737183  5305.81065191  3579.5864782   2883.42035655\n",
      "  6531.62585898 33502.35199128 38133.08961066 14444.87821725\n",
      "  8301.30822149 16558.29628898 32325.77100548  8335.48184203\n",
      " 32409.78403959  4464.16338142 29692.47099092  8343.08877862\n",
      " 14073.92465006  3612.62635039 32534.41322798  8180.77743391\n",
      " 12420.79729226  7908.86684706  4272.29004581 13304.72302146\n",
      " 12256.73167967  9072.85398301 13631.64386207  2963.45760779\n",
      " 10534.12333244  5152.17868317  9842.59949491 30886.44138313\n",
      " 10735.90175583  1344.50387054   -82.59185835 39394.9859786\n",
      "  9472.73369434  7208.72494255 13696.58985809 13300.11139183\n",
      " 27859.62755476  7693.8433998   7482.29783382 13333.7564563\n",
      "  3386.59472148  3832.3380635  23693.11045045 26578.58751252\n",
      " 14244.90004348  3414.38711725  5504.59376835  9018.31097635\n",
      " 12823.65698329 23182.48242137 29040.32226862  9887.84260608\n",
      " 23962.67690437  3353.55484929 12663.73575325  8514.65403708\n",
      "  8428.22023383    64.64355838  7991.18692226 35902.12073106\n",
      "  5548.08261164  6077.85431501   578.20558543 11819.72902259\n",
      "  7684.04560273 10726.46391514 39269.76692517 26740.29366494\n",
      " 11389.04628129 35334.65154413 14476.78434109  6494.61020393\n",
      " 11445.84145742  6682.4464477  36850.91582006  6391.99737884\n",
      " 11246.39183971  1303.34383294 24658.25316098  2284.65023807\n",
      " 33664.6326815  12444.05469462  2264.37281541 31807.022811\n",
      "  6331.72432143  6244.74663486 37146.53572912  3320.5149771\n",
      "  8453.7451329   2230.19919487 11580.32975186  1439.52508629\n",
      " 11269.13601324  6564.74236739 36538.52702412  8157.52003156\n",
      " 30283.07496226 29764.93196006  7480.54356594  8730.82655994\n",
      "  2428.438428    3192.95179074  3386.59472148 12981.34137112\n",
      " 36832.98253034 10791.96912172  1338.12264577 11655.63275551\n",
      "  5686.62332516 10965.92449485  5404.2944217   8355.30734484\n",
      "  4691.34408592 28759.83959651  3496.63055623  -279.66668864\n",
      " 33442.71478065 13395.75312711 35797.75363808 10910.79162314\n",
      "  7863.14116156   288.36170885  3082.85464701 11733.93106611\n",
      "  6299.81819759  3591.21517938 11964.62030639  7386.6407713\n",
      "  8035.82484114  4762.64065223  3559.30905554 31891.0358451\n",
      "  4133.74933228  9647.20229629  5764.89098127 13052.66859191\n",
      " 16063.86260899  7972.13521142 25361.35971795 15346.84452689\n",
      " 17974.33785449 12533.78245223]\n",
      "(402,)\n"
     ]
    }
   ],
   "source": [
    "y_pred = clf.predict(X_test) # make predictions for the test data\n",
    "print(y_pred)  # it returns us a `np.ndarray` object\n",
    "print(y_pred.shape)"
   ]
  },
  {
   "cell_type": "code",
   "execution_count": 27,
   "id": "7ab8399b",
   "metadata": {},
   "outputs": [
    {
     "data": {
      "text/plain": [
       "5829.095162568776"
      ]
     },
     "execution_count": 27,
     "metadata": {},
     "output_type": "execute_result"
    }
   ],
   "source": [
    "# Compute mse\n",
    "math.sqrt(mean_squared_error(y_test,y_pred))"
   ]
  },
  {
   "cell_type": "code",
   "execution_count": 28,
   "id": "94cd4a6b",
   "metadata": {},
   "outputs": [
    {
     "data": {
      "text/plain": [
       "0.7869287992473633"
      ]
     },
     "execution_count": 28,
     "metadata": {},
     "output_type": "execute_result"
    }
   ],
   "source": [
    "r2_score(y_test,y_pred)"
   ]
  },
  {
   "cell_type": "markdown",
   "id": "dd24bd17",
   "metadata": {},
   "source": [
    "### Define pickle"
   ]
  },
  {
   "cell_type": "code",
   "execution_count": 29,
   "id": "f3a2c6b7",
   "metadata": {},
   "outputs": [],
   "source": [
    "#use the ridge regression model\n",
    "pickle.dump(clf,open('model.pkl','wb'))"
   ]
  },
  {
   "cell_type": "code",
   "execution_count": 30,
   "id": "8efda0ba",
   "metadata": {},
   "outputs": [],
   "source": [
    "model=pickle.load(open('model.pkl','rb'))"
   ]
  },
  {
   "cell_type": "code",
   "execution_count": 31,
   "id": "a5558d4b",
   "metadata": {},
   "outputs": [],
   "source": [
    "# model.predict(X_test)"
   ]
  },
  {
   "cell_type": "markdown",
   "id": "f1e81882",
   "metadata": {},
   "source": [
    "### Get the csv "
   ]
  },
  {
   "cell_type": "code",
   "execution_count": 13,
   "id": "5a3276c9",
   "metadata": {},
   "outputs": [],
   "source": [
    "# Merge and X and y\n",
    "df = pd.concat([X, y], axis=1)\n",
    "# # Next save as a csv\n",
    "df.to_csv('insurance_1.csv',index=False)"
   ]
  },
  {
   "cell_type": "code",
   "execution_count": 14,
   "id": "4f01a666",
   "metadata": {},
   "outputs": [],
   "source": [
    "df=pd.read_csv('insurance_1.csv')"
   ]
  },
  {
   "cell_type": "code",
   "execution_count": 15,
   "id": "288e0dbf",
   "metadata": {},
   "outputs": [
    {
     "data": {
      "text/html": [
       "<div>\n",
       "<style scoped>\n",
       "    .dataframe tbody tr th:only-of-type {\n",
       "        vertical-align: middle;\n",
       "    }\n",
       "\n",
       "    .dataframe tbody tr th {\n",
       "        vertical-align: top;\n",
       "    }\n",
       "\n",
       "    .dataframe thead th {\n",
       "        text-align: right;\n",
       "    }\n",
       "</style>\n",
       "<table border=\"1\" class=\"dataframe\">\n",
       "  <thead>\n",
       "    <tr style=\"text-align: right;\">\n",
       "      <th></th>\n",
       "      <th>bmi</th>\n",
       "      <th>New_Smoker</th>\n",
       "      <th>age</th>\n",
       "      <th>charges</th>\n",
       "    </tr>\n",
       "  </thead>\n",
       "  <tbody>\n",
       "    <tr>\n",
       "      <th>0</th>\n",
       "      <td>27.900</td>\n",
       "      <td>1</td>\n",
       "      <td>19</td>\n",
       "      <td>16884.92400</td>\n",
       "    </tr>\n",
       "    <tr>\n",
       "      <th>1</th>\n",
       "      <td>33.770</td>\n",
       "      <td>0</td>\n",
       "      <td>18</td>\n",
       "      <td>1725.55230</td>\n",
       "    </tr>\n",
       "    <tr>\n",
       "      <th>2</th>\n",
       "      <td>33.000</td>\n",
       "      <td>0</td>\n",
       "      <td>28</td>\n",
       "      <td>4449.46200</td>\n",
       "    </tr>\n",
       "    <tr>\n",
       "      <th>3</th>\n",
       "      <td>22.705</td>\n",
       "      <td>0</td>\n",
       "      <td>33</td>\n",
       "      <td>21984.47061</td>\n",
       "    </tr>\n",
       "    <tr>\n",
       "      <th>4</th>\n",
       "      <td>28.880</td>\n",
       "      <td>0</td>\n",
       "      <td>32</td>\n",
       "      <td>3866.85520</td>\n",
       "    </tr>\n",
       "    <tr>\n",
       "      <th>5</th>\n",
       "      <td>25.740</td>\n",
       "      <td>0</td>\n",
       "      <td>31</td>\n",
       "      <td>3756.62160</td>\n",
       "    </tr>\n",
       "    <tr>\n",
       "      <th>6</th>\n",
       "      <td>33.440</td>\n",
       "      <td>0</td>\n",
       "      <td>46</td>\n",
       "      <td>8240.58960</td>\n",
       "    </tr>\n",
       "    <tr>\n",
       "      <th>7</th>\n",
       "      <td>27.740</td>\n",
       "      <td>0</td>\n",
       "      <td>37</td>\n",
       "      <td>7281.50560</td>\n",
       "    </tr>\n",
       "    <tr>\n",
       "      <th>8</th>\n",
       "      <td>29.830</td>\n",
       "      <td>0</td>\n",
       "      <td>37</td>\n",
       "      <td>6406.41070</td>\n",
       "    </tr>\n",
       "    <tr>\n",
       "      <th>9</th>\n",
       "      <td>25.840</td>\n",
       "      <td>0</td>\n",
       "      <td>60</td>\n",
       "      <td>28923.13692</td>\n",
       "    </tr>\n",
       "  </tbody>\n",
       "</table>\n",
       "</div>"
      ],
      "text/plain": [
       "      bmi  New_Smoker  age      charges\n",
       "0  27.900           1   19  16884.92400\n",
       "1  33.770           0   18   1725.55230\n",
       "2  33.000           0   28   4449.46200\n",
       "3  22.705           0   33  21984.47061\n",
       "4  28.880           0   32   3866.85520\n",
       "5  25.740           0   31   3756.62160\n",
       "6  33.440           0   46   8240.58960\n",
       "7  27.740           0   37   7281.50560\n",
       "8  29.830           0   37   6406.41070\n",
       "9  25.840           0   60  28923.13692"
      ]
     },
     "execution_count": 15,
     "metadata": {},
     "output_type": "execute_result"
    }
   ],
   "source": [
    "df.head(10)"
   ]
  },
  {
   "cell_type": "markdown",
   "id": "dd7dbf5e",
   "metadata": {},
   "source": [
    "---"
   ]
  },
  {
   "cell_type": "markdown",
   "id": "2a358a87",
   "metadata": {},
   "source": [
    "### Test the loaded model with a new data"
   ]
  },
  {
   "cell_type": "code",
   "execution_count": 157,
   "id": "5feb510b",
   "metadata": {},
   "outputs": [],
   "source": [
    "# pickle.dump(rf,open('model.pkl','wb'))"
   ]
  },
  {
   "cell_type": "code",
   "execution_count": 158,
   "id": "672d4e12",
   "metadata": {},
   "outputs": [],
   "source": [
    "# model=pickle.load(open('model.pkl','rb'))"
   ]
  },
  {
   "cell_type": "code",
   "execution_count": 37,
   "id": "93771341",
   "metadata": {},
   "outputs": [
    {
     "name": "stdout",
     "output_type": "stream",
     "text": [
      "[181307.37633881]\n"
     ]
    }
   ],
   "source": [
    "result=model.predict([[33,0,28]])\n",
    "print(result)"
   ]
  },
  {
   "cell_type": "code",
   "execution_count": null,
   "id": "5ffae347",
   "metadata": {},
   "outputs": [],
   "source": []
  },
  {
   "cell_type": "code",
   "execution_count": null,
   "id": "269cf1a6",
   "metadata": {},
   "outputs": [],
   "source": []
  }
 ],
 "metadata": {
  "kernelspec": {
   "display_name": "Python 3 (ipykernel)",
   "language": "python",
   "name": "python3"
  },
  "language_info": {
   "codemirror_mode": {
    "name": "ipython",
    "version": 3
   },
   "file_extension": ".py",
   "mimetype": "text/x-python",
   "name": "python",
   "nbconvert_exporter": "python",
   "pygments_lexer": "ipython3",
   "version": "3.9.13"
  }
 },
 "nbformat": 4,
 "nbformat_minor": 5
}
